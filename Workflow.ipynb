{
 "cells": [
  {
   "cell_type": "markdown",
   "id": "54184b58",
   "metadata": {},
   "source": [
    "# <span style='color:orange'>Un modelo Tipológico de juguete</span>\n",
    "\n",
    "\n"
   ]
  },
  {
   "cell_type": "markdown",
   "id": "eac15f67",
   "metadata": {},
   "source": [
    "**Los cuadernos en este directorio demuestran el desarrollo y aplicación de un modelo para clasificar fragmentos cerámicos. Puedes reproducir todo el proceso, modificar o entrenar diferentes modelos que se ajusten a tus curiosidades**\n",
    "\n",
    "**El flujo de trabajo está compuesto por los siguientes cuadernos**\n",
    "\n",
    "---\n",
    "\n",
    "**1. [Preproceso](./Multicollinearity.ipynb)**: Análisis estadístico exploratorio e implementación de procesos para la identificación de correlaciones y multicolinearidad entre las variables en nuestro juego de datos.\n",
    "\n",
    "**2. [Fase No-Supervisada](./CCA_Clustering.ipynb)**: Este cuaderno presenta la implementación de los procedimientos necesarios para realizar el agrupamiento de los elementos de nuestro conjunto de datos.\n",
    "\n",
    "**3.[Fase Supervisada](./CCA_Classif.ipynb)**: Este cuaderno presenta el desarrollo y comparación de diferentes algoritmos de clasificación supervisada. Como resultado final el modelo puede ser guardado para su posterior uso en nuevos conjuntos de datos.\n",
    "\n"
   ]
  },
  {
   "cell_type": "markdown",
   "id": "b966f63e",
   "metadata": {},
   "source": [
    "<div style=\"text-align: justify\"> Este trabajo explora la utilidad de la aplicación de un enfoque de adquisición de conocimientos al problema de la clasificación de objetos arqueológicos, particularmente fragmentos cerámicos; uno de los materiales más abundantes en el registro arqueológico y cuya gestión implica mayor costo en términos de tiempo y recursos en el marco de cualquier investigación. Para ello se construyó un modelo tipológico implementando diversas herramientas de los principales paradigmas del aprendizaje de máquinas (aprendizaje no-supervisado y supervisado). El modelo fue implementado sobre un conjunto de datos de cerámicas arqueológicas del caribe colombiano. Los resultados revelan que el modelo funciona mejor cuando se cuenta con tipologías de referencia bien definidas y criterios clasificatorios estandarizados que puedan servir para entrenar algoritmos en tareas de aprendizaje supervisado. Por el contrario, una de sus mayores debilidades es su poca utilidad comparativa. Esto no solo se debe a las herramientas utilizadas sino a la calidad de la información disponible en el contexto de estudio\n",
    "</div>\n",
    " "
   ]
  },
  {
   "cell_type": "markdown",
   "id": "4f1bb341",
   "metadata": {},
   "source": [
    "### 1. Preproceso"
   ]
  },
  {
   "cell_type": "markdown",
   "id": "aa3fcf7d",
   "metadata": {},
   "source": [
    "Ejecuta el siguiente cuaderno para explorar estadísticamente el conjunto de datos y realizar algunos procesos básicos de preprocesamiento\n"
   ]
  },
  {
   "cell_type": "markdown",
   "id": "b7ad7a93",
   "metadata": {},
   "source": [
    "[Preproceso](./Multicollinearity.ipynb)"
   ]
  },
  {
   "cell_type": "markdown",
   "id": "b1302edf",
   "metadata": {},
   "source": [
    "Este cuaderno guarda el conjunto de datos pre-procesado en: `./intermediate_Data/datos_preprocesados`"
   ]
  },
  {
   "cell_type": "markdown",
   "id": "3f3c95c7",
   "metadata": {},
   "source": [
    "### 2. Fase No-Supervisada"
   ]
  },
  {
   "cell_type": "markdown",
   "id": "dc6d9f52",
   "metadata": {},
   "source": [
    "En el siguiente cuaderno se realizan los procedimientos necesarios para ejecutar un análisis de agrupamiento jerárquico del conjunto de datos"
   ]
  },
  {
   "cell_type": "markdown",
   "id": "fb98273d",
   "metadata": {},
   "source": [
    "[Clustering](./CCA_Clustering.ipynb)"
   ]
  },
  {
   "cell_type": "markdown",
   "id": "68795727",
   "metadata": {},
   "source": [
    "Como resultado obtenemos un nuevo dataset supervisado. Esto quiere decir que ahora cada elemento está asignado a un \"tipo\" cerámico determinado. Los datos se guardan en: `./intermediate_data/datos_supervisados`"
   ]
  },
  {
   "cell_type": "markdown",
   "id": "4df85629",
   "metadata": {},
   "source": [
    "### 3. Fase Supervisada"
   ]
  },
  {
   "cell_type": "markdown",
   "id": "f7aa4dc8",
   "metadata": {},
   "source": [
    "[Clasificación](./CCA_Classif.ipynb)"
   ]
  },
  {
   "cell_type": "markdown",
   "id": "83d24459",
   "metadata": {},
   "source": [
    "En este cuaderno se realiza el entrenamiento, evaluación y comparación de diferentes algoritmos de clasificación supervisada. Como resultado, un modelo entrenado se guarda para ser usado despues en la clasificación de nuevos datos"
   ]
  },
  {
   "cell_type": "markdown",
   "id": "987bf32e",
   "metadata": {},
   "source": [
    "---\n",
    "\n",
    "Software, operating system, and hardware information.\n",
    "\n",
    "---"
   ]
  },
  {
   "cell_type": "code",
   "execution_count": 9,
   "id": "0aa43a49",
   "metadata": {
    "tags": []
   },
   "outputs": [
    {
     "name": "stdout",
     "output_type": "stream",
     "text": [
      "The watermark extension is already loaded. To reload it, use:\n",
      "  %reload_ext watermark\n",
      "Python implementation: CPython\n",
      "Python version       : 3.8.10\n",
      "IPython version      : 7.34.0\n",
      "\n",
      "ipywidgets: 7.7.5\n",
      "matplotlib: 3.6.3\n",
      "numpy     : 1.23.5\n",
      "pandas    : 1.4.4\n",
      "sklearn   : 1.2.2\n",
      "pycaret   : 3.0.4\n",
      "jupyterlab: 3.6.1\n",
      "seaborn   : 0.12.2\n",
      "scipy     : 1.10.1\n",
      "\n",
      "Compiler    : GCC 9.4.0\n",
      "OS          : Linux\n",
      "Release     : 5.15.0-105-generic\n",
      "Machine     : x86_64\n",
      "Processor   : x86_64\n",
      "CPU cores   : 4\n",
      "Architecture: 64bit\n",
      "\n"
     ]
    }
   ],
   "source": [
    "%load_ext watermark\n",
    "%watermark -v -m -p ipywidgets,matplotlib,numpy,pandas,sklearn,pycaret,jupyterlab,seaborn,scipy"
   ]
  },
  {
   "cell_type": "markdown",
   "id": "02e1d1c6",
   "metadata": {},
   "source": [
    "---\n",
    "\n",
    "**Authors:** [Daniel Sanchez-Gomez](mailto:daniel-sanchez-gomez@edu.ulisboa.pt), Universidade de Lisboa, Mayo 2024\n",
    "\n",
    "---"
   ]
  }
 ],
 "metadata": {
  "kernelspec": {
   "display_name": "Python 3 (ipykernel)",
   "language": "python",
   "name": "python3"
  },
  "language_info": {
   "codemirror_mode": {
    "name": "ipython",
    "version": 3
   },
   "file_extension": ".py",
   "mimetype": "text/x-python",
   "name": "python",
   "nbconvert_exporter": "python",
   "pygments_lexer": "ipython3",
   "version": "3.8.10"
  }
 },
 "nbformat": 4,
 "nbformat_minor": 5
}
