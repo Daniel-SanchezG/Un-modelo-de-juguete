{
 "cells": [
  {
   "cell_type": "code",
   "execution_count": 11,
   "id": "e1ab31bc-0b24-4551-8e5e-7a5727eefee3",
   "metadata": {
    "tags": []
   },
   "outputs": [
    {
     "name": "stdout",
     "output_type": "stream",
     "text": [
      "Populating the interactive namespace from numpy and matplotlib\n"
     ]
    }
   ],
   "source": [
    "%pylab inline\n",
    "import plotly.figure_factory as ff\n",
    "import numpy as np\n",
    "import pandas as pd\n",
    "import gower\n",
    "import matplotlib.pyplot as plt\n",
    "from scipy.cluster.hierarchy import linkage, fcluster, dendrogram, set_link_color_palette\n",
    "from pycaret.clustering import *\n",
    "from ipywidgets import *\n",
    "import seaborn as sns\n"
   ]
  },
  {
   "cell_type": "code",
   "execution_count": 12,
   "id": "5761710f-ff46-4e04-a763-508abc1257b4",
   "metadata": {
    "tags": []
   },
   "outputs": [
    {
     "name": "stdout",
     "output_type": "stream",
     "text": [
      "<class 'pandas.core.frame.DataFrame'>\n",
      "RangeIndex: 578 entries, 0 to 577\n",
      "Data columns (total 17 columns):\n",
      " #   Column           Non-Null Count  Dtype\n",
      "---  ------           --------------  -----\n",
      " 0   Unnamed: 0       578 non-null    int64\n",
      " 1   Coccion          578 non-null    int64\n",
      " 2   T_desgrasante    578 non-null    int64\n",
      " 3   Composicion      578 non-null    int64\n",
      " 4   Densidad         578 non-null    int64\n",
      " 5   Textura          578 non-null    int64\n",
      " 6   Grosor₍mm)       578 non-null    int64\n",
      " 7   Tamaño(cm)       578 non-null    int64\n",
      " 8   Acabado_Interno  578 non-null    int64\n",
      " 9   Acabado_Externo  578 non-null    int64\n",
      " 10  Dureza           578 non-null    int64\n",
      " 11  Ahumado          578 non-null    int64\n",
      " 12  Tecnica          578 non-null    int64\n",
      " 13  Elemento₁        578 non-null    int64\n",
      " 14  Localizacion     578 non-null    int64\n",
      " 15  Baño             578 non-null    int64\n",
      " 16  Engobe           578 non-null    int64\n",
      "dtypes: int64(17)\n",
      "memory usage: 76.9 KB\n"
     ]
    }
   ],
   "source": [
    "#df = pd.read_excel(\"/home/dsg/Escritorio/CCA2024/DATA/cuerpos_preprocessed.xlsx\",sheet_name='encoded_int', engine='openpyxl')\n",
    "df = pd.read_csv(\"./intermediate_data/datos_preprocesados.csv\")\n",
    "df.info()"
   ]
  },
  {
   "cell_type": "code",
   "execution_count": 5,
   "id": "792a66c0-93c0-4810-8ffd-d23a8b632932",
   "metadata": {
    "tags": []
   },
   "outputs": [
    {
     "name": "stdout",
     "output_type": "stream",
     "text": [
      "<class 'pandas.core.frame.DataFrame'>\n",
      "RangeIndex: 578 entries, 0 to 577\n",
      "Data columns (total 16 columns):\n",
      " #   Column           Non-Null Count  Dtype\n",
      "---  ------           --------------  -----\n",
      " 0   Coccion          578 non-null    int64\n",
      " 1   T_desgrasante    578 non-null    int64\n",
      " 2   Composicion      578 non-null    int64\n",
      " 3   Densidad         578 non-null    int64\n",
      " 4   Textura          578 non-null    int64\n",
      " 5   Grosor₍mm)       578 non-null    int64\n",
      " 6   Tamaño(cm)       578 non-null    int64\n",
      " 7   Acabado_Interno  578 non-null    int64\n",
      " 8   Acabado_Externo  578 non-null    int64\n",
      " 9   Dureza           578 non-null    int64\n",
      " 10  Ahumado          578 non-null    int64\n",
      " 11  Tecnica          578 non-null    int64\n",
      " 12  Elemento₁        578 non-null    int64\n",
      " 13  Localizacion     578 non-null    int64\n",
      " 14  Baño             578 non-null    int64\n",
      " 15  Engobe           578 non-null    int64\n",
      "dtypes: int64(16)\n",
      "memory usage: 72.4 KB\n"
     ]
    }
   ],
   "source": [
    "df = df.drop(['Unnamed: 0'], axis=1)\n",
    "\n",
    "df.info()"
   ]
  },
  {
   "cell_type": "code",
   "execution_count": 6,
   "id": "edf6a338-c5d5-4b38-841a-5987287eac84",
   "metadata": {},
   "outputs": [
    {
     "data": {
      "text/html": [
       "<div>\n",
       "<style scoped>\n",
       "    .dataframe tbody tr th:only-of-type {\n",
       "        vertical-align: middle;\n",
       "    }\n",
       "\n",
       "    .dataframe tbody tr th {\n",
       "        vertical-align: top;\n",
       "    }\n",
       "\n",
       "    .dataframe thead th {\n",
       "        text-align: right;\n",
       "    }\n",
       "</style>\n",
       "<table border=\"1\" class=\"dataframe\">\n",
       "  <thead>\n",
       "    <tr style=\"text-align: right;\">\n",
       "      <th></th>\n",
       "      <th>Coccion</th>\n",
       "      <th>T_desgrasante</th>\n",
       "      <th>Composicion</th>\n",
       "      <th>Densidad</th>\n",
       "      <th>Textura</th>\n",
       "      <th>Grosor₍mm)</th>\n",
       "      <th>Tamaño(cm)</th>\n",
       "      <th>Acabado_Interno</th>\n",
       "      <th>Acabado_Externo</th>\n",
       "      <th>Dureza</th>\n",
       "      <th>Ahumado</th>\n",
       "      <th>Tecnica</th>\n",
       "      <th>Elemento₁</th>\n",
       "      <th>Localizacion</th>\n",
       "      <th>Baño</th>\n",
       "      <th>Engobe</th>\n",
       "    </tr>\n",
       "  </thead>\n",
       "  <tbody>\n",
       "    <tr>\n",
       "      <th>0</th>\n",
       "      <td>1.0</td>\n",
       "      <td>2.0</td>\n",
       "      <td>5.0</td>\n",
       "      <td>1.0</td>\n",
       "      <td>0.0</td>\n",
       "      <td>7.0</td>\n",
       "      <td>3.0</td>\n",
       "      <td>2.0</td>\n",
       "      <td>2.0</td>\n",
       "      <td>0.0</td>\n",
       "      <td>0.0</td>\n",
       "      <td>0.0</td>\n",
       "      <td>0.0</td>\n",
       "      <td>0.0</td>\n",
       "      <td>0.0</td>\n",
       "      <td>0.0</td>\n",
       "    </tr>\n",
       "    <tr>\n",
       "      <th>1</th>\n",
       "      <td>0.0</td>\n",
       "      <td>2.0</td>\n",
       "      <td>6.0</td>\n",
       "      <td>0.0</td>\n",
       "      <td>0.0</td>\n",
       "      <td>12.0</td>\n",
       "      <td>5.0</td>\n",
       "      <td>2.0</td>\n",
       "      <td>2.0</td>\n",
       "      <td>0.0</td>\n",
       "      <td>0.0</td>\n",
       "      <td>0.0</td>\n",
       "      <td>0.0</td>\n",
       "      <td>0.0</td>\n",
       "      <td>0.0</td>\n",
       "      <td>0.0</td>\n",
       "    </tr>\n",
       "    <tr>\n",
       "      <th>2</th>\n",
       "      <td>0.0</td>\n",
       "      <td>2.0</td>\n",
       "      <td>6.0</td>\n",
       "      <td>0.0</td>\n",
       "      <td>0.0</td>\n",
       "      <td>8.0</td>\n",
       "      <td>3.0</td>\n",
       "      <td>2.0</td>\n",
       "      <td>2.0</td>\n",
       "      <td>0.0</td>\n",
       "      <td>0.0</td>\n",
       "      <td>0.0</td>\n",
       "      <td>0.0</td>\n",
       "      <td>0.0</td>\n",
       "      <td>0.0</td>\n",
       "      <td>0.0</td>\n",
       "    </tr>\n",
       "    <tr>\n",
       "      <th>3</th>\n",
       "      <td>0.0</td>\n",
       "      <td>2.0</td>\n",
       "      <td>6.0</td>\n",
       "      <td>1.0</td>\n",
       "      <td>0.0</td>\n",
       "      <td>10.0</td>\n",
       "      <td>3.0</td>\n",
       "      <td>1.0</td>\n",
       "      <td>1.0</td>\n",
       "      <td>1.0</td>\n",
       "      <td>0.0</td>\n",
       "      <td>0.0</td>\n",
       "      <td>0.0</td>\n",
       "      <td>0.0</td>\n",
       "      <td>0.0</td>\n",
       "      <td>0.0</td>\n",
       "    </tr>\n",
       "    <tr>\n",
       "      <th>4</th>\n",
       "      <td>0.0</td>\n",
       "      <td>1.0</td>\n",
       "      <td>6.0</td>\n",
       "      <td>0.0</td>\n",
       "      <td>0.0</td>\n",
       "      <td>7.0</td>\n",
       "      <td>3.0</td>\n",
       "      <td>1.0</td>\n",
       "      <td>2.0</td>\n",
       "      <td>0.0</td>\n",
       "      <td>0.0</td>\n",
       "      <td>2.0</td>\n",
       "      <td>1.0</td>\n",
       "      <td>1.0</td>\n",
       "      <td>0.0</td>\n",
       "      <td>0.0</td>\n",
       "    </tr>\n",
       "  </tbody>\n",
       "</table>\n",
       "</div>"
      ],
      "text/plain": [
       "   Coccion  T_desgrasante  Composicion  Densidad  Textura  Grosor₍mm)  \\\n",
       "0      1.0            2.0          5.0       1.0      0.0         7.0   \n",
       "1      0.0            2.0          6.0       0.0      0.0        12.0   \n",
       "2      0.0            2.0          6.0       0.0      0.0         8.0   \n",
       "3      0.0            2.0          6.0       1.0      0.0        10.0   \n",
       "4      0.0            1.0          6.0       0.0      0.0         7.0   \n",
       "\n",
       "   Tamaño(cm)  Acabado_Interno  Acabado_Externo  Dureza  Ahumado  Tecnica  \\\n",
       "0         3.0              2.0              2.0     0.0      0.0      0.0   \n",
       "1         5.0              2.0              2.0     0.0      0.0      0.0   \n",
       "2         3.0              2.0              2.0     0.0      0.0      0.0   \n",
       "3         3.0              1.0              1.0     1.0      0.0      0.0   \n",
       "4         3.0              1.0              2.0     0.0      0.0      2.0   \n",
       "\n",
       "   Elemento₁  Localizacion  Baño  Engobe  \n",
       "0        0.0           0.0   0.0     0.0  \n",
       "1        0.0           0.0   0.0     0.0  \n",
       "2        0.0           0.0   0.0     0.0  \n",
       "3        0.0           0.0   0.0     0.0  \n",
       "4        1.0           1.0   0.0     0.0  "
      ]
     },
     "execution_count": 6,
     "metadata": {},
     "output_type": "execute_result"
    }
   ],
   "source": [
    "#Matriz de similaridad con distancia Gower\n",
    "gower_df = df.copy().astype(float)\n",
    "gower_df.head()"
   ]
  },
  {
   "cell_type": "code",
   "execution_count": 7,
   "id": "b34bbb96-2612-48ad-a582-6d5ed1b9acf0",
   "metadata": {
    "tags": []
   },
   "outputs": [
    {
     "data": {
      "text/plain": [
       "array([[0.        , 0.17063493, 0.1388889 , ..., 0.16865079, 0.19097222,\n",
       "        0.19097222],\n",
       "       [0.17063493, 0.        , 0.03174603, ..., 0.06150794, 0.09077381,\n",
       "        0.11160714],\n",
       "       [0.1388889 , 0.03174603, 0.        , ..., 0.0297619 , 0.05902778,\n",
       "        0.07986111],\n",
       "       ...,\n",
       "       [0.16865079, 0.06150794, 0.0297619 , ..., 0.        , 0.04712301,\n",
       "        0.10962301],\n",
       "       [0.19097222, 0.09077381, 0.05902778, ..., 0.04712301, 0.        ,\n",
       "        0.0625    ],\n",
       "       [0.19097222, 0.11160714, 0.07986111, ..., 0.10962301, 0.0625    ,\n",
       "        0.        ]], dtype=float32)"
      ]
     },
     "execution_count": 7,
     "metadata": {},
     "output_type": "execute_result"
    }
   ],
   "source": [
    "D = gower.gower_matrix(gower_df)\n",
    "D"
   ]
  },
  {
   "cell_type": "markdown",
   "id": "a0b07d0e-d765-4ffd-8f46-fde51aa24081",
   "metadata": {},
   "source": [
    "La función linkage a la que apuntamos con la variable Z a continuación permite los siguientes valores : \"Single\", \"Average\", \"Complete\", \"Ward\". Es importante tener en cuenta esto para el calculo pos"
   ]
  },
  {
   "cell_type": "code",
   "execution_count": 15,
   "id": "5f32b7f3-f798-4d24-8302-001165b50802",
   "metadata": {
    "tags": []
   },
   "outputs": [
    {
     "data": {
      "image/png": "[encoded data removed]",
      "text/plain": [
       "<Figure size 3000x2000 with 1 Axes>"
      ]
     },
     "metadata": {},
     "output_type": "display_data"
    }
   ],
   "source": [
    "# CLustering jerarquico\n",
    "max_d= 2.6\n",
    "Z = linkage(D, 'average')\n",
    "set_link_color_palette(['b', 'm', 'k', 'r'])\n",
    "fig = plt.figure(figsize=(30, 20), linewidth=2)\n",
    "\n",
    "dn = dendrogram(Z, color_threshold=max_d, no_labels=True)\n",
    "plt.axhline(y=max_d, xmin=0, xmax=577, color='r')\n",
    "plt.title('Hierarchical Clustering Dendrogram',fontsize=30)\n",
    "plt.xlabel('Fragmentos', fontsize=30)\n",
    "plt.ylabel('Distancia', fontsize=30)\n",
    "#plt.savefig(\"/home/dsg/Escritorio/CCA2024/figures/dendrograma.png\",bbox_inches='tight')\n",
    "plt.show()\n",
    "\n"
   ]
  },
  {
   "cell_type": "code",
   "execution_count": 17,
   "id": "e16c4a7f-b996-407d-a46b-f018137fbf43",
   "metadata": {
    "tags": []
   },
   "outputs": [
    {
     "data": {
      "text/plain": [
       "2    467\n",
       "1     90\n",
       "4     11\n",
       "3     10\n",
       "dtype: int64"
      ]
     },
     "execution_count": 17,
     "metadata": {},
     "output_type": "execute_result"
    }
   ],
   "source": [
    "# Elección del nivel de corte del dendrográma para establece rnúmero de grupos\n",
    "clu = fcluster(Z, max_d, criterion='distance')\n",
    "clusters = pd.Series(clu)\n",
    "#Cantidad de fragmentos agrupado en cada clúster\n",
    "clusters.value_counts(ascending=[False])"
   ]
  },
  {
   "cell_type": "code",
   "execution_count": 18,
   "id": "4cab982c-e032-46b5-9c9e-2e1396f3d6a9",
   "metadata": {
    "tags": []
   },
   "outputs": [
    {
     "data": {
      "text/html": [
       "<div>\n",
       "<style scoped>\n",
       "    .dataframe tbody tr th:only-of-type {\n",
       "        vertical-align: middle;\n",
       "    }\n",
       "\n",
       "    .dataframe tbody tr th {\n",
       "        vertical-align: top;\n",
       "    }\n",
       "\n",
       "    .dataframe thead th {\n",
       "        text-align: right;\n",
       "    }\n",
       "</style>\n",
       "<table border=\"1\" class=\"dataframe\">\n",
       "  <thead>\n",
       "    <tr style=\"text-align: right;\">\n",
       "      <th></th>\n",
       "      <th>Unnamed: 0</th>\n",
       "      <th>Coccion</th>\n",
       "      <th>T_desgrasante</th>\n",
       "      <th>Composicion</th>\n",
       "      <th>Densidad</th>\n",
       "      <th>Textura</th>\n",
       "      <th>Grosor₍mm)</th>\n",
       "      <th>Tamaño(cm)</th>\n",
       "      <th>Acabado_Interno</th>\n",
       "      <th>Acabado_Externo</th>\n",
       "      <th>Dureza</th>\n",
       "      <th>Ahumado</th>\n",
       "      <th>Tecnica</th>\n",
       "      <th>Elemento₁</th>\n",
       "      <th>Localizacion</th>\n",
       "      <th>Baño</th>\n",
       "      <th>Engobe</th>\n",
       "      <th>cluster</th>\n",
       "    </tr>\n",
       "  </thead>\n",
       "  <tbody>\n",
       "    <tr>\n",
       "      <th>0</th>\n",
       "      <td>0</td>\n",
       "      <td>1</td>\n",
       "      <td>2</td>\n",
       "      <td>5</td>\n",
       "      <td>1</td>\n",
       "      <td>0</td>\n",
       "      <td>7</td>\n",
       "      <td>3</td>\n",
       "      <td>2</td>\n",
       "      <td>2</td>\n",
       "      <td>0</td>\n",
       "      <td>0</td>\n",
       "      <td>0</td>\n",
       "      <td>0</td>\n",
       "      <td>0</td>\n",
       "      <td>0</td>\n",
       "      <td>0</td>\n",
       "      <td>1</td>\n",
       "    </tr>\n",
       "    <tr>\n",
       "      <th>1</th>\n",
       "      <td>1</td>\n",
       "      <td>0</td>\n",
       "      <td>2</td>\n",
       "      <td>6</td>\n",
       "      <td>0</td>\n",
       "      <td>0</td>\n",
       "      <td>12</td>\n",
       "      <td>5</td>\n",
       "      <td>2</td>\n",
       "      <td>2</td>\n",
       "      <td>0</td>\n",
       "      <td>0</td>\n",
       "      <td>0</td>\n",
       "      <td>0</td>\n",
       "      <td>0</td>\n",
       "      <td>0</td>\n",
       "      <td>0</td>\n",
       "      <td>2</td>\n",
       "    </tr>\n",
       "    <tr>\n",
       "      <th>2</th>\n",
       "      <td>2</td>\n",
       "      <td>0</td>\n",
       "      <td>2</td>\n",
       "      <td>6</td>\n",
       "      <td>0</td>\n",
       "      <td>0</td>\n",
       "      <td>8</td>\n",
       "      <td>3</td>\n",
       "      <td>2</td>\n",
       "      <td>2</td>\n",
       "      <td>0</td>\n",
       "      <td>0</td>\n",
       "      <td>0</td>\n",
       "      <td>0</td>\n",
       "      <td>0</td>\n",
       "      <td>0</td>\n",
       "      <td>0</td>\n",
       "      <td>2</td>\n",
       "    </tr>\n",
       "    <tr>\n",
       "      <th>3</th>\n",
       "      <td>3</td>\n",
       "      <td>0</td>\n",
       "      <td>2</td>\n",
       "      <td>6</td>\n",
       "      <td>1</td>\n",
       "      <td>0</td>\n",
       "      <td>10</td>\n",
       "      <td>3</td>\n",
       "      <td>1</td>\n",
       "      <td>1</td>\n",
       "      <td>1</td>\n",
       "      <td>0</td>\n",
       "      <td>0</td>\n",
       "      <td>0</td>\n",
       "      <td>0</td>\n",
       "      <td>0</td>\n",
       "      <td>0</td>\n",
       "      <td>1</td>\n",
       "    </tr>\n",
       "    <tr>\n",
       "      <th>4</th>\n",
       "      <td>4</td>\n",
       "      <td>0</td>\n",
       "      <td>1</td>\n",
       "      <td>6</td>\n",
       "      <td>0</td>\n",
       "      <td>0</td>\n",
       "      <td>7</td>\n",
       "      <td>3</td>\n",
       "      <td>1</td>\n",
       "      <td>2</td>\n",
       "      <td>0</td>\n",
       "      <td>0</td>\n",
       "      <td>2</td>\n",
       "      <td>1</td>\n",
       "      <td>1</td>\n",
       "      <td>0</td>\n",
       "      <td>0</td>\n",
       "      <td>2</td>\n",
       "    </tr>\n",
       "  </tbody>\n",
       "</table>\n",
       "</div>"
      ],
      "text/plain": [
       "   Unnamed: 0  Coccion  T_desgrasante  Composicion  Densidad  Textura  \\\n",
       "0           0        1              2            5         1        0   \n",
       "1           1        0              2            6         0        0   \n",
       "2           2        0              2            6         0        0   \n",
       "3           3        0              2            6         1        0   \n",
       "4           4        0              1            6         0        0   \n",
       "\n",
       "   Grosor₍mm)  Tamaño(cm)  Acabado_Interno  Acabado_Externo  Dureza  Ahumado  \\\n",
       "0           7           3                2                2       0        0   \n",
       "1          12           5                2                2       0        0   \n",
       "2           8           3                2                2       0        0   \n",
       "3          10           3                1                1       1        0   \n",
       "4           7           3                1                2       0        0   \n",
       "\n",
       "   Tecnica  Elemento₁  Localizacion  Baño  Engobe  cluster  \n",
       "0        0          0             0     0       0        1  \n",
       "1        0          0             0     0       0        2  \n",
       "2        0          0             0     0       0        2  \n",
       "3        0          0             0     0       0        1  \n",
       "4        2          1             1     0       0        2  "
      ]
     },
     "execution_count": 18,
     "metadata": {},
     "output_type": "execute_result"
    }
   ],
   "source": [
    "df['cluster'] = clusters\n",
    "df.head()"
   ]
  },
  {
   "cell_type": "markdown",
   "id": "6cc82df9-63f3-4ecc-984c-6c7f73c0e966",
   "metadata": {},
   "source": [
    "**Como resultado de la implementación del algoritmo no-supervisado de agrupamiento jerárquico tenemos ahora una nueva columna en nuestro dataset que permite asociar cada fragmento a uno de los cuatro clusters (\"tipos\") creados.\n",
    "Lo guardamos para la siguiente fase**\n"
   ]
  },
  {
   "cell_type": "code",
   "execution_count": 19,
   "id": "5b8a0b36-8f08-405d-9164-1f64c7b3844f",
   "metadata": {
    "tags": []
   },
   "outputs": [],
   "source": [
    "df.to_csv('./intermediate_data/datos_supervisado.csv')"
   ]
  },
  {
   "cell_type": "markdown",
   "id": "76a96416-6972-42a1-a56e-f5ab1676b7bd",
   "metadata": {},
   "source": [
    "El [coeficiente de correlación cofenética](https://en.wikipedia.org/wiki/Cophenetic_correlation) es usado como una heurística para medir la fidelidad con la que un dendrograma preserva las distancias entre pares entre los puntos de datos originales no modelados.\n",
    "\n",
    "Como ejercicio hemos experimentado con los diferentes métodos de agrupamamiento disponible. La intuición detras de este ejercicio es que el mayor valor en el computo del coeficiente indica una mayor fidelidad en el agrupamiento creado"
   ]
  },
  {
   "cell_type": "code",
   "execution_count": 9,
   "id": "440f5865-e561-4157-bd63-b48f93bf73f5",
   "metadata": {
    "tags": []
   },
   "outputs": [
    {
     "data": {
      "text/plain": [
       "0.649767838082807"
      ]
     },
     "execution_count": 9,
     "metadata": {},
     "output_type": "execute_result"
    }
   ],
   "source": [
    "#Coeficiente cofenético para evaluar el grado de \"exactitud\" del método de agrupación usado\n",
    "\n",
    "from scipy.cluster.hierarchy import cophenet\n",
    "from scipy.spatial.distance import pdist\n",
    "c, coph_dists = cophenet(Z, pdist(D))\n",
    "c"
   ]
  },
  {
   "cell_type": "code",
   "execution_count": 10,
   "id": "0d124f7c-6139-48dd-961c-a87129b2e6a7",
   "metadata": {
    "tags": []
   },
   "outputs": [
    {
     "data": {
      "text/html": [
       "<div>\n",
       "<style scoped>\n",
       "    .dataframe tbody tr th:only-of-type {\n",
       "        vertical-align: middle;\n",
       "    }\n",
       "\n",
       "    .dataframe tbody tr th {\n",
       "        vertical-align: top;\n",
       "    }\n",
       "\n",
       "    .dataframe thead th {\n",
       "        text-align: right;\n",
       "    }\n",
       "</style>\n",
       "<table border=\"1\" class=\"dataframe\">\n",
       "  <thead>\n",
       "    <tr style=\"text-align: right;\">\n",
       "      <th></th>\n",
       "      <th>cophenetic</th>\n",
       "    </tr>\n",
       "  </thead>\n",
       "  <tbody>\n",
       "    <tr>\n",
       "      <th>Single</th>\n",
       "      <td>0.71</td>\n",
       "    </tr>\n",
       "    <tr>\n",
       "      <th>Average</th>\n",
       "      <td>0.81</td>\n",
       "    </tr>\n",
       "    <tr>\n",
       "      <th>Complete</th>\n",
       "      <td>0.83</td>\n",
       "    </tr>\n",
       "    <tr>\n",
       "      <th>Ward</th>\n",
       "      <td>0.65</td>\n",
       "    </tr>\n",
       "  </tbody>\n",
       "</table>\n",
       "</div>"
      ],
      "text/plain": [
       "          cophenetic\n",
       "Single          0.71\n",
       "Average         0.81\n",
       "Complete        0.83\n",
       "Ward            0.65"
      ]
     },
     "execution_count": 10,
     "metadata": {},
     "output_type": "execute_result"
    }
   ],
   "source": [
    "df = pd.DataFrame({\"cophenetic\":[0.71, 0.81, 0.83, 0.65]},\n",
    "                  index=[\"Single\", \"Average\", \"Complete\", \"Ward\"])\n",
    "df"
   ]
  },
  {
   "cell_type": "code",
   "execution_count": null,
   "id": "eada6bfe-f2ae-4afb-a6c4-095537a42da4",
   "metadata": {},
   "outputs": [],
   "source": [
    "df['cophenetic'].mean()\n",
    "\n",
    "df.loc[\"media\"] = df.mean(axis=0)\n",
    "df.loc[\"mediana\"] = df.median(axis=0)\n"
   ]
  },
  {
   "cell_type": "code",
   "execution_count": null,
   "id": "b078df4f-032b-45d0-ad02-737f74952eab",
   "metadata": {},
   "outputs": [],
   "source": [
    "df.to_csv('./intermediate_data/cophenetic_correlation.csv')"
   ]
  },
  {
   "cell_type": "code",
   "execution_count": 17,
   "id": "060c42b4-5741-4876-915a-d400ed4758c4",
   "metadata": {
    "tags": []
   },
   "outputs": [],
   "source": []
  }
 ],
 "metadata": {
  "kernelspec": {
   "display_name": "Python 3 (ipykernel)",
   "language": "python",
   "name": "python3"
  },
  "language_info": {
   "codemirror_mode": {
    "name": "ipython",
    "version": 3
   },
   "file_extension": ".py",
   "mimetype": "text/x-python",
   "name": "python",
   "nbconvert_exporter": "python",
   "pygments_lexer": "ipython3",
   "version": "3.8.10"
  }
 },
 "nbformat": 4,
 "nbformat_minor": 5
}
