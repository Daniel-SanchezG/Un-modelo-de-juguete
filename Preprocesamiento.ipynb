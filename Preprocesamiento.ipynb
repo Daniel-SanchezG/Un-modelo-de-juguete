{
 "cells": [
  {
   "cell_type": "markdown",
   "id": "3c5f6be6-da20-4e75-a7d8-432444f82c91",
   "metadata": {},
   "source": [
    "# **<span style='color:orange'>Preprocesamiento</span>**\n",
    "\n",
    "### Aqui se realiza el análisis estadístico exploratorio y el preprocesamiento de los datos.\n",
    "\n",
    "**El objetivo final es preparar el conjunto de datos para la aplicación de algoritmos de Machine Learning**"
   ]
  },
  {
   "cell_type": "markdown",
   "id": "eb3e5f92-ecad-426d-b70b-fbe47008c1ac",
   "metadata": {},
   "source": [
    "#### Exploración estadística "
   ]
  },
  {
   "cell_type": "code",
   "execution_count": null,
   "id": "af22afdc-03ab-4223-b08f-3b2071789c5c",
   "metadata": {},
   "outputs": [],
   "source": [
    "#Importamos las herramientas necesarias\n",
    "\n",
    "import numpy as np # funciones matemáticas\n",
    "import pandas as pd # herramientas de analisis de datos\n",
    "from statsmodels.stats.outliers_influence import variance_inflation_factor\n",
    "from sklearn.preprocessing import OrdinalEncoder #herrmaienta para convertir a valores enteros\n",
    "from sklearn.preprocessing import OneHotEncoder #herramienta para binarizar variables\n",
    "import seaborn as sns # Visualization\n",
    "import matplotlib.pyplot as plt"
   ]
  },
  {
   "cell_type": "code",
   "execution_count": null,
   "id": "04266254-be51-4547-b196-d063b4a69424",
   "metadata": {
    "tags": []
   },
   "outputs": [],
   "source": [
    "#importamos los datos y los leemos con la función pd.read_excel.\n",
    "#De ahora en adelante cada vez que declaremos df estaremos haciendo referencia a nuestros datos\n",
    "\n",
    "df = pd.read_excel(\"./DATA/fragmentos.xlsx\",sheet_name='dset', engine='openpyxl')\n"
   ]
  },
  {
   "cell_type": "code",
   "execution_count": null,
   "id": "00ece0ed-203e-4fd8-9051-7735b8a0c735",
   "metadata": {
    "tags": []
   },
   "outputs": [],
   "source": [
    "df.info() #información básica  sobre el dataset"
   ]
  },
  {
   "cell_type": "markdown",
   "id": "4f2fb526-3ec7-45d6-a455-ce3a8e0a0bbd",
   "metadata": {},
   "source": [
    "Exploremos la información que el comando **df.info()** nos brinda:\n",
    "\n",
    "* Tenemos 578 entradas que corresponden al número de fragmentos númerados en un indice del 0 al 577\n",
    "* Tenemos un total de 22 columnas (numeradas de 0 a 21) que representan cada una de las caracteristicas con las que describimos los fragmentos.\n",
    "* En esta tabla resúmen, la columna Non-Null count nos informa sobre el número de valores faltantes en cada columna. Como observamos no tenemos valores faltantes en nuestros datos. \n",
    "* La columna Dtype nos informa sobre el tipo de datos que contiene nuestra matriz, el tipo **int64** corresponde a  vaiables numéricas mientras que **object** se refiere a variables categóricas. Como podemos observar la nuestra es una **matriz de datos mixta** con 19 variables categóricas y 2 numéricas"
   ]
  },
  {
   "cell_type": "markdown",
   "id": "1c5a3ce4-ca9d-41cb-9fa0-f53e65fa90a5",
   "metadata": {},
   "source": [
    "**El proximo paso es convertir las columnas categóricas en numéricas**\n",
    "\n",
    "Para esto vamos a separar separar las variables ordinales de las nominales para aplicar diferentes procedimientos.\n",
    "\n",
    "**```Recordemos que las variables ordinales tienen una relación de orden mientras que las nominales solo describen en el fondo la presencia o ausencia de una caracteristica```**\n"
   ]
  },
  {
   "cell_type": "code",
   "execution_count": null,
   "id": "0b863770-8225-4652-a069-3f33cf85b305",
   "metadata": {
    "tags": []
   },
   "outputs": [],
   "source": [
    "datos_numericos = df.select_dtypes(include=[np.number])\n",
    "datos_numericos.info()"
   ]
  },
  {
   "cell_type": "markdown",
   "id": "5149324a-22f4-4dc5-8b0f-99845f848ca2",
   "metadata": {},
   "source": [
    "**El siguiente paso es convertir las columnas categóricas en numéricas y simplificar tanto como sea posible nuestro espacio predictor, es decir eliminar las columnas que no son realmente importantes para la clasificación cerámica**\n",
    "\n",
    "Exploremos un momento la variable decoración:"
   ]
  },
  {
   "cell_type": "code",
   "execution_count": null,
   "id": "31682532-23d4-4cd0-a37c-7a76f1451b9d",
   "metadata": {
    "tags": []
   },
   "outputs": [],
   "source": [
    "#df['Elemento'].value_counts()\n",
    "df['Decoracion'].value_counts()"
   ]
  },
  {
   "cell_type": "code",
   "execution_count": null,
   "id": "bbc841b0-e7c9-45ec-bee0-0dfab13174cd",
   "metadata": {
    "tags": []
   },
   "outputs": [],
   "source": [
    " (df['Decoracion'].value_counts()['Ausente'] / df.shape[0]) * 100"
   ]
  },
  {
   "cell_type": "markdown",
   "id": "9191ca05-fd6c-4d77-b33e-bb640a233f1a",
   "metadata": {},
   "source": [
    "**557** fragmentos, es decir el **96,36%** de los fragmentos no tienen ninguna decoración, por lo tanto no es posible utilizar las variables decorativas en nuestro problema debido a que no tenemos datos suficientes para considerar su información representativa.\n",
    "Tampoco vamos a utilizar las variables relativas al color porque queremos reducir al maximo posible los sesgos producto de la percepción de los analístas. El color es muy susceptible de ser percibido de forma diferente por diferentes personas asi que eliminaremos toda la información relativa al color de los fragmentos"
   ]
  },
  {
   "cell_type": "code",
   "execution_count": null,
   "id": "0a971700-d7da-4c2c-97e1-41d7f7c83bed",
   "metadata": {
    "tags": []
   },
   "outputs": [],
   "source": [
    "#eliminamos algunas columnas que no usaremos en nuestro ejercicio\n",
    "df = df.drop(['Color_Eng _o_baño2', 'Color_Baño', 'Color_Engobe', 'Color_Munsell', 'Decoracion',\n",
    "             'Tecnica', 'Elemento₁', 'Localizacion' ], axis=1)\n",
    "df.info()"
   ]
  },
  {
   "cell_type": "markdown",
   "id": "8d515d5e-b1e2-431e-9c5b-7aae46304938",
   "metadata": {
    "tags": []
   },
   "source": [
    "Ya tenemos un primer filtro de nuestra matriz de datos. **El proximo paso es convertir las columnas categóricas en numéricas**\n",
    "\n",
    "Para esto vamos a separar separar las variables ordinales de las nominales para aplicar diferentes procedimientos.\n",
    "\n",
    "**```Recordemos que las variables ordinales tienen una relación de orden mientras que las nominales solo describen la presencia o ausencia de una caracteristica```**\n"
   ]
  },
  {
   "cell_type": "code",
   "execution_count": 49,
   "id": "af98f945-64c6-43a5-aab1-d022a8b7068c",
   "metadata": {
    "tags": []
   },
   "outputs": [
    {
     "name": "stdout",
     "output_type": "stream",
     "text": [
      "<class 'pandas.core.frame.DataFrame'>\n",
      "RangeIndex: 578 entries, 0 to 577\n",
      "Data columns (total 5 columns):\n",
      " #   Column           Non-Null Count  Dtype \n",
      "---  ------           --------------  ----- \n",
      " 0   T_desgrasante    578 non-null    object\n",
      " 1   Densidad         578 non-null    object\n",
      " 2   Acabado_Interno  578 non-null    object\n",
      " 3   Acabado_Externo  578 non-null    object\n",
      " 4   Dureza           578 non-null    object\n",
      "dtypes: object(5)\n",
      "memory usage: 22.7+ KB\n"
     ]
    }
   ],
   "source": [
    "ordinales = ['T_desgrasante', 'Densidad', 'Acabado_Interno', 'Acabado_Externo',\n",
    "               'Dureza'] #seleccionamos las variables ordinales y las agrupamos en una nueva tabla\n",
    "\n",
    "nominales = df.columns.difference(ordinales) # Hacemos lo mismo con las nominales\n",
    "\n",
    "variables_ordinales = df[ordinales]\n",
    "variables_nominales = df[nominales]         \n",
    "variables_ordinales.info()"
   ]
  },
  {
   "cell_type": "code",
   "execution_count": 62,
   "id": "0b43c685-2bf4-4698-91eb-9c8b650c0848",
   "metadata": {
    "tags": []
   },
   "outputs": [],
   "source": [
    "orden_T_desgrasante = ['Muy  fino', 'Fino', 'Medio', 'Grueso']\n",
    "orden_Densidad = ['Equilibrado', 'Mas desgrasante']\n",
    "orden_Acabado_Interno = ['Burdo', 'Erosionado','Fino','Pulido']\n",
    "orden_Acabado_Externo = ['Burdo', 'Erosionado', 'Fino', 'Pulido']\n",
    "orden_Dureza = ['Raya con la uña', 'Dura', 'Muy dura']\n",
    "\n",
    "\n",
    "\n",
    "[{'Fino': 0, 'Grueso': 1, 'Medio': 2, 'Muy  fino': 0},\n",
    " {'Equilibrado': 0, 'Mas desgrasante': 1},\n",
    " {'Burdo': 0, 'Erosionado': 1, 'Fino': 2, 'Pulido': 3}, \n",
    " {'Burdo': 0, 'Erosionado': 1, 'Fino': 2, 'Pulido': 3},\n",
    " {'Dura': 0, 'Muy dura': 1, 'Raya con la uña': 2}]\n",
    "\n",
    "    \n",
    "categories = [orden_T_desgrasante , orden_Densidad, orden_Acabado_Interno,\n",
    "orden_Acabado_Externo, orden_Dureza ]\n",
    "              "
   ]
  },
  {
   "cell_type": "code",
   "execution_count": 64,
   "id": "eb55a1cb-a4dd-4d73-a3e8-5fe84dfb8aba",
   "metadata": {
    "tags": []
   },
   "outputs": [
    {
     "data": {
      "text/html": [
       "<div>\n",
       "<style scoped>\n",
       "    .dataframe tbody tr th:only-of-type {\n",
       "        vertical-align: middle;\n",
       "    }\n",
       "\n",
       "    .dataframe tbody tr th {\n",
       "        vertical-align: top;\n",
       "    }\n",
       "\n",
       "    .dataframe thead th {\n",
       "        text-align: right;\n",
       "    }\n",
       "</style>\n",
       "<table border=\"1\" class=\"dataframe\">\n",
       "  <thead>\n",
       "    <tr style=\"text-align: right;\">\n",
       "      <th></th>\n",
       "      <th>T_desgrasante</th>\n",
       "      <th>Densidad</th>\n",
       "      <th>Acabado_Interno</th>\n",
       "      <th>Acabado_Externo</th>\n",
       "      <th>Dureza</th>\n",
       "    </tr>\n",
       "  </thead>\n",
       "  <tbody>\n",
       "    <tr>\n",
       "      <th>0</th>\n",
       "      <td>2</td>\n",
       "      <td>1</td>\n",
       "      <td>2</td>\n",
       "      <td>2</td>\n",
       "      <td>0</td>\n",
       "    </tr>\n",
       "    <tr>\n",
       "      <th>1</th>\n",
       "      <td>2</td>\n",
       "      <td>0</td>\n",
       "      <td>2</td>\n",
       "      <td>2</td>\n",
       "      <td>0</td>\n",
       "    </tr>\n",
       "    <tr>\n",
       "      <th>2</th>\n",
       "      <td>2</td>\n",
       "      <td>0</td>\n",
       "      <td>2</td>\n",
       "      <td>2</td>\n",
       "      <td>0</td>\n",
       "    </tr>\n",
       "    <tr>\n",
       "      <th>3</th>\n",
       "      <td>2</td>\n",
       "      <td>1</td>\n",
       "      <td>1</td>\n",
       "      <td>1</td>\n",
       "      <td>1</td>\n",
       "    </tr>\n",
       "    <tr>\n",
       "      <th>4</th>\n",
       "      <td>1</td>\n",
       "      <td>0</td>\n",
       "      <td>1</td>\n",
       "      <td>2</td>\n",
       "      <td>0</td>\n",
       "    </tr>\n",
       "    <tr>\n",
       "      <th>...</th>\n",
       "      <td>...</td>\n",
       "      <td>...</td>\n",
       "      <td>...</td>\n",
       "      <td>...</td>\n",
       "      <td>...</td>\n",
       "    </tr>\n",
       "    <tr>\n",
       "      <th>573</th>\n",
       "      <td>1</td>\n",
       "      <td>0</td>\n",
       "      <td>1</td>\n",
       "      <td>2</td>\n",
       "      <td>0</td>\n",
       "    </tr>\n",
       "    <tr>\n",
       "      <th>574</th>\n",
       "      <td>1</td>\n",
       "      <td>0</td>\n",
       "      <td>1</td>\n",
       "      <td>1</td>\n",
       "      <td>0</td>\n",
       "    </tr>\n",
       "    <tr>\n",
       "      <th>575</th>\n",
       "      <td>1</td>\n",
       "      <td>0</td>\n",
       "      <td>2</td>\n",
       "      <td>2</td>\n",
       "      <td>0</td>\n",
       "    </tr>\n",
       "    <tr>\n",
       "      <th>576</th>\n",
       "      <td>1</td>\n",
       "      <td>0</td>\n",
       "      <td>2</td>\n",
       "      <td>2</td>\n",
       "      <td>1</td>\n",
       "    </tr>\n",
       "    <tr>\n",
       "      <th>577</th>\n",
       "      <td>2</td>\n",
       "      <td>0</td>\n",
       "      <td>2</td>\n",
       "      <td>2</td>\n",
       "      <td>1</td>\n",
       "    </tr>\n",
       "  </tbody>\n",
       "</table>\n",
       "<p>578 rows × 5 columns</p>\n",
       "</div>"
      ],
      "text/plain": [
       "     T_desgrasante  Densidad  Acabado_Interno  Acabado_Externo  Dureza\n",
       "0                2         1                2                2       0\n",
       "1                2         0                2                2       0\n",
       "2                2         0                2                2       0\n",
       "3                2         1                1                1       1\n",
       "4                1         0                1                2       0\n",
       "..             ...       ...              ...              ...     ...\n",
       "573              1         0                1                2       0\n",
       "574              1         0                1                1       0\n",
       "575              1         0                2                2       0\n",
       "576              1         0                2                2       1\n",
       "577              2         0                2                2       1\n",
       "\n",
       "[578 rows x 5 columns]"
      ]
     },
     "execution_count": 64,
     "metadata": {},
     "output_type": "execute_result"
    }
   ],
   "source": [
    "\n",
    "enc = OrdinalEncoder(dtype= 'int64', categories = categories) #estamos usando una de las herramientas importadas en el primer paso\n",
    "\n",
    "enc.fit_transform(variables_ordinales)\n",
    "variables_ordinales_codificadas = pd.DataFrame(enc.fit_transform(variables_ordinales),columns= variables_ordinales.columns)\n",
    "variables_ordinales_codificadas # nuestra tabla transformada a enteros \n"
   ]
  },
  {
   "cell_type": "code",
   "execution_count": null,
   "id": "f3bde42a-2c19-4e95-aac4-45d32b0209af",
   "metadata": {
    "tags": []
   },
   "outputs": [],
   "source": [
    "variables_ordinales_codificadas # nuestra tabla transformada a enteros "
   ]
  },
  {
   "cell_type": "code",
   "execution_count": null,
   "id": "7e6c62b5-8379-4978-8aec-66dda0423548",
   "metadata": {
    "tags": []
   },
   "outputs": [],
   "source": [
    "variables_ordinales_codificadas['Dureza'][577]"
   ]
  },
  {
   "cell_type": "code",
   "execution_count": null,
   "id": "a9998843-1e1f-4c07-baad-803fe090a512",
   "metadata": {
    "tags": []
   },
   "outputs": [],
   "source": [
    "etiquetas = enc.categories_\n",
    "etiquetas"
   ]
  },
  {
   "cell_type": "code",
   "execution_count": 65,
   "id": "e61f56ca-e51b-44e3-a71f-39d7c09a6530",
   "metadata": {
    "tags": []
   },
   "outputs": [
    {
     "name": "stdout",
     "output_type": "stream",
     "text": [
      "[{'Muy  fino': 0, 'Fino': 1, 'Medio': 2, 'Grueso': 3}, {'Equilibrado': 0, 'Mas desgrasante': 1}, {'Burdo': 0, 'Erosionado': 1, 'Fino': 2, 'Pulido': 3}, {'Burdo': 0, 'Erosionado': 1, 'Fino': 2, 'Pulido': 3}, {'Raya con la uña': 0, 'Dura': 1, 'Muy dura': 2}]\n"
     ]
    }
   ],
   "source": [
    "encoding = enc.categories_\n",
    "encoding_feature = lambda variables_ordinales_codificadas: dict(zip(variables_ordinales_codificadas,\n",
    "                                                           range(len(variables_ordinales_codificadas))))\n",
    "encoding_full = [encoding_feature(feature_elem) for feature_elem in encoding ]\n",
    "print(encoding_full)"
   ]
  },
  {
   "cell_type": "code",
   "execution_count": null,
   "id": "2f665fde-0548-4d98-b6aa-35c72cf3966f",
   "metadata": {},
   "outputs": [],
   "source": []
  },
  {
   "cell_type": "code",
   "execution_count": null,
   "id": "902b6bb6-72b8-4dee-bd1b-1fffc5149e85",
   "metadata": {
    "tags": []
   },
   "outputs": [],
   "source": []
  },
  {
   "cell_type": "code",
   "execution_count": null,
   "id": "ff1e9932-89d8-4ee4-a706-6a73c6514e75",
   "metadata": {},
   "outputs": [],
   "source": []
  },
  {
   "cell_type": "markdown",
   "id": "2f87eadc-d292-4d97-a8bc-c5a6effbf483",
   "metadata": {},
   "source": [
    "### Métodos para explorar la correlación y multicolinearidad entre las variables\n",
    "\n",
    "Una vez eliminadas las columnas que **sabemos** que no nos sirven, vamos a usar dos procedimientos diferentes para intentar simplificar aún más nuestro problema\n",
    "\n",
    "* [Matrices de correlación](https://es.wikipedia.org/wiki/Matriz_de_correlaci%C3%B3n)\n",
    "* [Factor de inflación de la varianza](https://es.wikipedia.org/wiki/Factor_de_inflaci%C3%B3n_de_la_varianza)\n",
    "\n",
    "Las matrices de correlación permiten una inspección visual intuitiva del comportamiento de las variables, veamos:"
   ]
  },
  {
   "cell_type": "code",
   "execution_count": null,
   "id": "289a5f8e-9d3f-4d70-8135-59d57683ac24",
   "metadata": {
    "tags": []
   },
   "outputs": [],
   "source": [
    "#Matrices de correlación\n",
    "\n",
    "correlation_matrix = df.corr(method='spearman') #Mediante el parametro method= se puede escoger entre varios\n",
    "                                                #coeficientes de correlación {‘pearson’,\n",
    "                                                #‘kendall’, ‘spearman’}\n",
    "\n",
    "sns_plot = sns.heatmap(correlation_matrix, annot=True, cmap='coolwarm',fmt=\".1f\") \n",
    "fig = sns_plot.get_figure()\n",
    "#fig.savefig(\"./Un-modelo-de-juguete/figures/correlation.png\", bbox_inches='tight')\n",
    "plt.show()"
   ]
  },
  {
   "cell_type": "markdown",
   "id": "be630af5-ecac-40dc-834b-fae7050155ee",
   "metadata": {},
   "source": [
    "Nos interesa fijarnos en aquellas relaciones más extremas entre las variables. Aquellas que se comportan de manera similar decimos que tienen una alta correlación positiva y quiere decir que valores altos en una variable estan acompañados de valores altos en la otra, estan representados por un color rojo intenso. \n",
    "Observemos  la relación entre las variables 'Elemento₁', 'Localizacion', y 'Tecnica' que conforman ese recuadro rojo con valores altos que vemos"
   ]
  },
  {
   "cell_type": "code",
   "execution_count": null,
   "id": "fd8e6613-39f9-4558-baa2-8c54489342b4",
   "metadata": {},
   "outputs": [],
   "source": []
  },
  {
   "cell_type": "code",
   "execution_count": null,
   "id": "143ced37-ca58-4cde-ae4c-188e2e425355",
   "metadata": {
    "tags": []
   },
   "outputs": [],
   "source": [
    "# Vamos a construir una función para calcular el Factor de inflación de la varianza (VIF)\n",
    "\n",
    "def calc_vif(df):\n",
    "    # Calculando el VIF\n",
    "    vif = pd.DataFrame() # creamos la tabla para visualizar los resultados\n",
    "    vif[\"variables\"] = df.columns # la columna 'variables' va a tener el nombre de las columnas de nuestra matriz\n",
    "    vif[\"VIF\"] = [variance_inflation_factor(df.values, i) \n",
    "                  for i in range(df.shape[1])] # calculamos el VIF para cada columna\n",
    "\n",
    "    return(vif)"
   ]
  },
  {
   "cell_type": "markdown",
   "id": "296f78aa-35d1-4ad5-8930-eda4592511eb",
   "metadata": {},
   "source": [
    "La intuición detras del computo del VIF es la eliminación de aquellas variables con puntajes muy altos, particularmente valores >= 10 indican una alta [multicolinealidad](https://es.wikipedia.org/wiki/Multicolinealidad).\n",
    "\n",
    "Este es un ejercicio iterativo, es decir, Calculamos el VIF, eliminamos aquellas columans con el mayor valor y volvemos a calcular...\n",
    "\n",
    "**[aqui](https://www.analyticsvidhya.com/blog/2020/03/what-is-multicollinearity/) un recurso útil para entender el funcionamiento de este método**"
   ]
  },
  {
   "cell_type": "code",
   "execution_count": null,
   "id": "cc38ee3c-992d-4153-84b6-adb0bcb5b55f",
   "metadata": {
    "tags": []
   },
   "outputs": [],
   "source": [
    "# Aplicamos la función que creamos sobre nuestros datos df\n",
    "calc_vif(df)"
   ]
  },
  {
   "cell_type": "markdown",
   "id": "d8c09f08-e916-4e82-8261-cdb0bb394353",
   "metadata": {},
   "source": []
  },
  {
   "cell_type": "code",
   "execution_count": null,
   "id": "1d4230eb-0017-4c81-a5af-64517e1c8025",
   "metadata": {
    "tags": []
   },
   "outputs": [],
   "source": [
    "df= df.drop(['Acabado_Externo', 'Acabado_Interno', 'Tamaño(cm)'], axis=1)\n",
    "calc_vif(df)"
   ]
  },
  {
   "cell_type": "code",
   "execution_count": null,
   "id": "02b3fb76-81c2-42fa-ba0f-9076488e15ee",
   "metadata": {
    "tags": []
   },
   "outputs": [],
   "source": [
    "#Matrices de correlación\n",
    "\n",
    "correlation_matrix = df.corr(method='spearman') #Mediante el parametro method= se puede escoger entre varios\n",
    "                                                #coeficientes de correlación {‘pearson’,\n",
    "                                                #‘kendall’, ‘spearman’}\n",
    "\n",
    "sns_plot = sns.heatmap(correlation_matrix, annot=True, cmap='coolwarm',fmt=\".1f\") \n",
    "fig = sns_plot.get_figure()\n",
    "#fig.savefig(\"/home/dsg/Escritorio/CCA2024/figures/correlation.png\", bbox_inches='tight')\n",
    "plt.show()"
   ]
  },
  {
   "cell_type": "markdown",
   "id": "11fcb140-0a8b-4261-9930-6160949b4552",
   "metadata": {},
   "source": [
    "Los mapas de calor permiten la inspección visual de variables altamente correlacionadas.\n",
    "Su exclusión del conjunto de datos debe estar justificada en términos del objetivo"
   ]
  },
  {
   "cell_type": "code",
   "execution_count": null,
   "id": "d53cb7c4-563d-4f48-acb1-27ff89e32818",
   "metadata": {
    "tags": []
   },
   "outputs": [],
   "source": [
    "df.to_csv('./intermediate_data/datos_preprocesados.csv')\n"
   ]
  },
  {
   "cell_type": "markdown",
   "id": "20ee6dcf-fea3-4476-a0ea-eff399f853e3",
   "metadata": {},
   "source": [
    "Una vez los datos estan preprocesados, podemos realizar la [Fase No-Supervisada](./CCA_Clustering.ipynb)"
   ]
  }
 ],
 "metadata": {
  "kernelspec": {
   "display_name": "Python 3 (ipykernel)",
   "language": "python",
   "name": "python3"
  },
  "language_info": {
   "codemirror_mode": {
    "name": "ipython",
    "version": 3
   },
   "file_extension": ".py",
   "mimetype": "text/x-python",
   "name": "python",
   "nbconvert_exporter": "python",
   "pygments_lexer": "ipython3",
   "version": "3.8.10"
  }
 },
 "nbformat": 4,
 "nbformat_minor": 5
}
