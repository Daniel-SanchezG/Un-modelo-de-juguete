{
 "cells": [
  {
   "cell_type": "markdown",
   "id": "71ae443d-41f5-43e8-8d42-d214d7fa25c2",
   "metadata": {
    "tags": []
   },
   "source": [
    "## <span style='color:orange'>Desarrollo del modelo de clasificación supervisada.</span>\n",
    "\n",
    "\n",
    "**Este cuaderno presenta la última etapa del flujo de trabajo para la clasificación de cerámicas arqueológicas**\n",
    "\n",
    "Contiene:\n",
    "\n",
    "\n",
    "* Preprocesamiento y re muestreo\n",
    "* Experimentación y comparación de algoritmos\n",
    "* Optimización\n",
    "* Validación final\n",
    " \n",
    "\n",
    "\n",
    "\n",
    "#### **Nuestra función de clasificación; X = (578 x 18), y = 4 clases (\"Tipos\")**\n"
   ]
  },
  {
   "cell_type": "code",
   "execution_count": 1,
   "id": "1c92d75b-b9d1-4112-8f08-ee93f912a43c",
   "metadata": {},
   "outputs": [],
   "source": [
    "#Para reproducir en Colab descomenta las líneas siguientes antes de ejecutar el cuaderno\n",
    "#!pip install pycaret\n",
    "#from pycaret.utils import enable_colab\n",
    "#enable_colab()\n",
    "import pandas as pd\n",
    "import numpy as np\n",
    "from pycaret.classification import * # Machine learning tools\n",
    "import imblearn  # Resampling\n",
    "from imblearn.over_sampling import SMOTE \n",
    "from imblearn.under_sampling import CondensedNearestNeighbour \n",
    "from imblearn.under_sampling import EditedNearestNeighbours\n",
    "from sklearn.metrics import ConfusionMatrixDisplay # Model evaluation\n",
    "import matplotlib.pyplot as plt # Visualization\n",
    "import seaborn as sns\n",
    "from sklearn.metrics import classification_report # Model evaluation report\n",
    "from ipywidgets import widgets # Interactive functions\n",
    "from sklearn.metrics import classification_report"
   ]
  },
  {
   "cell_type": "code",
   "execution_count": 2,
   "id": "1af335cf-c756-446e-a419-df61ff4752e5",
   "metadata": {
    "tags": []
   },
   "outputs": [
    {
     "name": "stdout",
     "output_type": "stream",
     "text": [
      "<class 'pandas.core.frame.DataFrame'>\n",
      "RangeIndex: 578 entries, 0 to 577\n",
      "Data columns (total 18 columns):\n",
      " #   Column           Non-Null Count  Dtype\n",
      "---  ------           --------------  -----\n",
      " 0   Unnamed: 0       578 non-null    int64\n",
      " 1   Coccion          578 non-null    int64\n",
      " 2   T_desgrasante    578 non-null    int64\n",
      " 3   Composicion      578 non-null    int64\n",
      " 4   Densidad         578 non-null    int64\n",
      " 5   Textura          578 non-null    int64\n",
      " 6   Grosor₍mm)       578 non-null    int64\n",
      " 7   Tamaño(cm)       578 non-null    int64\n",
      " 8   Acabado_Interno  578 non-null    int64\n",
      " 9   Acabado_Externo  578 non-null    int64\n",
      " 10  Dureza           578 non-null    int64\n",
      " 11  Ahumado          578 non-null    int64\n",
      " 12  Tecnica          578 non-null    int64\n",
      " 13  Elemento₁        578 non-null    int64\n",
      " 14  Localizacion     578 non-null    int64\n",
      " 15  Baño             578 non-null    int64\n",
      " 16  Engobe           578 non-null    int64\n",
      " 17  cluster          578 non-null    int64\n",
      "dtypes: int64(18)\n",
      "memory usage: 81.4 KB\n"
     ]
    }
   ],
   "source": [
    "df = pd.read_csv('./intermediate_data/datos_supervisado.csv')\n",
    "\n",
    "df.info()"
   ]
  },
  {
   "cell_type": "code",
   "execution_count": 4,
   "id": "3d0e6d7c-90a9-4d64-9acf-f7e8850e6b21",
   "metadata": {
    "tags": []
   },
   "outputs": [
    {
     "data": {
      "text/plain": [
       "False"
      ]
     },
     "execution_count": 4,
     "metadata": {},
     "output_type": "execute_result"
    }
   ],
   "source": [
    "df= df.drop(['Unnamed: 0'], axis=1)\n",
    "df.isnull().any().any()"
   ]
  },
  {
   "cell_type": "code",
   "execution_count": 9,
   "id": "4e2976a6-6d27-4763-a9ae-b064169e845b",
   "metadata": {
    "tags": []
   },
   "outputs": [
    {
     "data": {
      "text/plain": [
       "2    467\n",
       "1     90\n",
       "4     11\n",
       "3     10\n",
       "Name: cluster, dtype: int64"
      ]
     },
     "execution_count": 9,
     "metadata": {},
     "output_type": "execute_result"
    }
   ],
   "source": [
    "target = df['cluster'].value_counts()\n",
    "target"
   ]
  },
  {
   "cell_type": "markdown",
   "id": "0bd3db33-38a3-40fd-bebb-7c420c13cb9c",
   "metadata": {},
   "source": [
    "#### Creando el set de validación final VS1 (10% de los datos)\n",
    "\n",
    "Reservamos estos datos para que no esten expuestos al proceso de entrenamiento del modelo y puedan ser usados como datos no-vistos por el modelo"
   ]
  },
  {
   "cell_type": "code",
   "execution_count": 10,
   "id": "7b1c1e7d-98cb-42c6-8cb8-6ef4e978fc36",
   "metadata": {
    "tags": []
   },
   "outputs": [
    {
     "name": "stdout",
     "output_type": "stream",
     "text": [
      "Data for further procedures: (520, 17)\n",
      "Data for final validation: (58, 17)\n"
     ]
    }
   ],
   "source": [
    "# Validation set 1 (VS1)\n",
    "data = df.sample(frac=0.90, random_state=786)\n",
    "vs1 = df.drop(data.index)\n",
    "data.reset_index(inplace=True, drop=True)\n",
    "vs1.reset_index(inplace=True, drop=True)\n",
    "print('Data for further procedures: ' + str(data.shape))\n",
    "print('Data for final validation: ' + str(vs1.shape))\n",
    "#vs1.to_csv('./TABLES/validation_set1.csv')"
   ]
  },
  {
   "cell_type": "markdown",
   "id": "0a570acd-77d3-4819-b0ba-b4bae35f8ccd",
   "metadata": {},
   "source": [
    "#### Creando nuestra función de clasificación:"
   ]
  },
  {
   "cell_type": "code",
   "execution_count": 11,
   "id": "593db4e4-ac1e-4749-83f7-792ce981ebe1",
   "metadata": {
    "tags": []
   },
   "outputs": [],
   "source": [
    "X = df.drop(['cluster'], axis=1)\n",
    "y = df['cluster']"
   ]
  },
  {
   "cell_type": "markdown",
   "id": "e60c3ae5-e63c-4d91-a16b-e88da9764608",
   "metadata": {},
   "source": [
    "####  Remuestreo de las clases minoritarias (SMOTE)\n",
    "Construimos datos sintéticos de las clases menores para balancear el dataset"
   ]
  },
  {
   "cell_type": "code",
   "execution_count": 12,
   "id": "6bbf902e-45fd-4e44-86bf-a7d92dee9d77",
   "metadata": {
    "tags": []
   },
   "outputs": [
    {
     "data": {
      "text/plain": [
       "1    467\n",
       "2    467\n",
       "4    467\n",
       "3    467\n",
       "Name: cluster, dtype: int64"
      ]
     },
     "execution_count": 12,
     "metadata": {},
     "output_type": "execute_result"
    },
    {
     "data": {
      "image/png": "[encoded data removed]",
      "text/plain": [
       "<Figure size 800x550 with 1 Axes>"
      ]
     },
     "metadata": {},
     "output_type": "display_data"
    }
   ],
   "source": [
    "# oversampling strategy\n",
    "smote = SMOTE()\n",
    "X_smote, y_smote = smote.fit_resample(X, y)\n",
    "\n",
    "y_smote.value_counts().plot(kind='bar')\n",
    "#plt.savefig('SMOTE_distribution.png',dpi=200, bbox_inches='tight')\n",
    "y_smote.value_counts()"
   ]
  },
  {
   "cell_type": "code",
   "execution_count": 13,
   "id": "75644dd7-fc14-4384-b16e-232d0ad57514",
   "metadata": {
    "tags": []
   },
   "outputs": [],
   "source": [
    "# Creating final resampled dataset\n",
    "smote_data = X_smote\n",
    "smote_data['target'] = y_smote"
   ]
  },
  {
   "cell_type": "markdown",
   "id": "977d15f2-04d5-49a4-a31e-d5612cb2b606",
   "metadata": {},
   "source": [
    "### Hemos creado un conjunto de datos equilibrado con datos sintéticos en las clases menores"
   ]
  },
  {
   "cell_type": "code",
   "execution_count": 14,
   "id": "51a59397-5734-43e4-a247-9a154ca02f49",
   "metadata": {
    "tags": []
   },
   "outputs": [
    {
     "name": "stdout",
     "output_type": "stream",
     "text": [
      "<class 'pandas.core.frame.DataFrame'>\n",
      "RangeIndex: 1868 entries, 0 to 1867\n",
      "Data columns (total 17 columns):\n",
      " #   Column           Non-Null Count  Dtype\n",
      "---  ------           --------------  -----\n",
      " 0   Coccion          1868 non-null   int64\n",
      " 1   T_desgrasante    1868 non-null   int64\n",
      " 2   Composicion      1868 non-null   int64\n",
      " 3   Densidad         1868 non-null   int64\n",
      " 4   Textura          1868 non-null   int64\n",
      " 5   Grosor₍mm)       1868 non-null   int64\n",
      " 6   Tamaño(cm)       1868 non-null   int64\n",
      " 7   Acabado_Interno  1868 non-null   int64\n",
      " 8   Acabado_Externo  1868 non-null   int64\n",
      " 9   Dureza           1868 non-null   int64\n",
      " 10  Ahumado          1868 non-null   int64\n",
      " 11  Tecnica          1868 non-null   int64\n",
      " 12  Elemento₁        1868 non-null   int64\n",
      " 13  Localizacion     1868 non-null   int64\n",
      " 14  Baño             1868 non-null   int64\n",
      " 15  Engobe           1868 non-null   int64\n",
      " 16  target           1868 non-null   int64\n",
      "dtypes: int64(17)\n",
      "memory usage: 248.2 KB\n"
     ]
    }
   ],
   "source": [
    "# Final dataset shape after resampling\n",
    "smote_data.shape\n",
    "smote_data.info()"
   ]
  },
  {
   "cell_type": "markdown",
   "id": "e9657e8d-2893-45d4-851f-cd73ea982116",
   "metadata": {},
   "source": [
    "### Desarrollo del modelo:\n",
    "\n",
    "Una vez el pre-preocesamiento está finalizado, podemos entrenar y evaluar diferentes modelos supervisados.\n",
    "Para la evaluación y comparación de diferentes algortimos hemos utilizado la técnica de validaicón cruzada estratificada, usando el 80% de los datos para el entrenamiento. Todo el proceso de desarrollo del modelo lo hemos realizado usando la libreria Pycaret, una herramienta open-source de bajo codigo para machine-learning sobre los algoritmos de scikit-learn\n",
    "\n",
    "\n",
    "**El parametro session_id parameter genera una semilla que asegura la reproducibilidad de los experimentos**"
   ]
  },
  {
   "cell_type": "code",
   "execution_count": 15,
   "id": "e88f503c-b3c7-4563-8c2f-fa1ffb7eb8b4",
   "metadata": {
    "tags": []
   },
   "outputs": [
    {
     "data": {
      "text/html": [
       "<style type=\"text/css\">\n",
       "#T_b1831_row9_col1 {\n",
       "  background-color: lightgreen;\n",
       "}\n",
       "</style>\n",
       "<table id=\"T_b1831\">\n",
       "  <thead>\n",
       "    <tr>\n",
       "      <th class=\"blank level0\" >&nbsp;</th>\n",
       "      <th id=\"T_b1831_level0_col0\" class=\"col_heading level0 col0\" >Description</th>\n",
       "      <th id=\"T_b1831_level0_col1\" class=\"col_heading level0 col1\" >Value</th>\n",
       "    </tr>\n",
       "  </thead>\n",
       "  <tbody>\n",
       "    <tr>\n",
       "      <th id=\"T_b1831_level0_row0\" class=\"row_heading level0 row0\" >0</th>\n",
       "      <td id=\"T_b1831_row0_col0\" class=\"data row0 col0\" >Session id</td>\n",
       "      <td id=\"T_b1831_row0_col1\" class=\"data row0 col1\" >123</td>\n",
       "    </tr>\n",
       "    <tr>\n",
       "      <th id=\"T_b1831_level0_row1\" class=\"row_heading level0 row1\" >1</th>\n",
       "      <td id=\"T_b1831_row1_col0\" class=\"data row1 col0\" >Target</td>\n",
       "      <td id=\"T_b1831_row1_col1\" class=\"data row1 col1\" >cluster</td>\n",
       "    </tr>\n",
       "    <tr>\n",
       "      <th id=\"T_b1831_level0_row2\" class=\"row_heading level0 row2\" >2</th>\n",
       "      <td id=\"T_b1831_row2_col0\" class=\"data row2 col0\" >Target type</td>\n",
       "      <td id=\"T_b1831_row2_col1\" class=\"data row2 col1\" >Multiclass</td>\n",
       "    </tr>\n",
       "    <tr>\n",
       "      <th id=\"T_b1831_level0_row3\" class=\"row_heading level0 row3\" >3</th>\n",
       "      <td id=\"T_b1831_row3_col0\" class=\"data row3 col0\" >Target mapping</td>\n",
       "      <td id=\"T_b1831_row3_col1\" class=\"data row3 col1\" >1: 0, 2: 1, 3: 2, 4: 3</td>\n",
       "    </tr>\n",
       "    <tr>\n",
       "      <th id=\"T_b1831_level0_row4\" class=\"row_heading level0 row4\" >4</th>\n",
       "      <td id=\"T_b1831_row4_col0\" class=\"data row4 col0\" >Original data shape</td>\n",
       "      <td id=\"T_b1831_row4_col1\" class=\"data row4 col1\" >(520, 17)</td>\n",
       "    </tr>\n",
       "    <tr>\n",
       "      <th id=\"T_b1831_level0_row5\" class=\"row_heading level0 row5\" >5</th>\n",
       "      <td id=\"T_b1831_row5_col0\" class=\"data row5 col0\" >Transformed data shape</td>\n",
       "      <td id=\"T_b1831_row5_col1\" class=\"data row5 col1\" >(520, 17)</td>\n",
       "    </tr>\n",
       "    <tr>\n",
       "      <th id=\"T_b1831_level0_row6\" class=\"row_heading level0 row6\" >6</th>\n",
       "      <td id=\"T_b1831_row6_col0\" class=\"data row6 col0\" >Transformed train set shape</td>\n",
       "      <td id=\"T_b1831_row6_col1\" class=\"data row6 col1\" >(416, 17)</td>\n",
       "    </tr>\n",
       "    <tr>\n",
       "      <th id=\"T_b1831_level0_row7\" class=\"row_heading level0 row7\" >7</th>\n",
       "      <td id=\"T_b1831_row7_col0\" class=\"data row7 col0\" >Transformed test set shape</td>\n",
       "      <td id=\"T_b1831_row7_col1\" class=\"data row7 col1\" >(104, 17)</td>\n",
       "    </tr>\n",
       "    <tr>\n",
       "      <th id=\"T_b1831_level0_row8\" class=\"row_heading level0 row8\" >8</th>\n",
       "      <td id=\"T_b1831_row8_col0\" class=\"data row8 col0\" >Numeric features</td>\n",
       "      <td id=\"T_b1831_row8_col1\" class=\"data row8 col1\" >16</td>\n",
       "    </tr>\n",
       "    <tr>\n",
       "      <th id=\"T_b1831_level0_row9\" class=\"row_heading level0 row9\" >9</th>\n",
       "      <td id=\"T_b1831_row9_col0\" class=\"data row9 col0\" >Preprocess</td>\n",
       "      <td id=\"T_b1831_row9_col1\" class=\"data row9 col1\" >True</td>\n",
       "    </tr>\n",
       "    <tr>\n",
       "      <th id=\"T_b1831_level0_row10\" class=\"row_heading level0 row10\" >10</th>\n",
       "      <td id=\"T_b1831_row10_col0\" class=\"data row10 col0\" >Imputation type</td>\n",
       "      <td id=\"T_b1831_row10_col1\" class=\"data row10 col1\" >simple</td>\n",
       "    </tr>\n",
       "    <tr>\n",
       "      <th id=\"T_b1831_level0_row11\" class=\"row_heading level0 row11\" >11</th>\n",
       "      <td id=\"T_b1831_row11_col0\" class=\"data row11 col0\" >Numeric imputation</td>\n",
       "      <td id=\"T_b1831_row11_col1\" class=\"data row11 col1\" >mean</td>\n",
       "    </tr>\n",
       "    <tr>\n",
       "      <th id=\"T_b1831_level0_row12\" class=\"row_heading level0 row12\" >12</th>\n",
       "      <td id=\"T_b1831_row12_col0\" class=\"data row12 col0\" >Categorical imputation</td>\n",
       "      <td id=\"T_b1831_row12_col1\" class=\"data row12 col1\" >mode</td>\n",
       "    </tr>\n",
       "    <tr>\n",
       "      <th id=\"T_b1831_level0_row13\" class=\"row_heading level0 row13\" >13</th>\n",
       "      <td id=\"T_b1831_row13_col0\" class=\"data row13 col0\" >Fold Generator</td>\n",
       "      <td id=\"T_b1831_row13_col1\" class=\"data row13 col1\" >StratifiedKFold</td>\n",
       "    </tr>\n",
       "    <tr>\n",
       "      <th id=\"T_b1831_level0_row14\" class=\"row_heading level0 row14\" >14</th>\n",
       "      <td id=\"T_b1831_row14_col0\" class=\"data row14 col0\" >Fold Number</td>\n",
       "      <td id=\"T_b1831_row14_col1\" class=\"data row14 col1\" >10</td>\n",
       "    </tr>\n",
       "    <tr>\n",
       "      <th id=\"T_b1831_level0_row15\" class=\"row_heading level0 row15\" >15</th>\n",
       "      <td id=\"T_b1831_row15_col0\" class=\"data row15 col0\" >CPU Jobs</td>\n",
       "      <td id=\"T_b1831_row15_col1\" class=\"data row15 col1\" >-1</td>\n",
       "    </tr>\n",
       "    <tr>\n",
       "      <th id=\"T_b1831_level0_row16\" class=\"row_heading level0 row16\" >16</th>\n",
       "      <td id=\"T_b1831_row16_col0\" class=\"data row16 col0\" >Use GPU</td>\n",
       "      <td id=\"T_b1831_row16_col1\" class=\"data row16 col1\" >False</td>\n",
       "    </tr>\n",
       "    <tr>\n",
       "      <th id=\"T_b1831_level0_row17\" class=\"row_heading level0 row17\" >17</th>\n",
       "      <td id=\"T_b1831_row17_col0\" class=\"data row17 col0\" >Log Experiment</td>\n",
       "      <td id=\"T_b1831_row17_col1\" class=\"data row17 col1\" >False</td>\n",
       "    </tr>\n",
       "    <tr>\n",
       "      <th id=\"T_b1831_level0_row18\" class=\"row_heading level0 row18\" >18</th>\n",
       "      <td id=\"T_b1831_row18_col0\" class=\"data row18 col0\" >Experiment Name</td>\n",
       "      <td id=\"T_b1831_row18_col1\" class=\"data row18 col1\" >clf-default-name</td>\n",
       "    </tr>\n",
       "    <tr>\n",
       "      <th id=\"T_b1831_level0_row19\" class=\"row_heading level0 row19\" >19</th>\n",
       "      <td id=\"T_b1831_row19_col0\" class=\"data row19 col0\" >USI</td>\n",
       "      <td id=\"T_b1831_row19_col1\" class=\"data row19 col1\" >dfc5</td>\n",
       "    </tr>\n",
       "  </tbody>\n",
       "</table>\n"
      ],
      "text/plain": [
       "<pandas.io.formats.style.Styler at 0x7f88b75e6f10>"
      ]
     },
     "metadata": {},
     "output_type": "display_data"
    }
   ],
   "source": [
    "experiment = setup(data=data, target= 'cluster',train_size=0.8, session_id=123)\n"
   ]
  },
  {
   "cell_type": "code",
   "execution_count": null,
   "id": "165650bd-8b84-43ac-9909-62645ae30fca",
   "metadata": {
    "tags": []
   },
   "outputs": [],
   "source": [
    "remove_metric('MCC')\n",
    "remove_metric('Kappa')\n",
    "remove_metric('AUC')\n",
    "#'AUC', , 'MCC'"
   ]
  },
  {
   "cell_type": "code",
   "execution_count": 16,
   "id": "c0497d91-5d7d-4f44-8c69-24c6149ee320",
   "metadata": {
    "tags": []
   },
   "outputs": [],
   "source": [
    "training_data = get_config(variable=\"X_train\")"
   ]
  },
  {
   "cell_type": "markdown",
   "id": "2d3efa6e-e21e-4656-a300-0c6ea124047f",
   "metadata": {},
   "source": [
    "###  Experimentación de algoritmos\n",
    "\n",
    "Esta función entrena y evalua el desempeño de diferentes clasificadores disponibles en la libreria.\n",
    " El resultado es una tabla de resultados con los puntajes promediados por medio de validación cruzada con k= 10 iteraciones.\n"
   ]
  },
  {
   "cell_type": "code",
   "execution_count": 18,
   "id": "bd1a8ccf-9efc-4b03-b34f-b1e95951bdab",
   "metadata": {
    "tags": []
   },
   "outputs": [
    {
     "data": {
      "text/html": [],
      "text/plain": [
       "<IPython.core.display.HTML object>"
      ]
     },
     "metadata": {},
     "output_type": "display_data"
    },
    {
     "data": {
      "text/html": [
       "<style type=\"text/css\">\n",
       "#T_00dbf th {\n",
       "  text-align: left;\n",
       "}\n",
       "#T_00dbf_row0_col0, #T_00dbf_row1_col0, #T_00dbf_row1_col1, #T_00dbf_row1_col2, #T_00dbf_row1_col3, #T_00dbf_row1_col4, #T_00dbf_row2_col0, #T_00dbf_row2_col1, #T_00dbf_row2_col2, #T_00dbf_row2_col3, #T_00dbf_row2_col4, #T_00dbf_row3_col0, #T_00dbf_row3_col1, #T_00dbf_row3_col2, #T_00dbf_row3_col3, #T_00dbf_row3_col4, #T_00dbf_row4_col0, #T_00dbf_row4_col1, #T_00dbf_row4_col2, #T_00dbf_row4_col3, #T_00dbf_row4_col4, #T_00dbf_row5_col0, #T_00dbf_row5_col1, #T_00dbf_row5_col2, #T_00dbf_row5_col3, #T_00dbf_row5_col4, #T_00dbf_row6_col0, #T_00dbf_row6_col1, #T_00dbf_row6_col2, #T_00dbf_row6_col3, #T_00dbf_row6_col4, #T_00dbf_row7_col0, #T_00dbf_row7_col1, #T_00dbf_row7_col2, #T_00dbf_row7_col3, #T_00dbf_row7_col4, #T_00dbf_row8_col0, #T_00dbf_row8_col1, #T_00dbf_row8_col2, #T_00dbf_row8_col3, #T_00dbf_row8_col4, #T_00dbf_row9_col0, #T_00dbf_row9_col1, #T_00dbf_row9_col2, #T_00dbf_row9_col3, #T_00dbf_row9_col4, #T_00dbf_row10_col0, #T_00dbf_row10_col1, #T_00dbf_row10_col2, #T_00dbf_row10_col3, #T_00dbf_row10_col4, #T_00dbf_row11_col0, #T_00dbf_row11_col1, #T_00dbf_row11_col2, #T_00dbf_row11_col3, #T_00dbf_row11_col4, #T_00dbf_row12_col0, #T_00dbf_row12_col1, #T_00dbf_row12_col2, #T_00dbf_row12_col3, #T_00dbf_row12_col4 {\n",
       "  text-align: left;\n",
       "}\n",
       "#T_00dbf_row0_col1, #T_00dbf_row0_col2, #T_00dbf_row0_col3, #T_00dbf_row0_col4 {\n",
       "  text-align: left;\n",
       "  background-color: yellow;\n",
       "}\n",
       "#T_00dbf_row0_col5, #T_00dbf_row1_col5, #T_00dbf_row2_col5, #T_00dbf_row3_col5, #T_00dbf_row4_col5, #T_00dbf_row5_col5, #T_00dbf_row6_col5, #T_00dbf_row8_col5, #T_00dbf_row9_col5, #T_00dbf_row10_col5, #T_00dbf_row11_col5, #T_00dbf_row12_col5 {\n",
       "  text-align: left;\n",
       "  background-color: lightgrey;\n",
       "}\n",
       "#T_00dbf_row7_col5 {\n",
       "  text-align: left;\n",
       "  background-color: yellow;\n",
       "  background-color: lightgrey;\n",
       "}\n",
       "</style>\n",
       "<table id=\"T_00dbf\">\n",
       "  <thead>\n",
       "    <tr>\n",
       "      <th class=\"blank level0\" >&nbsp;</th>\n",
       "      <th id=\"T_00dbf_level0_col0\" class=\"col_heading level0 col0\" >Model</th>\n",
       "      <th id=\"T_00dbf_level0_col1\" class=\"col_heading level0 col1\" >Accuracy</th>\n",
       "      <th id=\"T_00dbf_level0_col2\" class=\"col_heading level0 col2\" >Recall</th>\n",
       "      <th id=\"T_00dbf_level0_col3\" class=\"col_heading level0 col3\" >Prec.</th>\n",
       "      <th id=\"T_00dbf_level0_col4\" class=\"col_heading level0 col4\" >F1</th>\n",
       "      <th id=\"T_00dbf_level0_col5\" class=\"col_heading level0 col5\" >TT (Sec)</th>\n",
       "    </tr>\n",
       "  </thead>\n",
       "  <tbody>\n",
       "    <tr>\n",
       "      <th id=\"T_00dbf_level0_row0\" class=\"row_heading level0 row0\" >et</th>\n",
       "      <td id=\"T_00dbf_row0_col0\" class=\"data row0 col0\" >Extra Trees Classifier</td>\n",
       "      <td id=\"T_00dbf_row0_col1\" class=\"data row0 col1\" >0.9855</td>\n",
       "      <td id=\"T_00dbf_row0_col2\" class=\"data row0 col2\" >0.9855</td>\n",
       "      <td id=\"T_00dbf_row0_col3\" class=\"data row0 col3\" >0.9725</td>\n",
       "      <td id=\"T_00dbf_row0_col4\" class=\"data row0 col4\" >0.9787</td>\n",
       "      <td id=\"T_00dbf_row0_col5\" class=\"data row0 col5\" >0.1200</td>\n",
       "    </tr>\n",
       "    <tr>\n",
       "      <th id=\"T_00dbf_level0_row1\" class=\"row_heading level0 row1\" >rf</th>\n",
       "      <td id=\"T_00dbf_row1_col0\" class=\"data row1 col0\" >Random Forest Classifier</td>\n",
       "      <td id=\"T_00dbf_row1_col1\" class=\"data row1 col1\" >0.9760</td>\n",
       "      <td id=\"T_00dbf_row1_col2\" class=\"data row1 col2\" >0.9760</td>\n",
       "      <td id=\"T_00dbf_row1_col3\" class=\"data row1 col3\" >0.9543</td>\n",
       "      <td id=\"T_00dbf_row1_col4\" class=\"data row1 col4\" >0.9646</td>\n",
       "      <td id=\"T_00dbf_row1_col5\" class=\"data row1 col5\" >0.0830</td>\n",
       "    </tr>\n",
       "    <tr>\n",
       "      <th id=\"T_00dbf_level0_row2\" class=\"row_heading level0 row2\" >xgboost</th>\n",
       "      <td id=\"T_00dbf_row2_col0\" class=\"data row2 col0\" >Extreme Gradient Boosting</td>\n",
       "      <td id=\"T_00dbf_row2_col1\" class=\"data row2 col1\" >0.9736</td>\n",
       "      <td id=\"T_00dbf_row2_col2\" class=\"data row2 col2\" >0.9736</td>\n",
       "      <td id=\"T_00dbf_row2_col3\" class=\"data row2 col3\" >0.9659</td>\n",
       "      <td id=\"T_00dbf_row2_col4\" class=\"data row2 col4\" >0.9686</td>\n",
       "      <td id=\"T_00dbf_row2_col5\" class=\"data row2 col5\" >0.0590</td>\n",
       "    </tr>\n",
       "    <tr>\n",
       "      <th id=\"T_00dbf_level0_row3\" class=\"row_heading level0 row3\" >lr</th>\n",
       "      <td id=\"T_00dbf_row3_col0\" class=\"data row3 col0\" >Logistic Regression</td>\n",
       "      <td id=\"T_00dbf_row3_col1\" class=\"data row3 col1\" >0.9712</td>\n",
       "      <td id=\"T_00dbf_row3_col2\" class=\"data row3 col2\" >0.9712</td>\n",
       "      <td id=\"T_00dbf_row3_col3\" class=\"data row3 col3\" >0.9524</td>\n",
       "      <td id=\"T_00dbf_row3_col4\" class=\"data row3 col4\" >0.9611</td>\n",
       "      <td id=\"T_00dbf_row3_col5\" class=\"data row3 col5\" >0.4550</td>\n",
       "    </tr>\n",
       "    <tr>\n",
       "      <th id=\"T_00dbf_level0_row4\" class=\"row_heading level0 row4\" >dt</th>\n",
       "      <td id=\"T_00dbf_row4_col0\" class=\"data row4 col0\" >Decision Tree Classifier</td>\n",
       "      <td id=\"T_00dbf_row4_col1\" class=\"data row4 col1\" >0.9688</td>\n",
       "      <td id=\"T_00dbf_row4_col2\" class=\"data row4 col2\" >0.9688</td>\n",
       "      <td id=\"T_00dbf_row4_col3\" class=\"data row4 col3\" >0.9592</td>\n",
       "      <td id=\"T_00dbf_row4_col4\" class=\"data row4 col4\" >0.9621</td>\n",
       "      <td id=\"T_00dbf_row4_col5\" class=\"data row4 col5\" >0.0460</td>\n",
       "    </tr>\n",
       "    <tr>\n",
       "      <th id=\"T_00dbf_level0_row5\" class=\"row_heading level0 row5\" >ada</th>\n",
       "      <td id=\"T_00dbf_row5_col0\" class=\"data row5 col0\" >Ada Boost Classifier</td>\n",
       "      <td id=\"T_00dbf_row5_col1\" class=\"data row5 col1\" >0.9617</td>\n",
       "      <td id=\"T_00dbf_row5_col2\" class=\"data row5 col2\" >0.9617</td>\n",
       "      <td id=\"T_00dbf_row5_col3\" class=\"data row5 col3\" >0.9378</td>\n",
       "      <td id=\"T_00dbf_row5_col4\" class=\"data row5 col4\" >0.9489</td>\n",
       "      <td id=\"T_00dbf_row5_col5\" class=\"data row5 col5\" >0.1460</td>\n",
       "    </tr>\n",
       "    <tr>\n",
       "      <th id=\"T_00dbf_level0_row6\" class=\"row_heading level0 row6\" >svm</th>\n",
       "      <td id=\"T_00dbf_row6_col0\" class=\"data row6 col0\" >SVM - Linear Kernel</td>\n",
       "      <td id=\"T_00dbf_row6_col1\" class=\"data row6 col1\" >0.9593</td>\n",
       "      <td id=\"T_00dbf_row6_col2\" class=\"data row6 col2\" >0.9593</td>\n",
       "      <td id=\"T_00dbf_row6_col3\" class=\"data row6 col3\" >0.9447</td>\n",
       "      <td id=\"T_00dbf_row6_col4\" class=\"data row6 col4\" >0.9511</td>\n",
       "      <td id=\"T_00dbf_row6_col5\" class=\"data row6 col5\" >0.0470</td>\n",
       "    </tr>\n",
       "    <tr>\n",
       "      <th id=\"T_00dbf_level0_row7\" class=\"row_heading level0 row7\" >ridge</th>\n",
       "      <td id=\"T_00dbf_row7_col0\" class=\"data row7 col0\" >Ridge Classifier</td>\n",
       "      <td id=\"T_00dbf_row7_col1\" class=\"data row7 col1\" >0.9592</td>\n",
       "      <td id=\"T_00dbf_row7_col2\" class=\"data row7 col2\" >0.9592</td>\n",
       "      <td id=\"T_00dbf_row7_col3\" class=\"data row7 col3\" >0.9477</td>\n",
       "      <td id=\"T_00dbf_row7_col4\" class=\"data row7 col4\" >0.9526</td>\n",
       "      <td id=\"T_00dbf_row7_col5\" class=\"data row7 col5\" >0.0320</td>\n",
       "    </tr>\n",
       "    <tr>\n",
       "      <th id=\"T_00dbf_level0_row8\" class=\"row_heading level0 row8\" >lightgbm</th>\n",
       "      <td id=\"T_00dbf_row8_col0\" class=\"data row8 col0\" >Light Gradient Boosting Machine</td>\n",
       "      <td id=\"T_00dbf_row8_col1\" class=\"data row8 col1\" >0.9449</td>\n",
       "      <td id=\"T_00dbf_row8_col2\" class=\"data row8 col2\" >0.9449</td>\n",
       "      <td id=\"T_00dbf_row8_col3\" class=\"data row8 col3\" >0.9358</td>\n",
       "      <td id=\"T_00dbf_row8_col4\" class=\"data row8 col4\" >0.9378</td>\n",
       "      <td id=\"T_00dbf_row8_col5\" class=\"data row8 col5\" >0.2040</td>\n",
       "    </tr>\n",
       "    <tr>\n",
       "      <th id=\"T_00dbf_level0_row9\" class=\"row_heading level0 row9\" >nb</th>\n",
       "      <td id=\"T_00dbf_row9_col0\" class=\"data row9 col0\" >Naive Bayes</td>\n",
       "      <td id=\"T_00dbf_row9_col1\" class=\"data row9 col1\" >0.9304</td>\n",
       "      <td id=\"T_00dbf_row9_col2\" class=\"data row9 col2\" >0.9304</td>\n",
       "      <td id=\"T_00dbf_row9_col3\" class=\"data row9 col3\" >0.9428</td>\n",
       "      <td id=\"T_00dbf_row9_col4\" class=\"data row9 col4\" >0.9342</td>\n",
       "      <td id=\"T_00dbf_row9_col5\" class=\"data row9 col5\" >0.0430</td>\n",
       "    </tr>\n",
       "    <tr>\n",
       "      <th id=\"T_00dbf_level0_row10\" class=\"row_heading level0 row10\" >knn</th>\n",
       "      <td id=\"T_00dbf_row10_col0\" class=\"data row10 col0\" >K Neighbors Classifier</td>\n",
       "      <td id=\"T_00dbf_row10_col1\" class=\"data row10 col1\" >0.8674</td>\n",
       "      <td id=\"T_00dbf_row10_col2\" class=\"data row10 col2\" >0.8674</td>\n",
       "      <td id=\"T_00dbf_row10_col3\" class=\"data row10 col3\" >0.8257</td>\n",
       "      <td id=\"T_00dbf_row10_col4\" class=\"data row10 col4\" >0.8386</td>\n",
       "      <td id=\"T_00dbf_row10_col5\" class=\"data row10 col5\" >0.0420</td>\n",
       "    </tr>\n",
       "    <tr>\n",
       "      <th id=\"T_00dbf_level0_row11\" class=\"row_heading level0 row11\" >lda</th>\n",
       "      <td id=\"T_00dbf_row11_col0\" class=\"data row11 col0\" >Linear Discriminant Analysis</td>\n",
       "      <td id=\"T_00dbf_row11_col1\" class=\"data row11 col1\" >0.8412</td>\n",
       "      <td id=\"T_00dbf_row11_col2\" class=\"data row11 col2\" >0.8412</td>\n",
       "      <td id=\"T_00dbf_row11_col3\" class=\"data row11 col3\" >0.8307</td>\n",
       "      <td id=\"T_00dbf_row11_col4\" class=\"data row11 col4\" >0.8192</td>\n",
       "      <td id=\"T_00dbf_row11_col5\" class=\"data row11 col5\" >0.0590</td>\n",
       "    </tr>\n",
       "    <tr>\n",
       "      <th id=\"T_00dbf_level0_row12\" class=\"row_heading level0 row12\" >qda</th>\n",
       "      <td id=\"T_00dbf_row12_col0\" class=\"data row12 col0\" >Quadratic Discriminant Analysis</td>\n",
       "      <td id=\"T_00dbf_row12_col1\" class=\"data row12 col1\" >0.1540</td>\n",
       "      <td id=\"T_00dbf_row12_col2\" class=\"data row12 col2\" >0.1540</td>\n",
       "      <td id=\"T_00dbf_row12_col3\" class=\"data row12 col3\" >0.0239</td>\n",
       "      <td id=\"T_00dbf_row12_col4\" class=\"data row12 col4\" >0.0413</td>\n",
       "      <td id=\"T_00dbf_row12_col5\" class=\"data row12 col5\" >0.0610</td>\n",
       "    </tr>\n",
       "  </tbody>\n",
       "</table>\n"
      ],
      "text/plain": [
       "<pandas.io.formats.style.Styler at 0x7f88dc0c33d0>"
      ]
     },
     "metadata": {},
     "output_type": "display_data"
    },
    {
     "data": {
      "application/vnd.jupyter.widget-view+json": {
       "model_id": "",
       "version_major": 2,
       "version_minor": 0
      },
      "text/plain": [
       "Processing:   0%|          | 0/57 [00:00<?, ?it/s]"
      ]
     },
     "metadata": {},
     "output_type": "display_data"
    },
    {
     "data": {
      "text/html": [
       "<style>#sk-container-id-1 {color: black;background-color: white;}#sk-container-id-1 pre{padding: 0;}#sk-container-id-1 div.sk-toggleable {background-color: white;}#sk-container-id-1 label.sk-toggleable__label {cursor: pointer;display: block;width: 100%;margin-bottom: 0;padding: 0.3em;box-sizing: border-box;text-align: center;}#sk-container-id-1 label.sk-toggleable__label-arrow:before {content: \"▸\";float: left;margin-right: 0.25em;color: #696969;}#sk-container-id-1 label.sk-toggleable__label-arrow:hover:before {color: black;}#sk-container-id-1 div.sk-estimator:hover label.sk-toggleable__label-arrow:before {color: black;}#sk-container-id-1 div.sk-toggleable__content {max-height: 0;max-width: 0;overflow: hidden;text-align: left;background-color: #f0f8ff;}#sk-container-id-1 div.sk-toggleable__content pre {margin: 0.2em;color: black;border-radius: 0.25em;background-color: #f0f8ff;}#sk-container-id-1 input.sk-toggleable__control:checked~div.sk-toggleable__content {max-height: 200px;max-width: 100%;overflow: auto;}#sk-container-id-1 input.sk-toggleable__control:checked~label.sk-toggleable__label-arrow:before {content: \"▾\";}#sk-container-id-1 div.sk-estimator input.sk-toggleable__control:checked~label.sk-toggleable__label {background-color: #d4ebff;}#sk-container-id-1 div.sk-label input.sk-toggleable__control:checked~label.sk-toggleable__label {background-color: #d4ebff;}#sk-container-id-1 input.sk-hidden--visually {border: 0;clip: rect(1px 1px 1px 1px);clip: rect(1px, 1px, 1px, 1px);height: 1px;margin: -1px;overflow: hidden;padding: 0;position: absolute;width: 1px;}#sk-container-id-1 div.sk-estimator {font-family: monospace;background-color: #f0f8ff;border: 1px dotted black;border-radius: 0.25em;box-sizing: border-box;margin-bottom: 0.5em;}#sk-container-id-1 div.sk-estimator:hover {background-color: #d4ebff;}#sk-container-id-1 div.sk-parallel-item::after {content: \"\";width: 100%;border-bottom: 1px solid gray;flex-grow: 1;}#sk-container-id-1 div.sk-label:hover label.sk-toggleable__label {background-color: #d4ebff;}#sk-container-id-1 div.sk-serial::before {content: \"\";position: absolute;border-left: 1px solid gray;box-sizing: border-box;top: 0;bottom: 0;left: 50%;z-index: 0;}#sk-container-id-1 div.sk-serial {display: flex;flex-direction: column;align-items: center;background-color: white;padding-right: 0.2em;padding-left: 0.2em;position: relative;}#sk-container-id-1 div.sk-item {position: relative;z-index: 1;}#sk-container-id-1 div.sk-parallel {display: flex;align-items: stretch;justify-content: center;background-color: white;position: relative;}#sk-container-id-1 div.sk-item::before, #sk-container-id-1 div.sk-parallel-item::before {content: \"\";position: absolute;border-left: 1px solid gray;box-sizing: border-box;top: 0;bottom: 0;left: 50%;z-index: -1;}#sk-container-id-1 div.sk-parallel-item {display: flex;flex-direction: column;z-index: 1;position: relative;background-color: white;}#sk-container-id-1 div.sk-parallel-item:first-child::after {align-self: flex-end;width: 50%;}#sk-container-id-1 div.sk-parallel-item:last-child::after {align-self: flex-start;width: 50%;}#sk-container-id-1 div.sk-parallel-item:only-child::after {width: 0;}#sk-container-id-1 div.sk-dashed-wrapped {border: 1px dashed gray;margin: 0 0.4em 0.5em 0.4em;box-sizing: border-box;padding-bottom: 0.4em;background-color: white;}#sk-container-id-1 div.sk-label label {font-family: monospace;font-weight: bold;display: inline-block;line-height: 1.2em;}#sk-container-id-1 div.sk-label-container {text-align: center;}#sk-container-id-1 div.sk-container {/* jupyter's `normalize.less` sets `[hidden] { display: none; }` but bootstrap.min.css set `[hidden] { display: none !important; }` so we also need the `!important` here to be able to override the default hidden behavior on the sphinx rendered scikit-learn.org. See: https://github.com/scikit-learn/scikit-learn/issues/21755 */display: inline-block !important;position: relative;}#sk-container-id-1 div.sk-text-repr-fallback {display: none;}</style><div id=\"sk-container-id-1\" class=\"sk-top-container\"><div class=\"sk-text-repr-fallback\"><pre>ExtraTreesClassifier(bootstrap=False, ccp_alpha=0.0, class_weight=None,\n",
       "                     criterion=&#x27;gini&#x27;, max_depth=None, max_features=&#x27;sqrt&#x27;,\n",
       "                     max_leaf_nodes=None, max_samples=None,\n",
       "                     min_impurity_decrease=0.0, min_samples_leaf=1,\n",
       "                     min_samples_split=2, min_weight_fraction_leaf=0.0,\n",
       "                     n_estimators=100, n_jobs=-1, oob_score=False,\n",
       "                     random_state=123, verbose=0, warm_start=False)</pre><b>In a Jupyter environment, please rerun this cell to show the HTML representation or trust the notebook. <br />On GitHub, the HTML representation is unable to render, please try loading this page with nbviewer.org.</b></div><div class=\"sk-container\" hidden><div class=\"sk-item\"><div class=\"sk-estimator sk-toggleable\"><input class=\"sk-toggleable__control sk-hidden--visually\" id=\"sk-estimator-id-1\" type=\"checkbox\" checked><label for=\"sk-estimator-id-1\" class=\"sk-toggleable__label sk-toggleable__label-arrow\">ExtraTreesClassifier</label><div class=\"sk-toggleable__content\"><pre>ExtraTreesClassifier(bootstrap=False, ccp_alpha=0.0, class_weight=None,\n",
       "                     criterion=&#x27;gini&#x27;, max_depth=None, max_features=&#x27;sqrt&#x27;,\n",
       "                     max_leaf_nodes=None, max_samples=None,\n",
       "                     min_impurity_decrease=0.0, min_samples_leaf=1,\n",
       "                     min_samples_split=2, min_weight_fraction_leaf=0.0,\n",
       "                     n_estimators=100, n_jobs=-1, oob_score=False,\n",
       "                     random_state=123, verbose=0, warm_start=False)</pre></div></div></div></div></div>"
      ],
      "text/plain": [
       "ExtraTreesClassifier(bootstrap=False, ccp_alpha=0.0, class_weight=None,\n",
       "                     criterion='gini', max_depth=None, max_features='sqrt',\n",
       "                     max_leaf_nodes=None, max_samples=None,\n",
       "                     min_impurity_decrease=0.0, min_samples_leaf=1,\n",
       "                     min_samples_split=2, min_weight_fraction_leaf=0.0,\n",
       "                     n_estimators=100, n_jobs=-1, oob_score=False,\n",
       "                     random_state=123, verbose=0, warm_start=False)"
      ]
     },
     "execution_count": 18,
     "metadata": {},
     "output_type": "execute_result"
    }
   ],
   "source": [
    "# Algorithm Experimentation\n",
    "compare_models(exclude = ['dummy', 'gbc', 'catboost'])"
   ]
  },
  {
   "cell_type": "code",
   "execution_count": 20,
   "id": "e483ee1c-cf7c-4ab1-8551-732a0c52ca76",
   "metadata": {
    "tags": []
   },
   "outputs": [],
   "source": [
    "results = pull()\n",
    "#results.to_csv('/home/dsg/Escritorio/CCA2024/TABLES/model_benchmarking.csv')\n",
    "models = results.Model.tolist()\n"
   ]
  },
  {
   "cell_type": "markdown",
   "id": "79edd03f-ff36-487b-be5c-d6d05043f574",
   "metadata": {},
   "source": [
    "#### Creando el modelo. \n",
    "En esta sección podemos escoger que modelo queremos crear. \n",
    "Por motivos de explicabilidad hemos seleccionado el Random Forest, ya que permite una exploraicón transparente del proceso clasificatorio, además nos permite calcular la importancia de las variables mediante el computo de la entropía, lo que podriamos utilizar como criterio para encontrar las variables diagnosticas del modelo"
   ]
  },
  {
   "cell_type": "code",
   "execution_count": 21,
   "id": "c265133f-e74c-467e-ada5-0f242feb7f7b",
   "metadata": {
    "tags": []
   },
   "outputs": [
    {
     "data": {
      "application/vnd.jupyter.widget-view+json": {
       "model_id": "821e41651f844c51b1c86633cc5b5745",
       "version_major": 2,
       "version_minor": 0
      },
      "text/plain": [
       "Dropdown(description='Method', options=('Extra Trees Classifier', 'Random Forest Classifier', 'Extreme Gradien…"
      ]
     },
     "metadata": {},
     "output_type": "display_data"
    }
   ],
   "source": [
    "# Selecting a model\n",
    "method = widgets.Dropdown(options=models,description='Method')\n",
    "display(method)"
   ]
  },
  {
   "cell_type": "code",
   "execution_count": 22,
   "id": "ea6797ae-1291-4eb1-ba4e-2f1461e66449",
   "metadata": {
    "tags": []
   },
   "outputs": [
    {
     "data": {
      "text/html": [],
      "text/plain": [
       "<IPython.core.display.HTML object>"
      ]
     },
     "metadata": {},
     "output_type": "display_data"
    },
    {
     "data": {
      "text/html": [
       "<style type=\"text/css\">\n",
       "#T_9dade_row10_col0, #T_9dade_row10_col1, #T_9dade_row10_col2, #T_9dade_row10_col3 {\n",
       "  background: yellow;\n",
       "}\n",
       "</style>\n",
       "<table id=\"T_9dade\">\n",
       "  <thead>\n",
       "    <tr>\n",
       "      <th class=\"blank level0\" >&nbsp;</th>\n",
       "      <th id=\"T_9dade_level0_col0\" class=\"col_heading level0 col0\" >Accuracy</th>\n",
       "      <th id=\"T_9dade_level0_col1\" class=\"col_heading level0 col1\" >Recall</th>\n",
       "      <th id=\"T_9dade_level0_col2\" class=\"col_heading level0 col2\" >Prec.</th>\n",
       "      <th id=\"T_9dade_level0_col3\" class=\"col_heading level0 col3\" >F1</th>\n",
       "    </tr>\n",
       "    <tr>\n",
       "      <th class=\"index_name level0\" >Fold</th>\n",
       "      <th class=\"blank col0\" >&nbsp;</th>\n",
       "      <th class=\"blank col1\" >&nbsp;</th>\n",
       "      <th class=\"blank col2\" >&nbsp;</th>\n",
       "      <th class=\"blank col3\" >&nbsp;</th>\n",
       "    </tr>\n",
       "  </thead>\n",
       "  <tbody>\n",
       "    <tr>\n",
       "      <th id=\"T_9dade_level0_row0\" class=\"row_heading level0 row0\" >0</th>\n",
       "      <td id=\"T_9dade_row0_col0\" class=\"data row0 col0\" >0.9762</td>\n",
       "      <td id=\"T_9dade_row0_col1\" class=\"data row0 col1\" >0.9762</td>\n",
       "      <td id=\"T_9dade_row0_col2\" class=\"data row0 col2\" >0.9558</td>\n",
       "      <td id=\"T_9dade_row0_col3\" class=\"data row0 col3\" >0.9652</td>\n",
       "    </tr>\n",
       "    <tr>\n",
       "      <th id=\"T_9dade_level0_row1\" class=\"row_heading level0 row1\" >1</th>\n",
       "      <td id=\"T_9dade_row1_col0\" class=\"data row1 col0\" >0.9524</td>\n",
       "      <td id=\"T_9dade_row1_col1\" class=\"data row1 col1\" >0.9524</td>\n",
       "      <td id=\"T_9dade_row1_col2\" class=\"data row1 col2\" >0.9088</td>\n",
       "      <td id=\"T_9dade_row1_col3\" class=\"data row1 col3\" >0.9297</td>\n",
       "    </tr>\n",
       "    <tr>\n",
       "      <th id=\"T_9dade_level0_row2\" class=\"row_heading level0 row2\" >2</th>\n",
       "      <td id=\"T_9dade_row2_col0\" class=\"data row2 col0\" >1.0000</td>\n",
       "      <td id=\"T_9dade_row2_col1\" class=\"data row2 col1\" >1.0000</td>\n",
       "      <td id=\"T_9dade_row2_col2\" class=\"data row2 col2\" >1.0000</td>\n",
       "      <td id=\"T_9dade_row2_col3\" class=\"data row2 col3\" >1.0000</td>\n",
       "    </tr>\n",
       "    <tr>\n",
       "      <th id=\"T_9dade_level0_row3\" class=\"row_heading level0 row3\" >3</th>\n",
       "      <td id=\"T_9dade_row3_col0\" class=\"data row3 col0\" >0.9524</td>\n",
       "      <td id=\"T_9dade_row3_col1\" class=\"data row3 col1\" >0.9524</td>\n",
       "      <td id=\"T_9dade_row3_col2\" class=\"data row3 col2\" >0.9088</td>\n",
       "      <td id=\"T_9dade_row3_col3\" class=\"data row3 col3\" >0.9297</td>\n",
       "    </tr>\n",
       "    <tr>\n",
       "      <th id=\"T_9dade_level0_row4\" class=\"row_heading level0 row4\" >4</th>\n",
       "      <td id=\"T_9dade_row4_col0\" class=\"data row4 col0\" >0.9762</td>\n",
       "      <td id=\"T_9dade_row4_col1\" class=\"data row4 col1\" >0.9762</td>\n",
       "      <td id=\"T_9dade_row4_col2\" class=\"data row4 col2\" >0.9531</td>\n",
       "      <td id=\"T_9dade_row4_col3\" class=\"data row4 col3\" >0.9645</td>\n",
       "    </tr>\n",
       "    <tr>\n",
       "      <th id=\"T_9dade_level0_row5\" class=\"row_heading level0 row5\" >5</th>\n",
       "      <td id=\"T_9dade_row5_col0\" class=\"data row5 col0\" >0.9762</td>\n",
       "      <td id=\"T_9dade_row5_col1\" class=\"data row5 col1\" >0.9762</td>\n",
       "      <td id=\"T_9dade_row5_col2\" class=\"data row5 col2\" >0.9558</td>\n",
       "      <td id=\"T_9dade_row5_col3\" class=\"data row5 col3\" >0.9652</td>\n",
       "    </tr>\n",
       "    <tr>\n",
       "      <th id=\"T_9dade_level0_row6\" class=\"row_heading level0 row6\" >6</th>\n",
       "      <td id=\"T_9dade_row6_col0\" class=\"data row6 col0\" >0.9756</td>\n",
       "      <td id=\"T_9dade_row6_col1\" class=\"data row6 col1\" >0.9756</td>\n",
       "      <td id=\"T_9dade_row6_col2\" class=\"data row6 col2\" >0.9543</td>\n",
       "      <td id=\"T_9dade_row6_col3\" class=\"data row6 col3\" >0.9642</td>\n",
       "    </tr>\n",
       "    <tr>\n",
       "      <th id=\"T_9dade_level0_row7\" class=\"row_heading level0 row7\" >7</th>\n",
       "      <td id=\"T_9dade_row7_col0\" class=\"data row7 col0\" >0.9756</td>\n",
       "      <td id=\"T_9dade_row7_col1\" class=\"data row7 col1\" >0.9756</td>\n",
       "      <td id=\"T_9dade_row7_col2\" class=\"data row7 col2\" >0.9543</td>\n",
       "      <td id=\"T_9dade_row7_col3\" class=\"data row7 col3\" >0.9642</td>\n",
       "    </tr>\n",
       "    <tr>\n",
       "      <th id=\"T_9dade_level0_row8\" class=\"row_heading level0 row8\" >8</th>\n",
       "      <td id=\"T_9dade_row8_col0\" class=\"data row8 col0\" >0.9756</td>\n",
       "      <td id=\"T_9dade_row8_col1\" class=\"data row8 col1\" >0.9756</td>\n",
       "      <td id=\"T_9dade_row8_col2\" class=\"data row8 col2\" >0.9519</td>\n",
       "      <td id=\"T_9dade_row8_col3\" class=\"data row8 col3\" >0.9636</td>\n",
       "    </tr>\n",
       "    <tr>\n",
       "      <th id=\"T_9dade_level0_row9\" class=\"row_heading level0 row9\" >9</th>\n",
       "      <td id=\"T_9dade_row9_col0\" class=\"data row9 col0\" >1.0000</td>\n",
       "      <td id=\"T_9dade_row9_col1\" class=\"data row9 col1\" >1.0000</td>\n",
       "      <td id=\"T_9dade_row9_col2\" class=\"data row9 col2\" >1.0000</td>\n",
       "      <td id=\"T_9dade_row9_col3\" class=\"data row9 col3\" >1.0000</td>\n",
       "    </tr>\n",
       "    <tr>\n",
       "      <th id=\"T_9dade_level0_row10\" class=\"row_heading level0 row10\" >Mean</th>\n",
       "      <td id=\"T_9dade_row10_col0\" class=\"data row10 col0\" >0.9760</td>\n",
       "      <td id=\"T_9dade_row10_col1\" class=\"data row10 col1\" >0.9760</td>\n",
       "      <td id=\"T_9dade_row10_col2\" class=\"data row10 col2\" >0.9543</td>\n",
       "      <td id=\"T_9dade_row10_col3\" class=\"data row10 col3\" >0.9646</td>\n",
       "    </tr>\n",
       "    <tr>\n",
       "      <th id=\"T_9dade_level0_row11\" class=\"row_heading level0 row11\" >Std</th>\n",
       "      <td id=\"T_9dade_row11_col0\" class=\"data row11 col0\" >0.0151</td>\n",
       "      <td id=\"T_9dade_row11_col1\" class=\"data row11 col1\" >0.0151</td>\n",
       "      <td id=\"T_9dade_row11_col2\" class=\"data row11 col2\" >0.0288</td>\n",
       "      <td id=\"T_9dade_row11_col3\" class=\"data row11 col3\" >0.0222</td>\n",
       "    </tr>\n",
       "  </tbody>\n",
       "</table>\n"
      ],
      "text/plain": [
       "<pandas.io.formats.style.Styler at 0x7f88b75c0370>"
      ]
     },
     "metadata": {},
     "output_type": "display_data"
    },
    {
     "data": {
      "application/vnd.jupyter.widget-view+json": {
       "model_id": "",
       "version_major": 2,
       "version_minor": 0
      },
      "text/plain": [
       "Processing:   0%|          | 0/4 [00:00<?, ?it/s]"
      ]
     },
     "metadata": {},
     "output_type": "display_data"
    }
   ],
   "source": [
    "#creating the model selected\n",
    "model_mappings = {\n",
    "    \n",
    "    'Light Gradient Boosting Machine': ('lightgbm', {'class_weight': 'balanced'}),\n",
    "    'Extreme Gradient Boosting': ('xgboost', {}),\n",
    "    'Extra Trees Classifier': ('et', {}),\n",
    "    'Random Forest Classifier': ('rf', {}),\n",
    "    'Decision Tree Classifier': ('dt', {}),\n",
    "    'K Neighbors Classifier': ('knn', {}),\n",
    "    'Naive Bayes': ('nb', {}),\n",
    "    'Linear Discriminant Analysis': ('lda', {}),\n",
    "    'Ridge Classifier': ('ridge', {}),\n",
    "    'SVM - Linear Kernel': ('svm', {}),\n",
    "    'Quadratic Discriminant Analysis': ('qda', {}),\n",
    "    'Ada Boost Classifier': ('ada', {}),\n",
    "    'Logistic Regression': ('lr', {}),\n",
    "}\n",
    "\n",
    "model_name, model_args = model_mappings.get(method.value, (None, None))\n",
    "\n",
    "if model_name is not None:\n",
    "    model = create_model(model_name, **model_args)\n",
    "else:\n",
    "    print(\"Method not found or not yet implemented.\")\n"
   ]
  },
  {
   "cell_type": "code",
   "execution_count": 17,
   "id": "83549b6c-d10e-48a0-8236-9f479c6b9770",
   "metadata": {
    "tags": []
   },
   "outputs": [
    {
     "data": {
      "text/html": [
       "<style>#sk-container-id-2 {color: black;background-color: white;}#sk-container-id-2 pre{padding: 0;}#sk-container-id-2 div.sk-toggleable {background-color: white;}#sk-container-id-2 label.sk-toggleable__label {cursor: pointer;display: block;width: 100%;margin-bottom: 0;padding: 0.3em;box-sizing: border-box;text-align: center;}#sk-container-id-2 label.sk-toggleable__label-arrow:before {content: \"▸\";float: left;margin-right: 0.25em;color: #696969;}#sk-container-id-2 label.sk-toggleable__label-arrow:hover:before {color: black;}#sk-container-id-2 div.sk-estimator:hover label.sk-toggleable__label-arrow:before {color: black;}#sk-container-id-2 div.sk-toggleable__content {max-height: 0;max-width: 0;overflow: hidden;text-align: left;background-color: #f0f8ff;}#sk-container-id-2 div.sk-toggleable__content pre {margin: 0.2em;color: black;border-radius: 0.25em;background-color: #f0f8ff;}#sk-container-id-2 input.sk-toggleable__control:checked~div.sk-toggleable__content {max-height: 200px;max-width: 100%;overflow: auto;}#sk-container-id-2 input.sk-toggleable__control:checked~label.sk-toggleable__label-arrow:before {content: \"▾\";}#sk-container-id-2 div.sk-estimator input.sk-toggleable__control:checked~label.sk-toggleable__label {background-color: #d4ebff;}#sk-container-id-2 div.sk-label input.sk-toggleable__control:checked~label.sk-toggleable__label {background-color: #d4ebff;}#sk-container-id-2 input.sk-hidden--visually {border: 0;clip: rect(1px 1px 1px 1px);clip: rect(1px, 1px, 1px, 1px);height: 1px;margin: -1px;overflow: hidden;padding: 0;position: absolute;width: 1px;}#sk-container-id-2 div.sk-estimator {font-family: monospace;background-color: #f0f8ff;border: 1px dotted black;border-radius: 0.25em;box-sizing: border-box;margin-bottom: 0.5em;}#sk-container-id-2 div.sk-estimator:hover {background-color: #d4ebff;}#sk-container-id-2 div.sk-parallel-item::after {content: \"\";width: 100%;border-bottom: 1px solid gray;flex-grow: 1;}#sk-container-id-2 div.sk-label:hover label.sk-toggleable__label {background-color: #d4ebff;}#sk-container-id-2 div.sk-serial::before {content: \"\";position: absolute;border-left: 1px solid gray;box-sizing: border-box;top: 0;bottom: 0;left: 50%;z-index: 0;}#sk-container-id-2 div.sk-serial {display: flex;flex-direction: column;align-items: center;background-color: white;padding-right: 0.2em;padding-left: 0.2em;position: relative;}#sk-container-id-2 div.sk-item {position: relative;z-index: 1;}#sk-container-id-2 div.sk-parallel {display: flex;align-items: stretch;justify-content: center;background-color: white;position: relative;}#sk-container-id-2 div.sk-item::before, #sk-container-id-2 div.sk-parallel-item::before {content: \"\";position: absolute;border-left: 1px solid gray;box-sizing: border-box;top: 0;bottom: 0;left: 50%;z-index: -1;}#sk-container-id-2 div.sk-parallel-item {display: flex;flex-direction: column;z-index: 1;position: relative;background-color: white;}#sk-container-id-2 div.sk-parallel-item:first-child::after {align-self: flex-end;width: 50%;}#sk-container-id-2 div.sk-parallel-item:last-child::after {align-self: flex-start;width: 50%;}#sk-container-id-2 div.sk-parallel-item:only-child::after {width: 0;}#sk-container-id-2 div.sk-dashed-wrapped {border: 1px dashed gray;margin: 0 0.4em 0.5em 0.4em;box-sizing: border-box;padding-bottom: 0.4em;background-color: white;}#sk-container-id-2 div.sk-label label {font-family: monospace;font-weight: bold;display: inline-block;line-height: 1.2em;}#sk-container-id-2 div.sk-label-container {text-align: center;}#sk-container-id-2 div.sk-container {/* jupyter's `normalize.less` sets `[hidden] { display: none; }` but bootstrap.min.css set `[hidden] { display: none !important; }` so we also need the `!important` here to be able to override the default hidden behavior on the sphinx rendered scikit-learn.org. See: https://github.com/scikit-learn/scikit-learn/issues/21755 */display: inline-block !important;position: relative;}#sk-container-id-2 div.sk-text-repr-fallback {display: none;}</style><div id=\"sk-container-id-2\" class=\"sk-top-container\"><div class=\"sk-text-repr-fallback\"><pre>RandomForestClassifier(bootstrap=True, ccp_alpha=0.0, class_weight=None,\n",
       "                       criterion=&#x27;gini&#x27;, max_depth=None, max_features=&#x27;sqrt&#x27;,\n",
       "                       max_leaf_nodes=None, max_samples=None,\n",
       "                       min_impurity_decrease=0.0, min_samples_leaf=1,\n",
       "                       min_samples_split=2, min_weight_fraction_leaf=0.0,\n",
       "                       n_estimators=100, n_jobs=-1, oob_score=False,\n",
       "                       random_state=123, verbose=0, warm_start=False)</pre><b>In a Jupyter environment, please rerun this cell to show the HTML representation or trust the notebook. <br />On GitHub, the HTML representation is unable to render, please try loading this page with nbviewer.org.</b></div><div class=\"sk-container\" hidden><div class=\"sk-item\"><div class=\"sk-estimator sk-toggleable\"><input class=\"sk-toggleable__control sk-hidden--visually\" id=\"sk-estimator-id-2\" type=\"checkbox\" checked><label for=\"sk-estimator-id-2\" class=\"sk-toggleable__label sk-toggleable__label-arrow\">RandomForestClassifier</label><div class=\"sk-toggleable__content\"><pre>RandomForestClassifier(bootstrap=True, ccp_alpha=0.0, class_weight=None,\n",
       "                       criterion=&#x27;gini&#x27;, max_depth=None, max_features=&#x27;sqrt&#x27;,\n",
       "                       max_leaf_nodes=None, max_samples=None,\n",
       "                       min_impurity_decrease=0.0, min_samples_leaf=1,\n",
       "                       min_samples_split=2, min_weight_fraction_leaf=0.0,\n",
       "                       n_estimators=100, n_jobs=-1, oob_score=False,\n",
       "                       random_state=123, verbose=0, warm_start=False)</pre></div></div></div></div></div>"
      ],
      "text/plain": [
       "RandomForestClassifier(bootstrap=True, ccp_alpha=0.0, class_weight=None,\n",
       "                       criterion='gini', max_depth=None, max_features='sqrt',\n",
       "                       max_leaf_nodes=None, max_samples=None,\n",
       "                       min_impurity_decrease=0.0, min_samples_leaf=1,\n",
       "                       min_samples_split=2, min_weight_fraction_leaf=0.0,\n",
       "                       n_estimators=100, n_jobs=-1, oob_score=False,\n",
       "                       random_state=123, verbose=0, warm_start=False)"
      ]
     },
     "execution_count": 17,
     "metadata": {},
     "output_type": "execute_result"
    }
   ],
   "source": [
    "# Model parameters\n",
    "model"
   ]
  },
  {
   "cell_type": "code",
   "execution_count": 24,
   "id": "3fa14350-97cc-45f5-8727-b39db0c5d734",
   "metadata": {
    "tags": []
   },
   "outputs": [
    {
     "data": {
      "image/svg+xml": [
       "<?xml version=\"1.0\" encoding=\"UTF-8\" standalone=\"no\"?>\n",
       "<!DOCTYPE svg PUBLIC \"-//W3C//DTD SVG 1.1//EN\"\n",
       " \"http://www.w3.org/Graphics/SVG/1.1/DTD/svg11.dtd\">\n",
       "<!-- Generated by graphviz version 2.43.0 (0)\n",
       " -->\n",
       "<!-- Title: Tree Pages: 1 -->\n",
       "<svg width=\"1014pt\" height=\"311pt\"\n",
       " viewBox=\"0.00 0.00 1014.00 311.00\" xmlns=\"http://www.w3.org/2000/svg\" xmlns:xlink=\"http://www.w3.org/1999/xlink\">\n",
       "<g id=\"graph0\" class=\"graph\" transform=\"scale(1 1) rotate(0) translate(4 307)\">\n",
       "<title>Tree</title>\n",
       "<polygon fill=\"white\" stroke=\"transparent\" points=\"-4,4 -4,-307 1010,-307 1010,4 -4,4\"/>\n",
       "<!-- 0 -->\n",
       "<g id=\"node1\" class=\"node\">\n",
       "<title>0</title>\n",
       "<polygon fill=\"#f7fbfe\" stroke=\"black\" points=\"665,-303 390,-303 390,-250 665,-250 665,-303\"/>\n",
       "<text text-anchor=\"middle\" x=\"527.5\" y=\"-287.8\" font-family=\"Helvetica,sans-Serif\" font-size=\"14.00\">Localizacion &lt;= 0.5</text>\n",
       "<text text-anchor=\"middle\" x=\"527.5\" y=\"-272.8\" font-family=\"Helvetica,sans-Serif\" font-size=\"14.00\">samples = 100.0%</text>\n",
       "<text text-anchor=\"middle\" x=\"527.5\" y=\"-257.8\" font-family=\"Helvetica,sans-Serif\" font-size=\"14.00\">value = [0.024, 0.387, 0.411, 0.178]</text>\n",
       "</g>\n",
       "<!-- 1 -->\n",
       "<g id=\"node2\" class=\"node\">\n",
       "<title>1</title>\n",
       "<polygon fill=\"#f6fbfe\" stroke=\"black\" points=\"525,-214 250,-214 250,-161 525,-161 525,-214\"/>\n",
       "<text text-anchor=\"middle\" x=\"387.5\" y=\"-198.8\" font-family=\"Helvetica,sans-Serif\" font-size=\"14.00\">Grosor₍mm) &lt;= 9.5</text>\n",
       "<text text-anchor=\"middle\" x=\"387.5\" y=\"-183.8\" font-family=\"Helvetica,sans-Serif\" font-size=\"14.00\">samples = 97.4%</text>\n",
       "<text text-anchor=\"middle\" x=\"387.5\" y=\"-168.8\" font-family=\"Helvetica,sans-Serif\" font-size=\"14.00\">value = [0.007, 0.391, 0.418, 0.183]</text>\n",
       "</g>\n",
       "<!-- 0&#45;&gt;1 -->\n",
       "<g id=\"edge1\" class=\"edge\">\n",
       "<title>0&#45;&gt;1</title>\n",
       "<path fill=\"none\" stroke=\"black\" d=\"M486.25,-249.87C471.01,-240.39 453.56,-229.55 437.62,-219.64\"/>\n",
       "<polygon fill=\"black\" stroke=\"black\" points=\"439.28,-216.56 428.94,-214.25 435.58,-222.5 439.28,-216.56\"/>\n",
       "<text text-anchor=\"middle\" x=\"434.62\" y=\"-234.89\" font-family=\"Helvetica,sans-Serif\" font-size=\"14.00\">True</text>\n",
       "</g>\n",
       "<!-- 26 -->\n",
       "<g id=\"node9\" class=\"node\">\n",
       "<title>26</title>\n",
       "<polygon fill=\"#f3c7a7\" stroke=\"black\" points=\"791.5,-214 543.5,-214 543.5,-161 791.5,-161 791.5,-214\"/>\n",
       "<text text-anchor=\"middle\" x=\"667.5\" y=\"-198.8\" font-family=\"Helvetica,sans-Serif\" font-size=\"14.00\">Composicion &lt;= 4.5</text>\n",
       "<text text-anchor=\"middle\" x=\"667.5\" y=\"-183.8\" font-family=\"Helvetica,sans-Serif\" font-size=\"14.00\">samples = 2.6%</text>\n",
       "<text text-anchor=\"middle\" x=\"667.5\" y=\"-168.8\" font-family=\"Helvetica,sans-Serif\" font-size=\"14.00\">value = [0.583, 0.25, 0.167, 0.0]</text>\n",
       "</g>\n",
       "<!-- 0&#45;&gt;26 -->\n",
       "<g id=\"edge8\" class=\"edge\">\n",
       "<title>0&#45;&gt;26</title>\n",
       "<path fill=\"none\" stroke=\"black\" d=\"M568.75,-249.87C583.99,-240.39 601.44,-229.55 617.38,-219.64\"/>\n",
       "<polygon fill=\"black\" stroke=\"black\" points=\"619.42,-222.5 626.06,-214.25 615.72,-216.56 619.42,-222.5\"/>\n",
       "<text text-anchor=\"middle\" x=\"620.38\" y=\"-234.89\" font-family=\"Helvetica,sans-Serif\" font-size=\"14.00\">False</text>\n",
       "</g>\n",
       "<!-- 2 -->\n",
       "<g id=\"node3\" class=\"node\">\n",
       "<title>2</title>\n",
       "<polygon fill=\"#f3f9fd\" stroke=\"black\" points=\"239,-125 0,-125 0,-72 239,-72 239,-125\"/>\n",
       "<text text-anchor=\"middle\" x=\"119.5\" y=\"-109.8\" font-family=\"Helvetica,sans-Serif\" font-size=\"14.00\">Composicion &lt;= 3.5</text>\n",
       "<text text-anchor=\"middle\" x=\"119.5\" y=\"-94.8\" font-family=\"Helvetica,sans-Serif\" font-size=\"14.00\">samples = 78.0%</text>\n",
       "<text text-anchor=\"middle\" x=\"119.5\" y=\"-79.8\" font-family=\"Helvetica,sans-Serif\" font-size=\"14.00\">value = [0.0, 0.484, 0.516, 0.0]</text>\n",
       "</g>\n",
       "<!-- 1&#45;&gt;2 -->\n",
       "<g id=\"edge2\" class=\"edge\">\n",
       "<title>1&#45;&gt;2</title>\n",
       "<path fill=\"none\" stroke=\"black\" d=\"M308.9,-160.98C277.13,-150.67 240.32,-138.72 207.64,-128.11\"/>\n",
       "<polygon fill=\"black\" stroke=\"black\" points=\"208.69,-124.77 198.1,-125.01 206.53,-131.43 208.69,-124.77\"/>\n",
       "</g>\n",
       "<!-- 5 -->\n",
       "<g id=\"node6\" class=\"node\">\n",
       "<title>5</title>\n",
       "<polygon fill=\"#dd56e9\" stroke=\"black\" points=\"523.5,-125 257.5,-125 257.5,-72 523.5,-72 523.5,-125\"/>\n",
       "<text text-anchor=\"middle\" x=\"390.5\" y=\"-109.8\" font-family=\"Helvetica,sans-Serif\" font-size=\"14.00\">Tecnica &lt;= 4.5</text>\n",
       "<text text-anchor=\"middle\" x=\"390.5\" y=\"-94.8\" font-family=\"Helvetica,sans-Serif\" font-size=\"14.00\">samples = 19.4%</text>\n",
       "<text text-anchor=\"middle\" x=\"390.5\" y=\"-79.8\" font-family=\"Helvetica,sans-Serif\" font-size=\"14.00\">value = [0.035, 0.047, 0.058, 0.86]</text>\n",
       "</g>\n",
       "<!-- 1&#45;&gt;5 -->\n",
       "<g id=\"edge5\" class=\"edge\">\n",
       "<title>1&#45;&gt;5</title>\n",
       "<path fill=\"none\" stroke=\"black\" d=\"M388.38,-160.87C388.66,-152.89 388.97,-143.93 389.26,-135.38\"/>\n",
       "<polygon fill=\"black\" stroke=\"black\" points=\"392.77,-135.36 389.61,-125.25 385.77,-135.12 392.77,-135.36\"/>\n",
       "</g>\n",
       "<!-- 3 -->\n",
       "<g id=\"node4\" class=\"node\">\n",
       "<title>3</title>\n",
       "<polygon fill=\"#c0c0c0\" stroke=\"black\" points=\"110.5,-36 56.5,-36 56.5,0 110.5,0 110.5,-36\"/>\n",
       "<text text-anchor=\"middle\" x=\"83.5\" y=\"-14.3\" font-family=\"Helvetica,sans-Serif\" font-size=\"14.00\">(...)</text>\n",
       "</g>\n",
       "<!-- 2&#45;&gt;3 -->\n",
       "<g id=\"edge3\" class=\"edge\">\n",
       "<title>2&#45;&gt;3</title>\n",
       "<path fill=\"none\" stroke=\"black\" d=\"M107.71,-71.8C103.84,-63.35 99.53,-53.95 95.63,-45.45\"/>\n",
       "<polygon fill=\"black\" stroke=\"black\" points=\"98.8,-43.96 91.45,-36.33 92.43,-46.88 98.8,-43.96\"/>\n",
       "</g>\n",
       "<!-- 4 -->\n",
       "<g id=\"node5\" class=\"node\">\n",
       "<title>4</title>\n",
       "<polygon fill=\"#c0c0c0\" stroke=\"black\" points=\"182.5,-36 128.5,-36 128.5,0 182.5,0 182.5,-36\"/>\n",
       "<text text-anchor=\"middle\" x=\"155.5\" y=\"-14.3\" font-family=\"Helvetica,sans-Serif\" font-size=\"14.00\">(...)</text>\n",
       "</g>\n",
       "<!-- 2&#45;&gt;4 -->\n",
       "<g id=\"edge4\" class=\"edge\">\n",
       "<title>2&#45;&gt;4</title>\n",
       "<path fill=\"none\" stroke=\"black\" d=\"M131.29,-71.8C135.16,-63.35 139.47,-53.95 143.37,-45.45\"/>\n",
       "<polygon fill=\"black\" stroke=\"black\" points=\"146.57,-46.88 147.55,-36.33 140.2,-43.96 146.57,-46.88\"/>\n",
       "</g>\n",
       "<!-- 6 -->\n",
       "<g id=\"node7\" class=\"node\">\n",
       "<title>6</title>\n",
       "<polygon fill=\"#c0c0c0\" stroke=\"black\" points=\"381.5,-36 327.5,-36 327.5,0 381.5,0 381.5,-36\"/>\n",
       "<text text-anchor=\"middle\" x=\"354.5\" y=\"-14.3\" font-family=\"Helvetica,sans-Serif\" font-size=\"14.00\">(...)</text>\n",
       "</g>\n",
       "<!-- 5&#45;&gt;6 -->\n",
       "<g id=\"edge6\" class=\"edge\">\n",
       "<title>5&#45;&gt;6</title>\n",
       "<path fill=\"none\" stroke=\"black\" d=\"M378.71,-71.8C374.84,-63.35 370.53,-53.95 366.63,-45.45\"/>\n",
       "<polygon fill=\"black\" stroke=\"black\" points=\"369.8,-43.96 362.45,-36.33 363.43,-46.88 369.8,-43.96\"/>\n",
       "</g>\n",
       "<!-- 25 -->\n",
       "<g id=\"node8\" class=\"node\">\n",
       "<title>25</title>\n",
       "<polygon fill=\"#c0c0c0\" stroke=\"black\" points=\"453.5,-36 399.5,-36 399.5,0 453.5,0 453.5,-36\"/>\n",
       "<text text-anchor=\"middle\" x=\"426.5\" y=\"-14.3\" font-family=\"Helvetica,sans-Serif\" font-size=\"14.00\">(...)</text>\n",
       "</g>\n",
       "<!-- 5&#45;&gt;25 -->\n",
       "<g id=\"edge7\" class=\"edge\">\n",
       "<title>5&#45;&gt;25</title>\n",
       "<path fill=\"none\" stroke=\"black\" d=\"M402.29,-71.8C406.16,-63.35 410.47,-53.95 414.37,-45.45\"/>\n",
       "<polygon fill=\"black\" stroke=\"black\" points=\"417.57,-46.88 418.55,-36.33 411.2,-43.96 417.57,-46.88\"/>\n",
       "</g>\n",
       "<!-- 27 -->\n",
       "<g id=\"node10\" class=\"node\">\n",
       "<title>27</title>\n",
       "<polygon fill=\"#eca572\" stroke=\"black\" points=\"785,-125 546,-125 546,-72 785,-72 785,-125\"/>\n",
       "<text text-anchor=\"middle\" x=\"665.5\" y=\"-109.8\" font-family=\"Helvetica,sans-Serif\" font-size=\"14.00\">Composicion &lt;= 1.0</text>\n",
       "<text text-anchor=\"middle\" x=\"665.5\" y=\"-94.8\" font-family=\"Helvetica,sans-Serif\" font-size=\"14.00\">samples = 1.9%</text>\n",
       "<text text-anchor=\"middle\" x=\"665.5\" y=\"-79.8\" font-family=\"Helvetica,sans-Serif\" font-size=\"14.00\">value = [0.778, 0.0, 0.222, 0.0]</text>\n",
       "</g>\n",
       "<!-- 26&#45;&gt;27 -->\n",
       "<g id=\"edge9\" class=\"edge\">\n",
       "<title>26&#45;&gt;27</title>\n",
       "<path fill=\"none\" stroke=\"black\" d=\"M666.91,-160.87C666.73,-152.89 666.52,-143.93 666.32,-135.38\"/>\n",
       "<polygon fill=\"black\" stroke=\"black\" points=\"669.82,-135.17 666.09,-125.25 662.82,-135.33 669.82,-135.17\"/>\n",
       "</g>\n",
       "<!-- 32 -->\n",
       "<g id=\"node13\" class=\"node\">\n",
       "<title>32</title>\n",
       "<polygon fill=\"#47e539\" stroke=\"black\" points=\"1006,-117.5 803,-117.5 803,-79.5 1006,-79.5 1006,-117.5\"/>\n",
       "<text text-anchor=\"middle\" x=\"904.5\" y=\"-102.3\" font-family=\"Helvetica,sans-Serif\" font-size=\"14.00\">samples = 0.7%</text>\n",
       "<text text-anchor=\"middle\" x=\"904.5\" y=\"-87.3\" font-family=\"Helvetica,sans-Serif\" font-size=\"14.00\">value = [0.0, 1.0, 0.0, 0.0]</text>\n",
       "</g>\n",
       "<!-- 26&#45;&gt;32 -->\n",
       "<g id=\"edge12\" class=\"edge\">\n",
       "<title>26&#45;&gt;32</title>\n",
       "<path fill=\"none\" stroke=\"black\" d=\"M737.01,-160.98C771.57,-148.3 812.87,-133.14 845.82,-121.04\"/>\n",
       "<polygon fill=\"black\" stroke=\"black\" points=\"847.13,-124.29 855.32,-117.55 844.72,-117.72 847.13,-124.29\"/>\n",
       "</g>\n",
       "<!-- 28 -->\n",
       "<g id=\"node11\" class=\"node\">\n",
       "<title>28</title>\n",
       "<polygon fill=\"#c0c0c0\" stroke=\"black\" points=\"656.5,-36 602.5,-36 602.5,0 656.5,0 656.5,-36\"/>\n",
       "<text text-anchor=\"middle\" x=\"629.5\" y=\"-14.3\" font-family=\"Helvetica,sans-Serif\" font-size=\"14.00\">(...)</text>\n",
       "</g>\n",
       "<!-- 27&#45;&gt;28 -->\n",
       "<g id=\"edge10\" class=\"edge\">\n",
       "<title>27&#45;&gt;28</title>\n",
       "<path fill=\"none\" stroke=\"black\" d=\"M653.71,-71.8C649.84,-63.35 645.53,-53.95 641.63,-45.45\"/>\n",
       "<polygon fill=\"black\" stroke=\"black\" points=\"644.8,-43.96 637.45,-36.33 638.43,-46.88 644.8,-43.96\"/>\n",
       "</g>\n",
       "<!-- 29 -->\n",
       "<g id=\"node12\" class=\"node\">\n",
       "<title>29</title>\n",
       "<polygon fill=\"#c0c0c0\" stroke=\"black\" points=\"728.5,-36 674.5,-36 674.5,0 728.5,0 728.5,-36\"/>\n",
       "<text text-anchor=\"middle\" x=\"701.5\" y=\"-14.3\" font-family=\"Helvetica,sans-Serif\" font-size=\"14.00\">(...)</text>\n",
       "</g>\n",
       "<!-- 27&#45;&gt;29 -->\n",
       "<g id=\"edge11\" class=\"edge\">\n",
       "<title>27&#45;&gt;29</title>\n",
       "<path fill=\"none\" stroke=\"black\" d=\"M677.29,-71.8C681.16,-63.35 685.47,-53.95 689.37,-45.45\"/>\n",
       "<polygon fill=\"black\" stroke=\"black\" points=\"692.57,-46.88 693.55,-36.33 686.2,-43.96 692.57,-46.88\"/>\n",
       "</g>\n",
       "</g>\n",
       "</svg>\n"
      ],
      "text/plain": [
       "<graphviz.sources.Source at 0x7f66f89a31f0>"
      ]
     },
     "metadata": {},
     "output_type": "display_data"
    },
    {
     "data": {
      "image/svg+xml": [
       "<?xml version=\"1.0\" encoding=\"UTF-8\" standalone=\"no\"?>\n",
       "<!DOCTYPE svg PUBLIC \"-//W3C//DTD SVG 1.1//EN\"\n",
       " \"http://www.w3.org/Graphics/SVG/1.1/DTD/svg11.dtd\">\n",
       "<!-- Generated by graphviz version 2.43.0 (0)\n",
       " -->\n",
       "<!-- Title: Tree Pages: 1 -->\n",
       "<svg width=\"1038pt\" height=\"311pt\"\n",
       " viewBox=\"0.00 0.00 1038.00 311.00\" xmlns=\"http://www.w3.org/2000/svg\" xmlns:xlink=\"http://www.w3.org/1999/xlink\">\n",
       "<g id=\"graph0\" class=\"graph\" transform=\"scale(1 1) rotate(0) translate(4 307)\">\n",
       "<title>Tree</title>\n",
       "<polygon fill=\"white\" stroke=\"transparent\" points=\"-4,4 -4,-307 1034,-307 1034,4 -4,4\"/>\n",
       "<!-- 0 -->\n",
       "<g id=\"node1\" class=\"node\">\n",
       "<title>0</title>\n",
       "<polygon fill=\"#fbfdfe\" stroke=\"black\" points=\"688.5,-303 422.5,-303 422.5,-250 688.5,-250 688.5,-303\"/>\n",
       "<text text-anchor=\"middle\" x=\"555.5\" y=\"-287.8\" font-family=\"Helvetica,sans-Serif\" font-size=\"14.00\">Grosor₍mm) &lt;= 10.5</text>\n",
       "<text text-anchor=\"middle\" x=\"555.5\" y=\"-272.8\" font-family=\"Helvetica,sans-Serif\" font-size=\"14.00\">samples = 100.0%</text>\n",
       "<text text-anchor=\"middle\" x=\"555.5\" y=\"-257.8\" font-family=\"Helvetica,sans-Serif\" font-size=\"14.00\">value = [0.029, 0.418, 0.43, 0.123]</text>\n",
       "</g>\n",
       "<!-- 1 -->\n",
       "<g id=\"node2\" class=\"node\">\n",
       "<title>1</title>\n",
       "<polygon fill=\"#fafdfe\" stroke=\"black\" points=\"556,-214 281,-214 281,-161 556,-161 556,-214\"/>\n",
       "<text text-anchor=\"middle\" x=\"418.5\" y=\"-198.8\" font-family=\"Helvetica,sans-Serif\" font-size=\"14.00\">Elemento₁ &lt;= 1.5</text>\n",
       "<text text-anchor=\"middle\" x=\"418.5\" y=\"-183.8\" font-family=\"Helvetica,sans-Serif\" font-size=\"14.00\">samples = 88.7%</text>\n",
       "<text text-anchor=\"middle\" x=\"418.5\" y=\"-168.8\" font-family=\"Helvetica,sans-Serif\" font-size=\"14.00\">value = [0.024, 0.469, 0.482, 0.024]</text>\n",
       "</g>\n",
       "<!-- 0&#45;&gt;1 -->\n",
       "<g id=\"edge1\" class=\"edge\">\n",
       "<title>0&#45;&gt;1</title>\n",
       "<path fill=\"none\" stroke=\"black\" d=\"M515.14,-249.87C500.22,-240.39 483.15,-229.55 467.54,-219.64\"/>\n",
       "<polygon fill=\"black\" stroke=\"black\" points=\"469.37,-216.66 459.05,-214.25 465.61,-222.57 469.37,-216.66\"/>\n",
       "<text text-anchor=\"middle\" x=\"464.49\" y=\"-234.95\" font-family=\"Helvetica,sans-Serif\" font-size=\"14.00\">True</text>\n",
       "</g>\n",
       "<!-- 46 -->\n",
       "<g id=\"node9\" class=\"node\">\n",
       "<title>46</title>\n",
       "<polygon fill=\"#da47e7\" stroke=\"black\" points=\"813,-214 574,-214 574,-161 813,-161 813,-214\"/>\n",
       "<text text-anchor=\"middle\" x=\"693.5\" y=\"-198.8\" font-family=\"Helvetica,sans-Serif\" font-size=\"14.00\">Engobe &lt;= 0.5</text>\n",
       "<text text-anchor=\"middle\" x=\"693.5\" y=\"-183.8\" font-family=\"Helvetica,sans-Serif\" font-size=\"14.00\">samples = 11.3%</text>\n",
       "<text text-anchor=\"middle\" x=\"693.5\" y=\"-168.8\" font-family=\"Helvetica,sans-Serif\" font-size=\"14.00\">value = [0.067, 0.0, 0.0, 0.933]</text>\n",
       "</g>\n",
       "<!-- 0&#45;&gt;46 -->\n",
       "<g id=\"edge8\" class=\"edge\">\n",
       "<title>0&#45;&gt;46</title>\n",
       "<path fill=\"none\" stroke=\"black\" d=\"M596.16,-249.87C611.18,-240.39 628.38,-229.55 644.1,-219.64\"/>\n",
       "<polygon fill=\"black\" stroke=\"black\" points=\"646.06,-222.54 652.66,-214.25 642.33,-216.62 646.06,-222.54\"/>\n",
       "<text text-anchor=\"middle\" x=\"647.13\" y=\"-234.93\" font-family=\"Helvetica,sans-Serif\" font-size=\"14.00\">False</text>\n",
       "</g>\n",
       "<!-- 2 -->\n",
       "<g id=\"node3\" class=\"node\">\n",
       "<title>2</title>\n",
       "<polygon fill=\"#f7fbfe\" stroke=\"black\" points=\"275,-125 0,-125 0,-72 275,-72 275,-125\"/>\n",
       "<text text-anchor=\"middle\" x=\"137.5\" y=\"-109.8\" font-family=\"Helvetica,sans-Serif\" font-size=\"14.00\">Grosor₍mm) &lt;= 9.5</text>\n",
       "<text text-anchor=\"middle\" x=\"137.5\" y=\"-94.8\" font-family=\"Helvetica,sans-Serif\" font-size=\"14.00\">samples = 85.3%</text>\n",
       "<text text-anchor=\"middle\" x=\"137.5\" y=\"-79.8\" font-family=\"Helvetica,sans-Serif\" font-size=\"14.00\">value = [0.011, 0.471, 0.493, 0.025]</text>\n",
       "</g>\n",
       "<!-- 1&#45;&gt;2 -->\n",
       "<g id=\"edge2\" class=\"edge\">\n",
       "<title>1&#45;&gt;2</title>\n",
       "<path fill=\"none\" stroke=\"black\" d=\"M336.09,-160.98C302.64,-150.63 263.85,-138.62 229.48,-127.98\"/>\n",
       "<polygon fill=\"black\" stroke=\"black\" points=\"230.5,-124.63 219.91,-125.01 228.43,-131.32 230.5,-124.63\"/>\n",
       "</g>\n",
       "<!-- 33 -->\n",
       "<g id=\"node6\" class=\"node\">\n",
       "<title>33</title>\n",
       "<polygon fill=\"#ffffff\" stroke=\"black\" points=\"550,-125 293,-125 293,-72 550,-72 550,-125\"/>\n",
       "<text text-anchor=\"middle\" x=\"421.5\" y=\"-109.8\" font-family=\"Helvetica,sans-Serif\" font-size=\"14.00\">Coccion &lt;= 0.5</text>\n",
       "<text text-anchor=\"middle\" x=\"421.5\" y=\"-94.8\" font-family=\"Helvetica,sans-Serif\" font-size=\"14.00\">samples = 3.4%</text>\n",
       "<text text-anchor=\"middle\" x=\"421.5\" y=\"-79.8\" font-family=\"Helvetica,sans-Serif\" font-size=\"14.00\">value = [0.417, 0.417, 0.167, 0.0]</text>\n",
       "</g>\n",
       "<!-- 1&#45;&gt;33 -->\n",
       "<g id=\"edge5\" class=\"edge\">\n",
       "<title>1&#45;&gt;33</title>\n",
       "<path fill=\"none\" stroke=\"black\" d=\"M419.38,-160.87C419.66,-152.89 419.97,-143.93 420.26,-135.38\"/>\n",
       "<polygon fill=\"black\" stroke=\"black\" points=\"423.77,-135.36 420.61,-125.25 416.77,-135.12 423.77,-135.36\"/>\n",
       "</g>\n",
       "<!-- 3 -->\n",
       "<g id=\"node4\" class=\"node\">\n",
       "<title>3</title>\n",
       "<polygon fill=\"#c0c0c0\" stroke=\"black\" points=\"128.5,-36 74.5,-36 74.5,0 128.5,0 128.5,-36\"/>\n",
       "<text text-anchor=\"middle\" x=\"101.5\" y=\"-14.3\" font-family=\"Helvetica,sans-Serif\" font-size=\"14.00\">(...)</text>\n",
       "</g>\n",
       "<!-- 2&#45;&gt;3 -->\n",
       "<g id=\"edge3\" class=\"edge\">\n",
       "<title>2&#45;&gt;3</title>\n",
       "<path fill=\"none\" stroke=\"black\" d=\"M125.71,-71.8C121.84,-63.35 117.53,-53.95 113.63,-45.45\"/>\n",
       "<polygon fill=\"black\" stroke=\"black\" points=\"116.8,-43.96 109.45,-36.33 110.43,-46.88 116.8,-43.96\"/>\n",
       "</g>\n",
       "<!-- 20 -->\n",
       "<g id=\"node5\" class=\"node\">\n",
       "<title>20</title>\n",
       "<polygon fill=\"#c0c0c0\" stroke=\"black\" points=\"200.5,-36 146.5,-36 146.5,0 200.5,0 200.5,-36\"/>\n",
       "<text text-anchor=\"middle\" x=\"173.5\" y=\"-14.3\" font-family=\"Helvetica,sans-Serif\" font-size=\"14.00\">(...)</text>\n",
       "</g>\n",
       "<!-- 2&#45;&gt;20 -->\n",
       "<g id=\"edge4\" class=\"edge\">\n",
       "<title>2&#45;&gt;20</title>\n",
       "<path fill=\"none\" stroke=\"black\" d=\"M149.29,-71.8C153.16,-63.35 157.47,-53.95 161.37,-45.45\"/>\n",
       "<polygon fill=\"black\" stroke=\"black\" points=\"164.57,-46.88 165.55,-36.33 158.2,-43.96 164.57,-46.88\"/>\n",
       "</g>\n",
       "<!-- 34 -->\n",
       "<g id=\"node7\" class=\"node\">\n",
       "<title>34</title>\n",
       "<polygon fill=\"#c0c0c0\" stroke=\"black\" points=\"412.5,-36 358.5,-36 358.5,0 412.5,0 412.5,-36\"/>\n",
       "<text text-anchor=\"middle\" x=\"385.5\" y=\"-14.3\" font-family=\"Helvetica,sans-Serif\" font-size=\"14.00\">(...)</text>\n",
       "</g>\n",
       "<!-- 33&#45;&gt;34 -->\n",
       "<g id=\"edge6\" class=\"edge\">\n",
       "<title>33&#45;&gt;34</title>\n",
       "<path fill=\"none\" stroke=\"black\" d=\"M409.71,-71.8C405.84,-63.35 401.53,-53.95 397.63,-45.45\"/>\n",
       "<polygon fill=\"black\" stroke=\"black\" points=\"400.8,-43.96 393.45,-36.33 394.43,-46.88 400.8,-43.96\"/>\n",
       "</g>\n",
       "<!-- 41 -->\n",
       "<g id=\"node8\" class=\"node\">\n",
       "<title>41</title>\n",
       "<polygon fill=\"#c0c0c0\" stroke=\"black\" points=\"484.5,-36 430.5,-36 430.5,0 484.5,0 484.5,-36\"/>\n",
       "<text text-anchor=\"middle\" x=\"457.5\" y=\"-14.3\" font-family=\"Helvetica,sans-Serif\" font-size=\"14.00\">(...)</text>\n",
       "</g>\n",
       "<!-- 33&#45;&gt;41 -->\n",
       "<g id=\"edge7\" class=\"edge\">\n",
       "<title>33&#45;&gt;41</title>\n",
       "<path fill=\"none\" stroke=\"black\" d=\"M433.29,-71.8C437.16,-63.35 441.47,-53.95 445.37,-45.45\"/>\n",
       "<polygon fill=\"black\" stroke=\"black\" points=\"448.57,-46.88 449.55,-36.33 442.2,-43.96 448.57,-46.88\"/>\n",
       "</g>\n",
       "<!-- 47 -->\n",
       "<g id=\"node10\" class=\"node\">\n",
       "<title>47</title>\n",
       "<polygon fill=\"#d83ee6\" stroke=\"black\" points=\"809,-125 570,-125 570,-72 809,-72 809,-125\"/>\n",
       "<text text-anchor=\"middle\" x=\"689.5\" y=\"-109.8\" font-family=\"Helvetica,sans-Serif\" font-size=\"14.00\">Tecnica &lt;= 5.0</text>\n",
       "<text text-anchor=\"middle\" x=\"689.5\" y=\"-94.8\" font-family=\"Helvetica,sans-Serif\" font-size=\"14.00\">samples = 10.9%</text>\n",
       "<text text-anchor=\"middle\" x=\"689.5\" y=\"-79.8\" font-family=\"Helvetica,sans-Serif\" font-size=\"14.00\">value = [0.023, 0.0, 0.0, 0.977]</text>\n",
       "</g>\n",
       "<!-- 46&#45;&gt;47 -->\n",
       "<g id=\"edge9\" class=\"edge\">\n",
       "<title>46&#45;&gt;47</title>\n",
       "<path fill=\"none\" stroke=\"black\" d=\"M692.32,-160.87C691.95,-152.89 691.54,-143.93 691.15,-135.38\"/>\n",
       "<polygon fill=\"black\" stroke=\"black\" points=\"694.64,-135.08 690.68,-125.25 687.65,-135.4 694.64,-135.08\"/>\n",
       "</g>\n",
       "<!-- 50 -->\n",
       "<g id=\"node13\" class=\"node\">\n",
       "<title>50</title>\n",
       "<polygon fill=\"#e58139\" stroke=\"black\" points=\"1030,-117.5 827,-117.5 827,-79.5 1030,-79.5 1030,-117.5\"/>\n",
       "<text text-anchor=\"middle\" x=\"928.5\" y=\"-102.3\" font-family=\"Helvetica,sans-Serif\" font-size=\"14.00\">samples = 0.4%</text>\n",
       "<text text-anchor=\"middle\" x=\"928.5\" y=\"-87.3\" font-family=\"Helvetica,sans-Serif\" font-size=\"14.00\">value = [1.0, 0.0, 0.0, 0.0]</text>\n",
       "</g>\n",
       "<!-- 46&#45;&gt;50 -->\n",
       "<g id=\"edge12\" class=\"edge\">\n",
       "<title>46&#45;&gt;50</title>\n",
       "<path fill=\"none\" stroke=\"black\" d=\"M762.42,-160.98C796.69,-148.3 837.65,-133.14 870.31,-121.04\"/>\n",
       "<polygon fill=\"black\" stroke=\"black\" points=\"871.57,-124.31 879.73,-117.55 869.14,-117.74 871.57,-124.31\"/>\n",
       "</g>\n",
       "<!-- 48 -->\n",
       "<g id=\"node11\" class=\"node\">\n",
       "<title>48</title>\n",
       "<polygon fill=\"#c0c0c0\" stroke=\"black\" points=\"680.5,-36 626.5,-36 626.5,0 680.5,0 680.5,-36\"/>\n",
       "<text text-anchor=\"middle\" x=\"653.5\" y=\"-14.3\" font-family=\"Helvetica,sans-Serif\" font-size=\"14.00\">(...)</text>\n",
       "</g>\n",
       "<!-- 47&#45;&gt;48 -->\n",
       "<g id=\"edge10\" class=\"edge\">\n",
       "<title>47&#45;&gt;48</title>\n",
       "<path fill=\"none\" stroke=\"black\" d=\"M677.71,-71.8C673.84,-63.35 669.53,-53.95 665.63,-45.45\"/>\n",
       "<polygon fill=\"black\" stroke=\"black\" points=\"668.8,-43.96 661.45,-36.33 662.43,-46.88 668.8,-43.96\"/>\n",
       "</g>\n",
       "<!-- 49 -->\n",
       "<g id=\"node12\" class=\"node\">\n",
       "<title>49</title>\n",
       "<polygon fill=\"#c0c0c0\" stroke=\"black\" points=\"752.5,-36 698.5,-36 698.5,0 752.5,0 752.5,-36\"/>\n",
       "<text text-anchor=\"middle\" x=\"725.5\" y=\"-14.3\" font-family=\"Helvetica,sans-Serif\" font-size=\"14.00\">(...)</text>\n",
       "</g>\n",
       "<!-- 47&#45;&gt;49 -->\n",
       "<g id=\"edge11\" class=\"edge\">\n",
       "<title>47&#45;&gt;49</title>\n",
       "<path fill=\"none\" stroke=\"black\" d=\"M701.29,-71.8C705.16,-63.35 709.47,-53.95 713.37,-45.45\"/>\n",
       "<polygon fill=\"black\" stroke=\"black\" points=\"716.57,-46.88 717.55,-36.33 710.2,-43.96 716.57,-46.88\"/>\n",
       "</g>\n",
       "</g>\n",
       "</svg>\n"
      ],
      "text/plain": [
       "<graphviz.sources.Source at 0x7f677a8f85e0>"
      ]
     },
     "metadata": {},
     "output_type": "display_data"
    },
    {
     "data": {
      "image/svg+xml": [
       "<?xml version=\"1.0\" encoding=\"UTF-8\" standalone=\"no\"?>\n",
       "<!DOCTYPE svg PUBLIC \"-//W3C//DTD SVG 1.1//EN\"\n",
       " \"http://www.w3.org/Graphics/SVG/1.1/DTD/svg11.dtd\">\n",
       "<!-- Generated by graphviz version 2.43.0 (0)\n",
       " -->\n",
       "<!-- Title: Tree Pages: 1 -->\n",
       "<svg width=\"1094pt\" height=\"311pt\"\n",
       " viewBox=\"0.00 0.00 1094.00 311.00\" xmlns=\"http://www.w3.org/2000/svg\" xmlns:xlink=\"http://www.w3.org/1999/xlink\">\n",
       "<g id=\"graph0\" class=\"graph\" transform=\"scale(1 1) rotate(0) translate(4 307)\">\n",
       "<title>Tree</title>\n",
       "<polygon fill=\"white\" stroke=\"transparent\" points=\"-4,4 -4,-307 1090,-307 1090,4 -4,4\"/>\n",
       "<!-- 0 -->\n",
       "<g id=\"node1\" class=\"node\">\n",
       "<title>0</title>\n",
       "<polygon fill=\"#fefffe\" stroke=\"black\" points=\"709,-303 434,-303 434,-250 709,-250 709,-303\"/>\n",
       "<text text-anchor=\"middle\" x=\"571.5\" y=\"-287.8\" font-family=\"Helvetica,sans-Serif\" font-size=\"14.00\">Tamaño(cm) &lt;= 4.5</text>\n",
       "<text text-anchor=\"middle\" x=\"571.5\" y=\"-272.8\" font-family=\"Helvetica,sans-Serif\" font-size=\"14.00\">samples = 100.0%</text>\n",
       "<text text-anchor=\"middle\" x=\"571.5\" y=\"-257.8\" font-family=\"Helvetica,sans-Serif\" font-size=\"14.00\">value = [0.024, 0.411, 0.409, 0.156]</text>\n",
       "</g>\n",
       "<!-- 1 -->\n",
       "<g id=\"node2\" class=\"node\">\n",
       "<title>1</title>\n",
       "<polygon fill=\"#fcfffc\" stroke=\"black\" points=\"563,-214 288,-214 288,-161 563,-161 563,-214\"/>\n",
       "<text text-anchor=\"middle\" x=\"425.5\" y=\"-198.8\" font-family=\"Helvetica,sans-Serif\" font-size=\"14.00\">Dureza &lt;= 0.5</text>\n",
       "<text text-anchor=\"middle\" x=\"425.5\" y=\"-183.8\" font-family=\"Helvetica,sans-Serif\" font-size=\"14.00\">samples = 87.7%</text>\n",
       "<text text-anchor=\"middle\" x=\"425.5\" y=\"-168.8\" font-family=\"Helvetica,sans-Serif\" font-size=\"14.00\">value = [0.024, 0.433, 0.425, 0.118]</text>\n",
       "</g>\n",
       "<!-- 0&#45;&gt;1 -->\n",
       "<g id=\"edge1\" class=\"edge\">\n",
       "<title>0&#45;&gt;1</title>\n",
       "<path fill=\"none\" stroke=\"black\" d=\"M528.48,-249.87C512.37,-240.26 493.89,-229.25 477.08,-219.24\"/>\n",
       "<polygon fill=\"black\" stroke=\"black\" points=\"478.84,-216.21 468.46,-214.1 475.26,-222.23 478.84,-216.21\"/>\n",
       "<text text-anchor=\"middle\" x=\"474.6\" y=\"-234.63\" font-family=\"Helvetica,sans-Serif\" font-size=\"14.00\">True</text>\n",
       "</g>\n",
       "<!-- 64 -->\n",
       "<g id=\"node9\" class=\"node\">\n",
       "<title>64</title>\n",
       "<polygon fill=\"#f4c7f8\" stroke=\"black\" points=\"856,-214 581,-214 581,-161 856,-161 856,-214\"/>\n",
       "<text text-anchor=\"middle\" x=\"718.5\" y=\"-198.8\" font-family=\"Helvetica,sans-Serif\" font-size=\"14.00\">Grosor₍mm) &lt;= 9.5</text>\n",
       "<text text-anchor=\"middle\" x=\"718.5\" y=\"-183.8\" font-family=\"Helvetica,sans-Serif\" font-size=\"14.00\">samples = 12.3%</text>\n",
       "<text text-anchor=\"middle\" x=\"718.5\" y=\"-168.8\" font-family=\"Helvetica,sans-Serif\" font-size=\"14.00\">value = [0.023, 0.227, 0.273, 0.477]</text>\n",
       "</g>\n",
       "<!-- 0&#45;&gt;64 -->\n",
       "<g id=\"edge8\" class=\"edge\">\n",
       "<title>0&#45;&gt;64</title>\n",
       "<path fill=\"none\" stroke=\"black\" d=\"M614.81,-249.87C631.04,-240.26 649.64,-229.25 666.57,-219.24\"/>\n",
       "<polygon fill=\"black\" stroke=\"black\" points=\"668.42,-222.2 675.25,-214.1 664.86,-216.18 668.42,-222.2\"/>\n",
       "<text text-anchor=\"middle\" x=\"669.04\" y=\"-234.62\" font-family=\"Helvetica,sans-Serif\" font-size=\"14.00\">False</text>\n",
       "</g>\n",
       "<!-- 2 -->\n",
       "<g id=\"node3\" class=\"node\">\n",
       "<title>2</title>\n",
       "<polygon fill=\"#d0e8f9\" stroke=\"black\" points=\"275,-125 0,-125 0,-72 275,-72 275,-125\"/>\n",
       "<text text-anchor=\"middle\" x=\"137.5\" y=\"-109.8\" font-family=\"Helvetica,sans-Serif\" font-size=\"14.00\">Acabado_Externo &lt;= 2.5</text>\n",
       "<text text-anchor=\"middle\" x=\"137.5\" y=\"-94.8\" font-family=\"Helvetica,sans-Serif\" font-size=\"14.00\">samples = 28.7%</text>\n",
       "<text text-anchor=\"middle\" x=\"137.5\" y=\"-79.8\" font-family=\"Helvetica,sans-Serif\" font-size=\"14.00\">value = [0.042, 0.328, 0.487, 0.143]</text>\n",
       "</g>\n",
       "<!-- 1&#45;&gt;2 -->\n",
       "<g id=\"edge2\" class=\"edge\">\n",
       "<title>1&#45;&gt;2</title>\n",
       "<path fill=\"none\" stroke=\"black\" d=\"M341.04,-160.98C306.75,-150.63 267,-138.62 231.77,-127.98\"/>\n",
       "<polygon fill=\"black\" stroke=\"black\" points=\"232.55,-124.56 221.96,-125.01 230.52,-131.26 232.55,-124.56\"/>\n",
       "</g>\n",
       "<!-- 37 -->\n",
       "<g id=\"node6\" class=\"node\">\n",
       "<title>37</title>\n",
       "<polygon fill=\"#e5fbe3\" stroke=\"black\" points=\"568,-125 293,-125 293,-72 568,-72 568,-125\"/>\n",
       "<text text-anchor=\"middle\" x=\"430.5\" y=\"-109.8\" font-family=\"Helvetica,sans-Serif\" font-size=\"14.00\">Grosor₍mm) &lt;= 9.5</text>\n",
       "<text text-anchor=\"middle\" x=\"430.5\" y=\"-94.8\" font-family=\"Helvetica,sans-Serif\" font-size=\"14.00\">samples = 59.0%</text>\n",
       "<text text-anchor=\"middle\" x=\"430.5\" y=\"-79.8\" font-family=\"Helvetica,sans-Serif\" font-size=\"14.00\">value = [0.016, 0.482, 0.395, 0.107]</text>\n",
       "</g>\n",
       "<!-- 1&#45;&gt;37 -->\n",
       "<g id=\"edge5\" class=\"edge\">\n",
       "<title>1&#45;&gt;37</title>\n",
       "<path fill=\"none\" stroke=\"black\" d=\"M426.97,-160.87C427.43,-152.89 427.95,-143.93 428.44,-135.38\"/>\n",
       "<polygon fill=\"black\" stroke=\"black\" points=\"431.94,-135.43 429.02,-125.25 424.95,-135.03 431.94,-135.43\"/>\n",
       "</g>\n",
       "<!-- 3 -->\n",
       "<g id=\"node4\" class=\"node\">\n",
       "<title>3</title>\n",
       "<polygon fill=\"#c0c0c0\" stroke=\"black\" points=\"128.5,-36 74.5,-36 74.5,0 128.5,0 128.5,-36\"/>\n",
       "<text text-anchor=\"middle\" x=\"101.5\" y=\"-14.3\" font-family=\"Helvetica,sans-Serif\" font-size=\"14.00\">(...)</text>\n",
       "</g>\n",
       "<!-- 2&#45;&gt;3 -->\n",
       "<g id=\"edge3\" class=\"edge\">\n",
       "<title>2&#45;&gt;3</title>\n",
       "<path fill=\"none\" stroke=\"black\" d=\"M125.71,-71.8C121.84,-63.35 117.53,-53.95 113.63,-45.45\"/>\n",
       "<polygon fill=\"black\" stroke=\"black\" points=\"116.8,-43.96 109.45,-36.33 110.43,-46.88 116.8,-43.96\"/>\n",
       "</g>\n",
       "<!-- 28 -->\n",
       "<g id=\"node5\" class=\"node\">\n",
       "<title>28</title>\n",
       "<polygon fill=\"#c0c0c0\" stroke=\"black\" points=\"200.5,-36 146.5,-36 146.5,0 200.5,0 200.5,-36\"/>\n",
       "<text text-anchor=\"middle\" x=\"173.5\" y=\"-14.3\" font-family=\"Helvetica,sans-Serif\" font-size=\"14.00\">(...)</text>\n",
       "</g>\n",
       "<!-- 2&#45;&gt;28 -->\n",
       "<g id=\"edge4\" class=\"edge\">\n",
       "<title>2&#45;&gt;28</title>\n",
       "<path fill=\"none\" stroke=\"black\" d=\"M149.29,-71.8C153.16,-63.35 157.47,-53.95 161.37,-45.45\"/>\n",
       "<polygon fill=\"black\" stroke=\"black\" points=\"164.57,-46.88 165.55,-36.33 158.2,-43.96 164.57,-46.88\"/>\n",
       "</g>\n",
       "<!-- 38 -->\n",
       "<g id=\"node7\" class=\"node\">\n",
       "<title>38</title>\n",
       "<polygon fill=\"#c0c0c0\" stroke=\"black\" points=\"421.5,-36 367.5,-36 367.5,0 421.5,0 421.5,-36\"/>\n",
       "<text text-anchor=\"middle\" x=\"394.5\" y=\"-14.3\" font-family=\"Helvetica,sans-Serif\" font-size=\"14.00\">(...)</text>\n",
       "</g>\n",
       "<!-- 37&#45;&gt;38 -->\n",
       "<g id=\"edge6\" class=\"edge\">\n",
       "<title>37&#45;&gt;38</title>\n",
       "<path fill=\"none\" stroke=\"black\" d=\"M418.71,-71.8C414.84,-63.35 410.53,-53.95 406.63,-45.45\"/>\n",
       "<polygon fill=\"black\" stroke=\"black\" points=\"409.8,-43.96 402.45,-36.33 403.43,-46.88 409.8,-43.96\"/>\n",
       "</g>\n",
       "<!-- 55 -->\n",
       "<g id=\"node8\" class=\"node\">\n",
       "<title>55</title>\n",
       "<polygon fill=\"#c0c0c0\" stroke=\"black\" points=\"493.5,-36 439.5,-36 439.5,0 493.5,0 493.5,-36\"/>\n",
       "<text text-anchor=\"middle\" x=\"466.5\" y=\"-14.3\" font-family=\"Helvetica,sans-Serif\" font-size=\"14.00\">(...)</text>\n",
       "</g>\n",
       "<!-- 37&#45;&gt;55 -->\n",
       "<g id=\"edge7\" class=\"edge\">\n",
       "<title>37&#45;&gt;55</title>\n",
       "<path fill=\"none\" stroke=\"black\" d=\"M442.29,-71.8C446.16,-63.35 450.47,-53.95 454.37,-45.45\"/>\n",
       "<polygon fill=\"black\" stroke=\"black\" points=\"457.57,-46.88 458.55,-36.33 451.2,-43.96 457.57,-46.88\"/>\n",
       "</g>\n",
       "<!-- 65 -->\n",
       "<g id=\"node10\" class=\"node\">\n",
       "<title>65</title>\n",
       "<polygon fill=\"#deeffb\" stroke=\"black\" points=\"829,-125 590,-125 590,-72 829,-72 829,-125\"/>\n",
       "<text text-anchor=\"middle\" x=\"709.5\" y=\"-109.8\" font-family=\"Helvetica,sans-Serif\" font-size=\"14.00\">Tamaño(cm) &lt;= 5.5</text>\n",
       "<text text-anchor=\"middle\" x=\"709.5\" y=\"-94.8\" font-family=\"Helvetica,sans-Serif\" font-size=\"14.00\">samples = 6.7%</text>\n",
       "<text text-anchor=\"middle\" x=\"709.5\" y=\"-79.8\" font-family=\"Helvetica,sans-Serif\" font-size=\"14.00\">value = [0.0, 0.455, 0.545, 0.0]</text>\n",
       "</g>\n",
       "<!-- 64&#45;&gt;65 -->\n",
       "<g id=\"edge9\" class=\"edge\">\n",
       "<title>64&#45;&gt;65</title>\n",
       "<path fill=\"none\" stroke=\"black\" d=\"M715.85,-160.87C715.02,-152.89 714.1,-143.93 713.21,-135.38\"/>\n",
       "<polygon fill=\"black\" stroke=\"black\" points=\"716.67,-134.84 712.16,-125.25 709.71,-135.56 716.67,-134.84\"/>\n",
       "</g>\n",
       "<!-- 72 -->\n",
       "<g id=\"node13\" class=\"node\">\n",
       "<title>72</title>\n",
       "<polygon fill=\"#d942e6\" stroke=\"black\" points=\"1086,-125 847,-125 847,-72 1086,-72 1086,-125\"/>\n",
       "<text text-anchor=\"middle\" x=\"966.5\" y=\"-109.8\" font-family=\"Helvetica,sans-Serif\" font-size=\"14.00\">Densidad &lt;= 0.5</text>\n",
       "<text text-anchor=\"middle\" x=\"966.5\" y=\"-94.8\" font-family=\"Helvetica,sans-Serif\" font-size=\"14.00\">samples = 5.6%</text>\n",
       "<text text-anchor=\"middle\" x=\"966.5\" y=\"-79.8\" font-family=\"Helvetica,sans-Serif\" font-size=\"14.00\">value = [0.045, 0.0, 0.0, 0.955]</text>\n",
       "</g>\n",
       "<!-- 64&#45;&gt;72 -->\n",
       "<g id=\"edge12\" class=\"edge\">\n",
       "<title>64&#45;&gt;72</title>\n",
       "<path fill=\"none\" stroke=\"black\" d=\"M791.23,-160.98C820.38,-150.76 854.11,-138.93 884.15,-128.39\"/>\n",
       "<polygon fill=\"black\" stroke=\"black\" points=\"885.49,-131.63 893.77,-125.01 883.17,-125.02 885.49,-131.63\"/>\n",
       "</g>\n",
       "<!-- 66 -->\n",
       "<g id=\"node11\" class=\"node\">\n",
       "<title>66</title>\n",
       "<polygon fill=\"#c0c0c0\" stroke=\"black\" points=\"700.5,-36 646.5,-36 646.5,0 700.5,0 700.5,-36\"/>\n",
       "<text text-anchor=\"middle\" x=\"673.5\" y=\"-14.3\" font-family=\"Helvetica,sans-Serif\" font-size=\"14.00\">(...)</text>\n",
       "</g>\n",
       "<!-- 65&#45;&gt;66 -->\n",
       "<g id=\"edge10\" class=\"edge\">\n",
       "<title>65&#45;&gt;66</title>\n",
       "<path fill=\"none\" stroke=\"black\" d=\"M697.71,-71.8C693.84,-63.35 689.53,-53.95 685.63,-45.45\"/>\n",
       "<polygon fill=\"black\" stroke=\"black\" points=\"688.8,-43.96 681.45,-36.33 682.43,-46.88 688.8,-43.96\"/>\n",
       "</g>\n",
       "<!-- 69 -->\n",
       "<g id=\"node12\" class=\"node\">\n",
       "<title>69</title>\n",
       "<polygon fill=\"#c0c0c0\" stroke=\"black\" points=\"772.5,-36 718.5,-36 718.5,0 772.5,0 772.5,-36\"/>\n",
       "<text text-anchor=\"middle\" x=\"745.5\" y=\"-14.3\" font-family=\"Helvetica,sans-Serif\" font-size=\"14.00\">(...)</text>\n",
       "</g>\n",
       "<!-- 65&#45;&gt;69 -->\n",
       "<g id=\"edge11\" class=\"edge\">\n",
       "<title>65&#45;&gt;69</title>\n",
       "<path fill=\"none\" stroke=\"black\" d=\"M721.29,-71.8C725.16,-63.35 729.47,-53.95 733.37,-45.45\"/>\n",
       "<polygon fill=\"black\" stroke=\"black\" points=\"736.57,-46.88 737.55,-36.33 730.2,-43.96 736.57,-46.88\"/>\n",
       "</g>\n",
       "<!-- 73 -->\n",
       "<g id=\"node14\" class=\"node\">\n",
       "<title>73</title>\n",
       "<polygon fill=\"#c0c0c0\" stroke=\"black\" points=\"957.5,-36 903.5,-36 903.5,0 957.5,0 957.5,-36\"/>\n",
       "<text text-anchor=\"middle\" x=\"930.5\" y=\"-14.3\" font-family=\"Helvetica,sans-Serif\" font-size=\"14.00\">(...)</text>\n",
       "</g>\n",
       "<!-- 72&#45;&gt;73 -->\n",
       "<g id=\"edge13\" class=\"edge\">\n",
       "<title>72&#45;&gt;73</title>\n",
       "<path fill=\"none\" stroke=\"black\" d=\"M954.71,-71.8C950.84,-63.35 946.53,-53.95 942.63,-45.45\"/>\n",
       "<polygon fill=\"black\" stroke=\"black\" points=\"945.8,-43.96 938.45,-36.33 939.43,-46.88 945.8,-43.96\"/>\n",
       "</g>\n",
       "<!-- 78 -->\n",
       "<g id=\"node15\" class=\"node\">\n",
       "<title>78</title>\n",
       "<polygon fill=\"#c0c0c0\" stroke=\"black\" points=\"1029.5,-36 975.5,-36 975.5,0 1029.5,0 1029.5,-36\"/>\n",
       "<text text-anchor=\"middle\" x=\"1002.5\" y=\"-14.3\" font-family=\"Helvetica,sans-Serif\" font-size=\"14.00\">(...)</text>\n",
       "</g>\n",
       "<!-- 72&#45;&gt;78 -->\n",
       "<g id=\"edge14\" class=\"edge\">\n",
       "<title>72&#45;&gt;78</title>\n",
       "<path fill=\"none\" stroke=\"black\" d=\"M978.29,-71.8C982.16,-63.35 986.47,-53.95 990.37,-45.45\"/>\n",
       "<polygon fill=\"black\" stroke=\"black\" points=\"993.57,-46.88 994.55,-36.33 987.2,-43.96 993.57,-46.88\"/>\n",
       "</g>\n",
       "</g>\n",
       "</svg>\n"
      ],
      "text/plain": [
       "<graphviz.sources.Source at 0x7f66f89a31f0>"
      ]
     },
     "metadata": {},
     "output_type": "display_data"
    },
    {
     "data": {
      "text/plain": [
       "'temp_file.png'"
      ]
     },
     "execution_count": 24,
     "metadata": {},
     "output_type": "execute_result"
    }
   ],
   "source": [
    "from sklearn.tree import export_graphviz\n",
    "from IPython.display import Image\n",
    "import graphviz\n",
    "training_data = get_config(variable=\"X_train\")\n",
    "for i in range(3):\n",
    "    tree = model.estimators_[i]\n",
    "    dot_data = export_graphviz(tree,\n",
    "                               feature_names=training_data.columns,  \n",
    "                               filled=True,  \n",
    "                               max_depth=2, \n",
    "                               impurity=False, \n",
    "                               proportion=True)\n",
    "    graph = graphviz.Source(dot_data)\n",
    "    display(graph)\n",
    "    \n",
    "fie_ext = 'png'\n",
    "temp_img = 'temp_file'\n",
    "graph.render(temp_img,format=fie_ext, view=False)\n"
   ]
  },
  {
   "cell_type": "code",
   "execution_count": null,
   "id": "7c1c6fb6-ecab-49cd-a01d-92a2d37796b5",
   "metadata": {
    "tags": []
   },
   "outputs": [],
   "source": [
    "model_score_grid = pull()\n",
    "model_score_grid.to_csv('./intermediate_data/modelrf_score_before_tuning.csv')"
   ]
  },
  {
   "cell_type": "markdown",
   "id": "678a740a-0eee-4bbb-b0bb-6f23f64c1181",
   "metadata": {},
   "source": [
    "### Optimización del modelo \n",
    "\n",
    "Esta función optimiza los hiperparametros del modelo creado. El resultado es una tabla de puntajes para una validación cruzada de k=10 iteraciones del modelo con la mejor combinación de parametros de acuerdo al método seleccionado.\n",
    "\n",
    "Por defecto, la función prioriza el Accuracy como metrica para decidir entre los mejores candidatos.\n",
    "\n",
    "Esta función usa el algoritmo ```RandomizedSearchCV()``` de scikit-learn por defecto.\n",
    "\n",
    "```n_iter``` parameter defines the number of iterations in the search space.\n",
    "\n",
    "```Warning: this process could be computationally intensive dependending of your resources.``` \n",
    "\n",
    "See [Workflow.ipynb](./Workflow.ipynb) for resources used \n"
   ]
  },
  {
   "cell_type": "code",
   "execution_count": 23,
   "id": "ab9fcf1b-480c-4243-85a5-acb8c2ba6e0d",
   "metadata": {
    "tags": []
   },
   "outputs": [
    {
     "data": {
      "text/html": [],
      "text/plain": [
       "<IPython.core.display.HTML object>"
      ]
     },
     "metadata": {},
     "output_type": "display_data"
    },
    {
     "data": {
      "text/html": [
       "<style type=\"text/css\">\n",
       "#T_17a0d_row10_col0, #T_17a0d_row10_col1, #T_17a0d_row10_col2, #T_17a0d_row10_col3 {\n",
       "  background: yellow;\n",
       "}\n",
       "</style>\n",
       "<table id=\"T_17a0d\">\n",
       "  <thead>\n",
       "    <tr>\n",
       "      <th class=\"blank level0\" >&nbsp;</th>\n",
       "      <th id=\"T_17a0d_level0_col0\" class=\"col_heading level0 col0\" >Accuracy</th>\n",
       "      <th id=\"T_17a0d_level0_col1\" class=\"col_heading level0 col1\" >Recall</th>\n",
       "      <th id=\"T_17a0d_level0_col2\" class=\"col_heading level0 col2\" >Prec.</th>\n",
       "      <th id=\"T_17a0d_level0_col3\" class=\"col_heading level0 col3\" >F1</th>\n",
       "    </tr>\n",
       "    <tr>\n",
       "      <th class=\"index_name level0\" >Fold</th>\n",
       "      <th class=\"blank col0\" >&nbsp;</th>\n",
       "      <th class=\"blank col1\" >&nbsp;</th>\n",
       "      <th class=\"blank col2\" >&nbsp;</th>\n",
       "      <th class=\"blank col3\" >&nbsp;</th>\n",
       "    </tr>\n",
       "  </thead>\n",
       "  <tbody>\n",
       "    <tr>\n",
       "      <th id=\"T_17a0d_level0_row0\" class=\"row_heading level0 row0\" >0</th>\n",
       "      <td id=\"T_17a0d_row0_col0\" class=\"data row0 col0\" >0.9286</td>\n",
       "      <td id=\"T_17a0d_row0_col1\" class=\"data row0 col1\" >0.9286</td>\n",
       "      <td id=\"T_17a0d_row0_col2\" class=\"data row0 col2\" >0.9476</td>\n",
       "      <td id=\"T_17a0d_row0_col3\" class=\"data row0 col3\" >0.9372</td>\n",
       "    </tr>\n",
       "    <tr>\n",
       "      <th id=\"T_17a0d_level0_row1\" class=\"row_heading level0 row1\" >1</th>\n",
       "      <td id=\"T_17a0d_row1_col0\" class=\"data row1 col0\" >0.9762</td>\n",
       "      <td id=\"T_17a0d_row1_col1\" class=\"data row1 col1\" >0.9762</td>\n",
       "      <td id=\"T_17a0d_row1_col2\" class=\"data row1 col2\" >0.9558</td>\n",
       "      <td id=\"T_17a0d_row1_col3\" class=\"data row1 col3\" >0.9652</td>\n",
       "    </tr>\n",
       "    <tr>\n",
       "      <th id=\"T_17a0d_level0_row2\" class=\"row_heading level0 row2\" >2</th>\n",
       "      <td id=\"T_17a0d_row2_col0\" class=\"data row2 col0\" >0.9762</td>\n",
       "      <td id=\"T_17a0d_row2_col1\" class=\"data row2 col1\" >0.9762</td>\n",
       "      <td id=\"T_17a0d_row2_col2\" class=\"data row2 col2\" >0.9558</td>\n",
       "      <td id=\"T_17a0d_row2_col3\" class=\"data row2 col3\" >0.9652</td>\n",
       "    </tr>\n",
       "    <tr>\n",
       "      <th id=\"T_17a0d_level0_row3\" class=\"row_heading level0 row3\" >3</th>\n",
       "      <td id=\"T_17a0d_row3_col0\" class=\"data row3 col0\" >0.9524</td>\n",
       "      <td id=\"T_17a0d_row3_col1\" class=\"data row3 col1\" >0.9524</td>\n",
       "      <td id=\"T_17a0d_row3_col2\" class=\"data row3 col2\" >0.9088</td>\n",
       "      <td id=\"T_17a0d_row3_col3\" class=\"data row3 col3\" >0.9297</td>\n",
       "    </tr>\n",
       "    <tr>\n",
       "      <th id=\"T_17a0d_level0_row4\" class=\"row_heading level0 row4\" >4</th>\n",
       "      <td id=\"T_17a0d_row4_col0\" class=\"data row4 col0\" >0.9524</td>\n",
       "      <td id=\"T_17a0d_row4_col1\" class=\"data row4 col1\" >0.9524</td>\n",
       "      <td id=\"T_17a0d_row4_col2\" class=\"data row4 col2\" >0.9088</td>\n",
       "      <td id=\"T_17a0d_row4_col3\" class=\"data row4 col3\" >0.9297</td>\n",
       "    </tr>\n",
       "    <tr>\n",
       "      <th id=\"T_17a0d_level0_row5\" class=\"row_heading level0 row5\" >5</th>\n",
       "      <td id=\"T_17a0d_row5_col0\" class=\"data row5 col0\" >0.9762</td>\n",
       "      <td id=\"T_17a0d_row5_col1\" class=\"data row5 col1\" >0.9762</td>\n",
       "      <td id=\"T_17a0d_row5_col2\" class=\"data row5 col2\" >0.9881</td>\n",
       "      <td id=\"T_17a0d_row5_col3\" class=\"data row5 col3\" >0.9791</td>\n",
       "    </tr>\n",
       "    <tr>\n",
       "      <th id=\"T_17a0d_level0_row6\" class=\"row_heading level0 row6\" >6</th>\n",
       "      <td id=\"T_17a0d_row6_col0\" class=\"data row6 col0\" >0.9756</td>\n",
       "      <td id=\"T_17a0d_row6_col1\" class=\"data row6 col1\" >0.9756</td>\n",
       "      <td id=\"T_17a0d_row6_col2\" class=\"data row6 col2\" >0.9543</td>\n",
       "      <td id=\"T_17a0d_row6_col3\" class=\"data row6 col3\" >0.9642</td>\n",
       "    </tr>\n",
       "    <tr>\n",
       "      <th id=\"T_17a0d_level0_row7\" class=\"row_heading level0 row7\" >7</th>\n",
       "      <td id=\"T_17a0d_row7_col0\" class=\"data row7 col0\" >0.9756</td>\n",
       "      <td id=\"T_17a0d_row7_col1\" class=\"data row7 col1\" >0.9756</td>\n",
       "      <td id=\"T_17a0d_row7_col2\" class=\"data row7 col2\" >0.9878</td>\n",
       "      <td id=\"T_17a0d_row7_col3\" class=\"data row7 col3\" >0.9787</td>\n",
       "    </tr>\n",
       "    <tr>\n",
       "      <th id=\"T_17a0d_level0_row8\" class=\"row_heading level0 row8\" >8</th>\n",
       "      <td id=\"T_17a0d_row8_col0\" class=\"data row8 col0\" >0.9756</td>\n",
       "      <td id=\"T_17a0d_row8_col1\" class=\"data row8 col1\" >0.9756</td>\n",
       "      <td id=\"T_17a0d_row8_col2\" class=\"data row8 col2\" >0.9519</td>\n",
       "      <td id=\"T_17a0d_row8_col3\" class=\"data row8 col3\" >0.9636</td>\n",
       "    </tr>\n",
       "    <tr>\n",
       "      <th id=\"T_17a0d_level0_row9\" class=\"row_heading level0 row9\" >9</th>\n",
       "      <td id=\"T_17a0d_row9_col0\" class=\"data row9 col0\" >1.0000</td>\n",
       "      <td id=\"T_17a0d_row9_col1\" class=\"data row9 col1\" >1.0000</td>\n",
       "      <td id=\"T_17a0d_row9_col2\" class=\"data row9 col2\" >1.0000</td>\n",
       "      <td id=\"T_17a0d_row9_col3\" class=\"data row9 col3\" >1.0000</td>\n",
       "    </tr>\n",
       "    <tr>\n",
       "      <th id=\"T_17a0d_level0_row10\" class=\"row_heading level0 row10\" >Mean</th>\n",
       "      <td id=\"T_17a0d_row10_col0\" class=\"data row10 col0\" >0.9689</td>\n",
       "      <td id=\"T_17a0d_row10_col1\" class=\"data row10 col1\" >0.9689</td>\n",
       "      <td id=\"T_17a0d_row10_col2\" class=\"data row10 col2\" >0.9559</td>\n",
       "      <td id=\"T_17a0d_row10_col3\" class=\"data row10 col3\" >0.9613</td>\n",
       "    </tr>\n",
       "    <tr>\n",
       "      <th id=\"T_17a0d_level0_row11\" class=\"row_heading level0 row11\" >Std</th>\n",
       "      <td id=\"T_17a0d_row11_col0\" class=\"data row11 col0\" >0.0185</td>\n",
       "      <td id=\"T_17a0d_row11_col1\" class=\"data row11 col1\" >0.0185</td>\n",
       "      <td id=\"T_17a0d_row11_col2\" class=\"data row11 col2\" >0.0292</td>\n",
       "      <td id=\"T_17a0d_row11_col3\" class=\"data row11 col3\" >0.0218</td>\n",
       "    </tr>\n",
       "  </tbody>\n",
       "</table>\n"
      ],
      "text/plain": [
       "<pandas.io.formats.style.Styler at 0x7f88dd63c550>"
      ]
     },
     "metadata": {},
     "output_type": "display_data"
    },
    {
     "data": {
      "application/vnd.jupyter.widget-view+json": {
       "model_id": "",
       "version_major": 2,
       "version_minor": 0
      },
      "text/plain": [
       "Processing:   0%|          | 0/7 [00:00<?, ?it/s]"
      ]
     },
     "metadata": {},
     "output_type": "display_data"
    },
    {
     "name": "stdout",
     "output_type": "stream",
     "text": [
      "Original model was better than the tuned model, hence it will be returned. NOTE: The display metrics are for the tuned model (not the original one).\n"
     ]
    }
   ],
   "source": [
    "tuned_model = tune_model(model, n_iter=10, tuner_verbose=False)#,return_tuner=True)"
   ]
  },
  {
   "cell_type": "code",
   "execution_count": null,
   "id": "0da9eb9a-7156-4a9d-8b82-0d8df1b64150",
   "metadata": {
    "tags": []
   },
   "outputs": [],
   "source": [
    "tuned_model_score_grid = pull()\n",
    "tuned_model_score_grid.to_csv('./intermediate_data/tuned_classifier_score.csv')"
   ]
  },
  {
   "cell_type": "markdown",
   "id": "69fd18f3-559d-40aa-ab84-7fb4e54725c5",
   "metadata": {},
   "source": [
    "### Validación\n",
    "#### En este paso, el modelo es evlauado con los datos de test (20%): \n"
   ]
  },
  {
   "cell_type": "code",
   "execution_count": 24,
   "id": "09f754c4-bbd3-4b1c-bcc9-ac67893ded89",
   "metadata": {
    "tags": []
   },
   "outputs": [
    {
     "data": {
      "text/html": [
       "<style type=\"text/css\">\n",
       "</style>\n",
       "<table id=\"T_7a1d9\">\n",
       "  <thead>\n",
       "    <tr>\n",
       "      <th class=\"blank level0\" >&nbsp;</th>\n",
       "      <th id=\"T_7a1d9_level0_col0\" class=\"col_heading level0 col0\" >Model</th>\n",
       "      <th id=\"T_7a1d9_level0_col1\" class=\"col_heading level0 col1\" >Accuracy</th>\n",
       "      <th id=\"T_7a1d9_level0_col2\" class=\"col_heading level0 col2\" >Recall</th>\n",
       "      <th id=\"T_7a1d9_level0_col3\" class=\"col_heading level0 col3\" >Prec.</th>\n",
       "      <th id=\"T_7a1d9_level0_col4\" class=\"col_heading level0 col4\" >F1</th>\n",
       "    </tr>\n",
       "  </thead>\n",
       "  <tbody>\n",
       "    <tr>\n",
       "      <th id=\"T_7a1d9_level0_row0\" class=\"row_heading level0 row0\" >0</th>\n",
       "      <td id=\"T_7a1d9_row0_col0\" class=\"data row0 col0\" >Random Forest Classifier</td>\n",
       "      <td id=\"T_7a1d9_row0_col1\" class=\"data row0 col1\" >0.9904</td>\n",
       "      <td id=\"T_7a1d9_row0_col2\" class=\"data row0 col2\" >0.9904</td>\n",
       "      <td id=\"T_7a1d9_row0_col3\" class=\"data row0 col3\" >0.9910</td>\n",
       "      <td id=\"T_7a1d9_row0_col4\" class=\"data row0 col4\" >0.9889</td>\n",
       "    </tr>\n",
       "  </tbody>\n",
       "</table>\n"
      ],
      "text/plain": [
       "<pandas.io.formats.style.Styler at 0x7f88b7227040>"
      ]
     },
     "metadata": {},
     "output_type": "display_data"
    },
    {
     "data": {
      "text/html": [
       "<div>\n",
       "<style scoped>\n",
       "    .dataframe tbody tr th:only-of-type {\n",
       "        vertical-align: middle;\n",
       "    }\n",
       "\n",
       "    .dataframe tbody tr th {\n",
       "        vertical-align: top;\n",
       "    }\n",
       "\n",
       "    .dataframe thead th {\n",
       "        text-align: right;\n",
       "    }\n",
       "</style>\n",
       "<table border=\"1\" class=\"dataframe\">\n",
       "  <thead>\n",
       "    <tr style=\"text-align: right;\">\n",
       "      <th></th>\n",
       "      <th>Coccion</th>\n",
       "      <th>T_desgrasante</th>\n",
       "      <th>Composicion</th>\n",
       "      <th>Densidad</th>\n",
       "      <th>Textura</th>\n",
       "      <th>Grosor₍mm)</th>\n",
       "      <th>Tamaño(cm)</th>\n",
       "      <th>Acabado_Interno</th>\n",
       "      <th>Acabado_Externo</th>\n",
       "      <th>Dureza</th>\n",
       "      <th>Ahumado</th>\n",
       "      <th>Tecnica</th>\n",
       "      <th>Elemento₁</th>\n",
       "      <th>Localizacion</th>\n",
       "      <th>Baño</th>\n",
       "      <th>Engobe</th>\n",
       "      <th>cluster</th>\n",
       "      <th>prediction_label</th>\n",
       "      <th>prediction_score</th>\n",
       "    </tr>\n",
       "  </thead>\n",
       "  <tbody>\n",
       "    <tr>\n",
       "      <th>331</th>\n",
       "      <td>0</td>\n",
       "      <td>2</td>\n",
       "      <td>0</td>\n",
       "      <td>0</td>\n",
       "      <td>0</td>\n",
       "      <td>8</td>\n",
       "      <td>3</td>\n",
       "      <td>1</td>\n",
       "      <td>1</td>\n",
       "      <td>0</td>\n",
       "      <td>0</td>\n",
       "      <td>0</td>\n",
       "      <td>0</td>\n",
       "      <td>0</td>\n",
       "      <td>0</td>\n",
       "      <td>0</td>\n",
       "      <td>1</td>\n",
       "      <td>2</td>\n",
       "      <td>0.98</td>\n",
       "    </tr>\n",
       "    <tr>\n",
       "      <th>297</th>\n",
       "      <td>0</td>\n",
       "      <td>1</td>\n",
       "      <td>6</td>\n",
       "      <td>0</td>\n",
       "      <td>0</td>\n",
       "      <td>8</td>\n",
       "      <td>2</td>\n",
       "      <td>2</td>\n",
       "      <td>2</td>\n",
       "      <td>1</td>\n",
       "      <td>0</td>\n",
       "      <td>0</td>\n",
       "      <td>0</td>\n",
       "      <td>0</td>\n",
       "      <td>0</td>\n",
       "      <td>0</td>\n",
       "      <td>1</td>\n",
       "      <td>2</td>\n",
       "      <td>1.00</td>\n",
       "    </tr>\n",
       "    <tr>\n",
       "      <th>149</th>\n",
       "      <td>0</td>\n",
       "      <td>2</td>\n",
       "      <td>6</td>\n",
       "      <td>0</td>\n",
       "      <td>0</td>\n",
       "      <td>8</td>\n",
       "      <td>3</td>\n",
       "      <td>2</td>\n",
       "      <td>2</td>\n",
       "      <td>1</td>\n",
       "      <td>0</td>\n",
       "      <td>0</td>\n",
       "      <td>0</td>\n",
       "      <td>0</td>\n",
       "      <td>0</td>\n",
       "      <td>0</td>\n",
       "      <td>1</td>\n",
       "      <td>2</td>\n",
       "      <td>1.00</td>\n",
       "    </tr>\n",
       "    <tr>\n",
       "      <th>240</th>\n",
       "      <td>1</td>\n",
       "      <td>0</td>\n",
       "      <td>0</td>\n",
       "      <td>0</td>\n",
       "      <td>0</td>\n",
       "      <td>10</td>\n",
       "      <td>4</td>\n",
       "      <td>3</td>\n",
       "      <td>3</td>\n",
       "      <td>0</td>\n",
       "      <td>0</td>\n",
       "      <td>0</td>\n",
       "      <td>0</td>\n",
       "      <td>0</td>\n",
       "      <td>0</td>\n",
       "      <td>0</td>\n",
       "      <td>1</td>\n",
       "      <td>2</td>\n",
       "      <td>1.00</td>\n",
       "    </tr>\n",
       "    <tr>\n",
       "      <th>117</th>\n",
       "      <td>1</td>\n",
       "      <td>0</td>\n",
       "      <td>5</td>\n",
       "      <td>0</td>\n",
       "      <td>0</td>\n",
       "      <td>7</td>\n",
       "      <td>3</td>\n",
       "      <td>3</td>\n",
       "      <td>3</td>\n",
       "      <td>1</td>\n",
       "      <td>0</td>\n",
       "      <td>0</td>\n",
       "      <td>0</td>\n",
       "      <td>0</td>\n",
       "      <td>0</td>\n",
       "      <td>0</td>\n",
       "      <td>1</td>\n",
       "      <td>2</td>\n",
       "      <td>1.00</td>\n",
       "    </tr>\n",
       "  </tbody>\n",
       "</table>\n",
       "</div>"
      ],
      "text/plain": [
       "     Coccion  T_desgrasante  Composicion  Densidad  Textura  Grosor₍mm)  \\\n",
       "331        0              2            0         0        0           8   \n",
       "297        0              1            6         0        0           8   \n",
       "149        0              2            6         0        0           8   \n",
       "240        1              0            0         0        0          10   \n",
       "117        1              0            5         0        0           7   \n",
       "\n",
       "     Tamaño(cm)  Acabado_Interno  Acabado_Externo  Dureza  Ahumado  Tecnica  \\\n",
       "331           3                1                1       0        0        0   \n",
       "297           2                2                2       1        0        0   \n",
       "149           3                2                2       1        0        0   \n",
       "240           4                3                3       0        0        0   \n",
       "117           3                3                3       1        0        0   \n",
       "\n",
       "     Elemento₁  Localizacion  Baño  Engobe  cluster  prediction_label  \\\n",
       "331          0             0     0       0        1                 2   \n",
       "297          0             0     0       0        1                 2   \n",
       "149          0             0     0       0        1                 2   \n",
       "240          0             0     0       0        1                 2   \n",
       "117          0             0     0       0        1                 2   \n",
       "\n",
       "     prediction_score  \n",
       "331              0.98  \n",
       "297              1.00  \n",
       "149              1.00  \n",
       "240              1.00  \n",
       "117              1.00  "
      ]
     },
     "execution_count": 24,
     "metadata": {},
     "output_type": "execute_result"
    }
   ],
   "source": [
    "predictions = predict_model(tuned_model);\n",
    "predictions.head()"
   ]
  },
  {
   "cell_type": "markdown",
   "id": "82583728-811c-499a-8f0f-ef995b8b9c58",
   "metadata": {},
   "source": [
    "#### Iteración final de entrenamiento con todos los datos (80% training + 20% testing)\n",
    "\n"
   ]
  },
  {
   "cell_type": "code",
   "execution_count": 25,
   "id": "5f72d313-c072-4e0a-a62e-65a9c4f39aed",
   "metadata": {
    "tags": []
   },
   "outputs": [],
   "source": [
    "final_model = finalize_model(tuned_model)# Final training iteration with all available data"
   ]
  },
  {
   "cell_type": "code",
   "execution_count": 27,
   "id": "fcd1290d-2346-4f59-81c1-001ec2fd11de",
   "metadata": {
    "tags": []
   },
   "outputs": [
    {
     "data": {
      "text/plain": [
       "2    47\n",
       "1    10\n",
       "4     1\n",
       "Name: cluster, dtype: int64"
      ]
     },
     "execution_count": 27,
     "metadata": {},
     "output_type": "execute_result"
    }
   ],
   "source": [
    "vs1.cluster.value_counts()"
   ]
  },
  {
   "cell_type": "markdown",
   "id": "348ba087-67db-43dd-a2d6-701cbd4e6234",
   "metadata": {},
   "source": [
    "#### Evaluación del modelo con los datos reservados de validación final VS1"
   ]
  },
  {
   "cell_type": "code",
   "execution_count": 29,
   "id": "5bc60bd2-ef6a-4252-8093-a6067b5c47ea",
   "metadata": {
    "tags": []
   },
   "outputs": [
    {
     "data": {
      "text/html": [
       "<style type=\"text/css\">\n",
       "</style>\n",
       "<table id=\"T_e378f\">\n",
       "  <thead>\n",
       "    <tr>\n",
       "      <th class=\"blank level0\" >&nbsp;</th>\n",
       "      <th id=\"T_e378f_level0_col0\" class=\"col_heading level0 col0\" >Model</th>\n",
       "      <th id=\"T_e378f_level0_col1\" class=\"col_heading level0 col1\" >Accuracy</th>\n",
       "      <th id=\"T_e378f_level0_col2\" class=\"col_heading level0 col2\" >Recall</th>\n",
       "      <th id=\"T_e378f_level0_col3\" class=\"col_heading level0 col3\" >Prec.</th>\n",
       "      <th id=\"T_e378f_level0_col4\" class=\"col_heading level0 col4\" >F1</th>\n",
       "    </tr>\n",
       "  </thead>\n",
       "  <tbody>\n",
       "    <tr>\n",
       "      <th id=\"T_e378f_level0_row0\" class=\"row_heading level0 row0\" >0</th>\n",
       "      <td id=\"T_e378f_row0_col0\" class=\"data row0 col0\" >Random Forest Classifier</td>\n",
       "      <td id=\"T_e378f_row0_col1\" class=\"data row0 col1\" >1.0000</td>\n",
       "      <td id=\"T_e378f_row0_col2\" class=\"data row0 col2\" >1.0000</td>\n",
       "      <td id=\"T_e378f_row0_col3\" class=\"data row0 col3\" >1.0000</td>\n",
       "      <td id=\"T_e378f_row0_col4\" class=\"data row0 col4\" >1.0000</td>\n",
       "    </tr>\n",
       "  </tbody>\n",
       "</table>\n"
      ],
      "text/plain": [
       "<pandas.io.formats.style.Styler at 0x7f88dc13f880>"
      ]
     },
     "metadata": {},
     "output_type": "display_data"
    },
    {
     "data": {
      "text/html": [],
      "text/plain": [
       "<IPython.core.display.HTML object>"
      ]
     },
     "metadata": {},
     "output_type": "display_data"
    },
    {
     "data": {
      "text/html": [
       "<div>\n",
       "<style scoped>\n",
       "    .dataframe tbody tr th:only-of-type {\n",
       "        vertical-align: middle;\n",
       "    }\n",
       "\n",
       "    .dataframe tbody tr th {\n",
       "        vertical-align: top;\n",
       "    }\n",
       "\n",
       "    .dataframe thead th {\n",
       "        text-align: right;\n",
       "    }\n",
       "</style>\n",
       "<table border=\"1\" class=\"dataframe\">\n",
       "  <thead>\n",
       "    <tr style=\"text-align: right;\">\n",
       "      <th></th>\n",
       "      <th>precision</th>\n",
       "      <th>recall</th>\n",
       "      <th>f1-score</th>\n",
       "      <th>support</th>\n",
       "    </tr>\n",
       "  </thead>\n",
       "  <tbody>\n",
       "    <tr>\n",
       "      <th>1</th>\n",
       "      <td>1.0</td>\n",
       "      <td>1.0</td>\n",
       "      <td>1.0</td>\n",
       "      <td>10.0</td>\n",
       "    </tr>\n",
       "    <tr>\n",
       "      <th>2</th>\n",
       "      <td>1.0</td>\n",
       "      <td>1.0</td>\n",
       "      <td>1.0</td>\n",
       "      <td>47.0</td>\n",
       "    </tr>\n",
       "    <tr>\n",
       "      <th>4</th>\n",
       "      <td>1.0</td>\n",
       "      <td>1.0</td>\n",
       "      <td>1.0</td>\n",
       "      <td>1.0</td>\n",
       "    </tr>\n",
       "    <tr>\n",
       "      <th>accuracy</th>\n",
       "      <td>1.0</td>\n",
       "      <td>1.0</td>\n",
       "      <td>1.0</td>\n",
       "      <td>1.0</td>\n",
       "    </tr>\n",
       "    <tr>\n",
       "      <th>macro avg</th>\n",
       "      <td>1.0</td>\n",
       "      <td>1.0</td>\n",
       "      <td>1.0</td>\n",
       "      <td>58.0</td>\n",
       "    </tr>\n",
       "    <tr>\n",
       "      <th>weighted avg</th>\n",
       "      <td>1.0</td>\n",
       "      <td>1.0</td>\n",
       "      <td>1.0</td>\n",
       "      <td>58.0</td>\n",
       "    </tr>\n",
       "  </tbody>\n",
       "</table>\n",
       "</div>"
      ],
      "text/plain": [
       "              precision  recall  f1-score  support\n",
       "1                   1.0     1.0       1.0     10.0\n",
       "2                   1.0     1.0       1.0     47.0\n",
       "4                   1.0     1.0       1.0      1.0\n",
       "accuracy            1.0     1.0       1.0      1.0\n",
       "macro avg           1.0     1.0       1.0     58.0\n",
       "weighted avg        1.0     1.0       1.0     58.0"
      ]
     },
     "execution_count": 29,
     "metadata": {},
     "output_type": "execute_result"
    }
   ],
   "source": [
    "vs1_predictions = predict_model(final_model, data=vs1)\n",
    "\n",
    "vs1_for_pred = vs1.drop(['cluster'], axis=1)\n",
    "\n",
    "vs1_predictions = predict_model(final_model, vs1_for_pred)\n",
    "vs1_predictions['cluster'] = vs1['cluster']\n",
    "#metrics for vs1\n",
    "y_true_vs1 = vs1_predictions['cluster']\n",
    "y_pred_vs1 = vs1_predictions['prediction_label']\n",
    "class_rep_vs1 = pd.DataFrame(classification_report(y_true_vs1, y_pred_vs1, output_dict=True)).T\n",
    "\n",
    "vs1_predictions.to_csv('./intermediate_data/predictions_vs1.csv')\n",
    "class_rep_vs1.to_csv('./intermediate_data/classification_report_vs1.csv')\n",
    "class_rep_vs1\n"
   ]
  },
  {
   "cell_type": "code",
   "execution_count": 31,
   "id": "e19cce31-9e8b-4fe1-b42e-836129dfca25",
   "metadata": {
    "tags": []
   },
   "outputs": [
    {
     "data": {
      "application/vnd.jupyter.widget-view+json": {
       "model_id": "1fef0ea90e9d40bb9304a3f63a1e47e0",
       "version_major": 2,
       "version_minor": 0
      },
      "text/plain": [
       "interactive(children=(ToggleButtons(description='Plot Type:', icons=('',), options=(('Pipeline Plot', 'pipelin…"
      ]
     },
     "metadata": {},
     "output_type": "display_data"
    }
   ],
   "source": [
    "plot = evaluate_model(final_model)"
   ]
  },
  {
   "cell_type": "code",
   "execution_count": 30,
   "id": "40545282-5c7e-4486-8299-17b48e52b15e",
   "metadata": {
    "tags": []
   },
   "outputs": [
    {
     "data": {
      "text/html": [],
      "text/plain": [
       "<IPython.core.display.HTML object>"
      ]
     },
     "metadata": {},
     "output_type": "display_data"
    },
    {
     "data": {
      "image/png": "[encoded data removed]",
      "text/plain": [
       "<Figure size 800x500 with 1 Axes>"
      ]
     },
     "metadata": {},
     "output_type": "display_data"
    }
   ],
   "source": [
    "# Visualización de la importancia de las variables\n",
    "plot_model(final_model, plot = 'feature_all')"
   ]
  },
  {
   "cell_type": "code",
   "execution_count": 32,
   "id": "f9ee6fd3-56c6-4a68-b7c1-e71b582fb966",
   "metadata": {
    "tags": []
   },
   "outputs": [
    {
     "data": {
      "text/plain": [
       "<sklearn.metrics._plot.confusion_matrix.ConfusionMatrixDisplay at 0x7f88b75b5d90>"
      ]
     },
     "execution_count": 32,
     "metadata": {},
     "output_type": "execute_result"
    },
    {
     "data": {
      "image/png": "[encoded data removed]",
      "text/plain": [
       "<Figure size 800x550 with 2 Axes>"
      ]
     },
     "metadata": {},
     "output_type": "display_data"
    }
   ],
   "source": [
    "#Visualización de la matriz de confusión\n",
    "\n",
    "from sklearn.metrics import confusion_matrix\n",
    "cm = confusion_matrix(y_true_vs1,y_pred_vs1)\n",
    "disp = ConfusionMatrixDisplay(confusion_matrix=cm)#display_labels=final_model.classes_\n",
    "disp.plot(cmap='Blues')\n",
    "#plt.savefig(\"./intermediate-data/matrix.png\",bbox_inches='tight')\n"
   ]
  },
  {
   "cell_type": "markdown",
   "id": "69a03bca-d0c6-454a-9c97-9cf7a03d0126",
   "metadata": {},
   "source": [
    "### Guardando el modelo entrenado\n",
    "En esta última etapa podemos guardar el modelo entrenado para usarlo en nuevos casos.\n"
   ]
  },
  {
   "cell_type": "code",
   "execution_count": 33,
   "id": "a9f8113f-7819-4155-a445-832962959ffe",
   "metadata": {
    "tags": []
   },
   "outputs": [
    {
     "name": "stdout",
     "output_type": "stream",
     "text": [
      "Transformation Pipeline and Model Successfully Saved\n"
     ]
    },
    {
     "data": {
      "text/plain": [
       "(Pipeline(memory=FastMemory(location=/tmp/joblib),\n",
       "          steps=[('label_encoding',\n",
       "                  TransformerWrapperWithInverse(exclude=None, include=None,\n",
       "                                                transformer=LabelEncoder())),\n",
       "                 ('numerical_imputer',\n",
       "                  TransformerWrapper(exclude=None,\n",
       "                                     include=['Coccion', 'T_desgrasante',\n",
       "                                              'Composicion', 'Densidad',\n",
       "                                              'Textura', 'Grosor₍mm)',\n",
       "                                              'Tamaño(cm)', 'Acabado_Interno',\n",
       "                                              'Acabado_Externo', 'Durez...\n",
       "                  RandomForestClassifier(bootstrap=True, ccp_alpha=0.0,\n",
       "                                         class_weight=None, criterion='gini',\n",
       "                                         max_depth=None, max_features='sqrt',\n",
       "                                         max_leaf_nodes=None, max_samples=None,\n",
       "                                         min_impurity_decrease=0.0,\n",
       "                                         min_samples_leaf=1, min_samples_split=2,\n",
       "                                         min_weight_fraction_leaf=0.0,\n",
       "                                         n_estimators=100, n_jobs=-1,\n",
       "                                         oob_score=False, random_state=123,\n",
       "                                         verbose=0, warm_start=False))],\n",
       "          verbose=False),\n",
       " './intermediate_data/classifier.pkl')"
      ]
     },
     "execution_count": 33,
     "metadata": {},
     "output_type": "execute_result"
    }
   ],
   "source": [
    "save_model(final_model, model_name = './intermediate_data/classifier',verbose=True)\n"
   ]
  },
  {
   "cell_type": "markdown",
   "id": "373fa633-7bfb-4ffb-a1fa-82b428a69893",
   "metadata": {},
   "source": [
    "### Conclusión:\n",
    "\n",
    "Hemos desarrollado un flujo de trabaj para clasificar cerámica arqueológica usando herramientas de Machine Learning.\n",
    "Como resultado tenemos un modelo pre-entrenado listo para usar en nuevos casos\n",
    "\n",
    "\n",
    "* Ve a [caso de uso](Proof-of-concept.ipynb) para ver la utilización del modelo pre-entrenado.\n"
   ]
  }
 ],
 "metadata": {
  "kernelspec": {
   "display_name": "Python 3 (ipykernel)",
   "language": "python",
   "name": "python3"
  },
  "language_info": {
   "codemirror_mode": {
    "name": "ipython",
    "version": 3
   },
   "file_extension": ".py",
   "mimetype": "text/x-python",
   "name": "python",
   "nbconvert_exporter": "python",
   "pygments_lexer": "ipython3",
   "version": "3.8.10"
  }
 },
 "nbformat": 4,
 "nbformat_minor": 5
}
